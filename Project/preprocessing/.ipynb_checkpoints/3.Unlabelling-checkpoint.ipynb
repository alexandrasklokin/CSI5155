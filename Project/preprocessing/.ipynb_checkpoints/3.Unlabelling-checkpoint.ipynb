{
 "cells": [
  {
   "cell_type": "code",
   "execution_count": 116,
   "metadata": {},
   "outputs": [],
   "source": [
    "import pandas as pd\n",
    "import math"
   ]
  },
  {
   "cell_type": "code",
   "execution_count": 117,
   "metadata": {},
   "outputs": [],
   "source": [
    "def Unlabel(df, filename, target, unlabel_percentage):\n",
    "    total_size = len(df.index)\n",
    "    unlabeled_size = math.floor(unlabel_percentage*total_size)\n",
    "    unlabeled_df = df.copy().sample(frac = 1).reset_index(drop=True)\n",
    "\n",
    "    column = df[target].tolist()\n",
    "    \n",
    "    for i in range(unlabeled_size):\n",
    "        column[i] = ''\n",
    "        \n",
    "    unlabeled_df[target] = column    \n",
    "    unlabeled_df = unlabeled_df.copy().sample(frac = 1).reset_index(drop=True)\n",
    "    unlabeled_df.to_csv(filename)"
   ]
  },
  {
   "cell_type": "code",
   "execution_count": 118,
   "metadata": {},
   "outputs": [],
   "source": [
    "filename1 = 'online_shoppers_intentions'\n",
    "df1r = pd.read_csv(\"../data/train/noresampling/\"+filename1+\"_0.csv\", index_col=0)\n",
    "df1u = pd.read_csv(\"../data/train/undersampled/\"+filename1+\"_0.csv\", index_col=0)\n",
    "df1o = pd.read_csv(\"../data/train/oversampled/\"+filename1+\"_0.csv\", index_col=0)\n",
    "target1 = 'Revenue'\n",
    "\n",
    "percentages = [10, 20, 50, 90, 95]\n",
    "\n",
    "for p in percentages:\n",
    "    Unlabel(df1r, '../data/train/noresampling/'+filename1+'_'+str(p)+'.csv', target1, p/100)\n",
    "    Unlabel(df1u, '../data/train/undersampled/'+filename1+'_'+str(p)+'.csv', target1, p/100)\n",
    "    Unlabel(df1o, '../data/train/oversampled/'+filename1+'_'+str(p)+'.csv', target1, p/100)"
   ]
  },
  {
   "cell_type": "code",
   "execution_count": null,
   "metadata": {},
   "outputs": [],
   "source": [
    "filename2 = 'marketing_campaign'\n",
    "df2r = pd.read_csv(\"../data/train/noresampling/\"+filename2+\"_0.csv\", index_col=0)\n",
    "df2u = pd.read_csv(\"../data/train/undersampled/\"+filename2+\"_0.csv\", index_col=0)\n",
    "df2o = pd.read_csv(\"../data/train/oversampled/\"+filename2+\"_0.csv\", index_col=0)\n",
    "target2 = 'Teenhome'\n",
    "\n",
    "percentages = [10, 20, 50, 90, 95]\n",
    "\n",
    "for p in percentages:\n",
    "    Unlabel(df2r, '../data/train/noresampling/'+filename2+'_'+str(p)+'.csv', target2, p/100)\n",
    "    Unlabel(df2u, '../data/train/undersampled/'+filename2+'_'+str(p)+'.csv', target2, p/100)\n",
    "    Unlabel(df2o, '../data/train/oversampled/'+filename2+'_'+str(p)+'.csv', target2, p/100)"
   ]
  },
  {
   "cell_type": "code",
   "execution_count": 121,
   "metadata": {},
   "outputs": [],
   "source": [
    "filename3 = 'heart'\n",
    "df3r = pd.read_csv(\"../data/train/noresampling/\"+filename3+\"_0.csv\", index_col=0)\n",
    "df3u = pd.read_csv(\"../data/train/undersampled/\"+filename3+\"_0.csv\", index_col=0)\n",
    "df3o = pd.read_csv(\"../data/train/oversampled/\"+filename3+\"_0.csv\", index_col=0)\n",
    "target3 = 'target'\n",
    "\n",
    "percentages = [10, 20, 50, 90, 95]\n",
    "\n",
    "for p in percentages:\n",
    "    Unlabel(df3r, '../data/train/noresampling/'+filename3+'_'+str(p)+'.csv', target3, p/100)\n",
    "    Unlabel(df3u, '../data/train/undersampled/'+filename3+'_'+str(p)+'.csv', target3, p/100)\n",
    "    Unlabel(df3o, '../data/train/oversampled/'+filename3+'_'+str(p)+'.csv', target3, p/100)"
   ]
  },
  {
   "cell_type": "code",
   "execution_count": null,
   "metadata": {},
   "outputs": [],
   "source": []
  }
 ],
 "metadata": {
  "kernelspec": {
   "display_name": "Python 3",
   "language": "python",
   "name": "python3"
  },
  "language_info": {
   "codemirror_mode": {
    "name": "ipython",
    "version": 3
   },
   "file_extension": ".py",
   "mimetype": "text/x-python",
   "name": "python",
   "nbconvert_exporter": "python",
   "pygments_lexer": "ipython3",
   "version": "3.8.5"
  }
 },
 "nbformat": 4,
 "nbformat_minor": 4
}

{
 "cells": [
  {
   "cell_type": "code",
   "execution_count": 32,
   "metadata": {},
   "outputs": [],
   "source": [
    "import pandas as pd\n",
    "import math\n",
    "import numpy as np"
   ]
  },
  {
   "cell_type": "markdown",
   "metadata": {},
   "source": [
    "# Datasets"
   ]
  },
  {
   "cell_type": "code",
   "execution_count": 5,
   "metadata": {},
   "outputs": [
    {
     "name": "stdout",
     "output_type": "stream",
     "text": [
      "(12330, 18)\n",
      "0    10422\n",
      "1     1908\n",
      "Name: Revenue, dtype: int64\n"
     ]
    }
   ],
   "source": [
    "filename1 = 'online_shoppers_intentions'\n",
    "df1 = pd.read_csv(\"../data/processed/\"+filename1+\".csv\", index_col=0)\n",
    "target1 = 'Revenue'\n",
    "\n",
    "print(df1.shape)\n",
    "print(df1[target1].value_counts())"
   ]
  },
  {
   "cell_type": "code",
   "execution_count": 9,
   "metadata": {},
   "outputs": [
    {
     "name": "stdout",
     "output_type": "stream",
     "text": [
      "(2240, 26)\n",
      "0    1158\n",
      "1    1082\n",
      "Name: Teenhome, dtype: int64\n"
     ]
    }
   ],
   "source": [
    "filename2 = 'marketing_campaign'\n",
    "df2 = pd.read_csv(\"../data/processed/\"+filename2+\".csv\", index_col=0)\n",
    "target2 = 'Teenhome'\n",
    "\n",
    "print(df2.shape)\n",
    "print(df2[target2].value_counts())"
   ]
  },
  {
   "cell_type": "code",
   "execution_count": 10,
   "metadata": {},
   "outputs": [
    {
     "name": "stdout",
     "output_type": "stream",
     "text": [
      "(303, 14)\n",
      "1    165\n",
      "0    138\n",
      "Name: target, dtype: int64\n"
     ]
    }
   ],
   "source": [
    "filename3 = 'heart'\n",
    "df3 = pd.read_csv(\"../data/processed/\"+filename3+\".csv\", index_col=0)\n",
    "target3 = 'target'\n",
    "\n",
    "print(df3.shape)\n",
    "print(df3[target3].value_counts())"
   ]
  },
  {
   "cell_type": "markdown",
   "metadata": {},
   "source": [
    "# Experimental results"
   ]
  },
  {
   "cell_type": "code",
   "execution_count": 57,
   "metadata": {},
   "outputs": [],
   "source": [
    "st_df1 = pd.read_csv(\"../pred/selftraining/\"+filename1+\"_metrics.csv\", index_col=0)\n",
    "st_df2 = pd.read_csv(\"../pred/selftraining/\"+filename2+\"_metrics.csv\", index_col=0)\n",
    "st_df3 = pd.read_csv(\"../pred/selftraining/\"+filename3+\"_metrics.csv\", index_col=0)\n",
    "\n",
    "sb_df1 = pd.read_csv(\"../pred/semiboost/\"+filename1+\"_metrics.csv\", index_col=0)\n",
    "sb_df2 = pd.read_csv(\"../pred/semiboost/\"+filename2+\"_metrics.csv\", index_col=0)\n",
    "sb_df3 = pd.read_csv(\"../pred/semiboost/\"+filename3+\"_metrics.csv\", index_col=0)\n",
    "\n",
    "lb_df1 = pd.read_csv(\"../pred/labelpropagation/\"+filename1+\"_metrics.csv\", index_col=0)\n",
    "lb_df2 = pd.read_csv(\"../pred/labelpropagation/\"+filename2+\"_metrics.csv\", index_col=0)\n",
    "lb_df3 = pd.read_csv(\"../pred/labelpropagation/\"+filename3+\"_metrics.csv\", index_col=0)"
   ]
  },
  {
   "cell_type": "code",
   "execution_count": 58,
   "metadata": {},
   "outputs": [],
   "source": [
    "def StringificationResults(df):\n",
    "    string = ''\n",
    "\n",
    "    for resampling in [('noresampling','None'),('undersampling','Under'),('oversampling','Over')]:\n",
    "        #string = string+\"______________________________________________________________________________________ \\n\"\n",
    "        for label_level in ['0','10','20','50','90','95']:\n",
    "            f = np.round(df.loc['f1_'+label_level,resampling[0]],2)\n",
    "            a = np.round(df.loc['accuracy_'+label_level,resampling[0]],2)\n",
    "            auc = np.round(df.loc['auc_'+label_level,resampling[0]],2)\n",
    "            t = np.round(df.loc['time_'+label_level,resampling[0]],2)\n",
    "            if label_level=='95':\n",
    "                string = string + \"{} & \"+label_level+\" & \"+str(f)+\" & \"+str(a)+\" & \"+str(auc)+\" & \"+str(t)+\" \\\\\\ \\hline \\n\"\n",
    "            elif label_level=='0':\n",
    "                string = string + \"\\\\multirow{6}{*}{\"+resampling[1]+\"} & \"+label_level+\" & \"+str(f)+\" & \"+str(a)+\" & \"+str(auc)+\" & \"+str(t)+\" \\\\\\ \\n\"               \n",
    "            else:\n",
    "                string = string + \"{} & \"+label_level+\" & \"+str(f)+\" & \"+str(a)+\" & \"+str(auc)+\" & \"+str(t)+\" \\\\\\ \\n\"\n",
    "\n",
    "    print(string)"
   ]
  },
  {
   "cell_type": "code",
   "execution_count": 59,
   "metadata": {},
   "outputs": [
    {
     "name": "stdout",
     "output_type": "stream",
     "text": [
      "\\multicolumn{6}{| c | }{Online\\_Shopping\\_Intention} \\\\ \\hline\n",
      "\\multirow{6}{*}{None} & 0 & 88.38 & 88.24 & 89.54 & 0.08 \\\\ \n",
      "{} & 10 & 77.44 & 84.51 & 35.58 & 0.1 \\\\ \n",
      "{} & 20 & 77.45 & 84.54 & 42.42 & 0.1 \\\\ \n",
      "{} & 50 & 77.43 & 84.48 & 61.21 & 0.1 \\\\ \n",
      "{} & 90 & 78.21 & 84.16 & 50.97 & 0.1 \\\\ \n",
      "{} & 95 & 77.46 & 84.05 & 49.3 & 0.08 \\\\ \\hline \n",
      "\\multirow{6}{*}{Under} & 0 & 87.74 & 86.64 & 92.5 & 0.67 \\\\ \n",
      "{} & 10 & 40.94 & 35.88 & 50.43 & 0.75 \\\\ \n",
      "{} & 20 & 22.95 & 24.38 & 50.33 & 0.67 \\\\ \n",
      "{} & 50 & 12.91 & 19.57 & 60.75 & 0.66 \\\\ \n",
      "{} & 90 & 26.6 & 26.76 & 56.06 & 0.52 \\\\ \n",
      "{} & 95 & 41.75 & 36.74 & 50.2 & 0.47 \\\\ \\hline \n",
      "\\multirow{6}{*}{Over} & 0 & 88.38 & 86.16 & 91.82 & 1.98 \\\\ \n",
      "{} & 10 & 77.44 & 20.28 & 42.52 & 2.77 \\\\ \n",
      "{} & 20 & 77.45 & 16.17 & 53.84 & 1.73 \\\\ \n",
      "{} & 50 & 77.43 & 15.79 & 56.2 & 1.29 \\\\ \n",
      "{} & 90 & 78.21 & 15.46 & 52.11 & 0.7 \\\\ \n",
      "{} & 95 & 77.46 & 17.98 & 30.58 & 0.64 \\\\ \\hline \n",
      "\n",
      "\\multicolumn{6}{| c | }{Marketing\\_Campaign\\} \\\\ \\hline\n",
      "\\multirow{6}{*}{None} & 0 & 91.37 & 91.37 & 97.33 & 1.57 \\\\ \n",
      "{} & 10 & 49.75 & 50.0 & 50.36 & 5.26 \\\\ \n",
      "{} & 20 & 46.74 & 46.73 & 47.0 & 7.93 \\\\ \n",
      "{} & 50 & 51.63 & 51.64 & 53.81 & 25.09 \\\\ \n",
      "{} & 90 & 42.2 & 43.75 & 43.04 & 29.14 \\\\ \n",
      "{} & 95 & 48.94 & 49.26 & 46.87 & 15.87 \\\\ \\hline \n",
      "\\multirow{6}{*}{Under} & 0 & 94.5 & 94.49 & 98.79 & 0.84 \\\\ \n",
      "{} & 10 & 47.39 & 47.47 & 49.21 & 2.71 \\\\ \n",
      "{} & 20 & 51.88 & 52.08 & 53.42 & 1.52 \\\\ \n",
      "{} & 50 & 41.94 & 43.01 & 44.12 & 2.41 \\\\ \n",
      "{} & 90 & 40.17 & 49.55 & 56.99 & 5.67 \\\\ \n",
      "{} & 95 & 31.53 & 48.36 & 56.24 & 5.55 \\\\ \\hline \n",
      "\\multirow{6}{*}{Over} & 0 & 91.37 & 88.84 & 95.53 & 0.77 \\\\ \n",
      "{} & 10 & 49.75 & 55.21 & 56.87 & 3.04 \\\\ \n",
      "{} & 20 & 46.74 & 53.57 & 55.65 & 2.42 \\\\ \n",
      "{} & 50 & 51.63 & 46.28 & 48.16 & 5.48 \\\\ \n",
      "{} & 90 & 42.2 & 48.36 & 33.89 & 6.36 \\\\ \n",
      "{} & 95 & 48.94 & 50.0 & 67.37 & 5.23 \\\\ \\hline \n",
      "\n",
      "\\multicolumn{6}{| c | }{Heart} \\\\ \\hline\n",
      "\\multirow{6}{*}{None} & 0 & 63.95 & 65.93 & 70.1 & 1.3 \\\\ \n",
      "{} & 10 & 30.84 & 30.77 & 24.2 & 0.71 \\\\ \n",
      "{} & 20 & 80.22 & 80.22 & 83.27 & 0.66 \\\\ \n",
      "{} & 50 & 62.78 & 67.03 & 78.58 & 0.79 \\\\ \n",
      "{} & 90 & 38.46 & 53.85 & 54.73 & 0.65 \\\\ \n",
      "{} & 95 & 38.97 & 54.94 & 80.58 & 0.63 \\\\ \\hline \n",
      "\\multirow{6}{*}{Under} & 0 & 31.52 & 45.06 & 49.46 & 0.03 \\\\ \n",
      "{} & 10 & 40.4 & 40.66 & 44.12 & 0.02 \\\\ \n",
      "{} & 20 & 46.3 & 48.35 & 59.85 & 0.03 \\\\ \n",
      "{} & 50 & 38.46 & 53.85 & 52.42 & 0.06 \\\\ \n",
      "{} & 90 & 60.76 & 61.54 & 60.17 & 0.06 \\\\ \n",
      "{} & 95 & 57.36 & 60.44 & 57.85 & 0.06 \\\\ \\hline \n",
      "\\multirow{6}{*}{Over} & 0 & 63.95 & 40.66 & 46.63 & 0.02 \\\\ \n",
      "{} & 10 & 30.84 & 53.85 & 54.24 & 0.02 \\\\ \n",
      "{} & 20 & 80.22 & 57.14 & 45.63 & 0.03 \\\\ \n",
      "{} & 50 & 62.78 & 49.45 & 43.32 & 0.04 \\\\ \n",
      "{} & 90 & 38.46 & 60.44 & 61.07 & 0.04 \\\\ \n",
      "{} & 95 & 38.97 & 51.65 & 50.95 & 0.06 \\\\ \\hline \n",
      "\n"
     ]
    }
   ],
   "source": [
    "# Self-training \n",
    "\n",
    "print(\"\\\\multicolumn{6}{| c | }{Online\\\\_Shopping\\\\_Intention} \\\\\\ \\\\hline\")\n",
    "StringificationResults(st_df1)\n",
    "print(\"\\\\multicolumn{6}{| c | }{Marketing\\\\_Campaign} \\\\\\ \\\\hline\")\n",
    "StringificationResults(st_df2)\n",
    "print(\"\\\\multicolumn{6}{| c | }{Heart} \\\\\\ \\\\hline\")\n",
    "StringificationResults(st_df3)"
   ]
  },
  {
   "cell_type": "code",
   "execution_count": 47,
   "metadata": {},
   "outputs": [
    {
     "name": "stdout",
     "output_type": "stream",
     "text": [
      "______________________________________ Online Shopping Intention\n",
      "\\multirow{6}{*}{None} & 0 & 89.62 & 90.19 & 92.77 & 16.84 \\\\ \n",
      "{} & 10 & 4.14 & 15.46 & 50.61 & 167.43 \\\\ \n",
      "{} & 20 & 4.14 & 15.46 & 48.19 & 186.88 \\\\ \n",
      "{} & 50 & 4.14 & 15.46 & 51.95 & 197.68 \\\\ \n",
      "{} & 90 & 4.14 & 15.46 & 48.4 & 190.14 \\\\ \n",
      "{} & 95 & 4.14 & 15.46 & 47.0 & 199.5 \\\\ \\hline \n",
      "\\multirow{6}{*}{Under} & 0 & 89.97 & 88.97 & 97.22 & 1.8 \\\\ \n",
      "{} & 10 & 4.14 & 15.46 & 46.82 & 14.19 \\\\ \n",
      "{} & 20 & 4.14 & 15.46 & 56.22 & 24.17 \\\\ \n",
      "{} & 50 & 4.14 & 15.46 & 34.18 & 19.51 \\\\ \n",
      "{} & 90 & 4.14 & 15.46 & 56.32 & 22.51 \\\\ \n",
      "{} & 95 & 4.14 & 15.46 & 54.89 & 21.52 \\\\ \\hline \n",
      "\\multirow{6}{*}{Over} & 0 & 89.62 & 89.78 & 92.88 & 111.85 \\\\ \n",
      "{} & 10 & 4.14 & 15.46 & 52.61 & 776.52 \\\\ \n",
      "{} & 20 & 4.14 & 15.46 & 49.95 & 635.3 \\\\ \n",
      "{} & 50 & 4.14 & 15.46 & 47.52 & 965.95 \\\\ \n",
      "{} & 90 & 4.14 & 15.46 & 47.27 & 963.41 \\\\ \n",
      "{} & 95 & 4.14 & 15.46 & 41.17 & 924.91 \\\\ \\hline \n",
      "\n",
      "______________________________________ Marketing Campaign\n",
      "\\multirow{6}{*}{None} & 0 & 89.88 & 89.88 & 96.04 & 0.92 \\\\ \n",
      "{} & 10 & 31.53 & 48.36 & 52.23 & 10.37 \\\\ \n",
      "{} & 20 & 31.53 & 48.36 & 53.46 & 11.98 \\\\ \n",
      "{} & 50 & 31.53 & 48.36 & 57.17 & 11.65 \\\\ \n",
      "{} & 90 & 31.53 & 48.36 & 48.0 & 11.66 \\\\ \n",
      "{} & 95 & 31.53 & 48.36 & 46.9 & 9.67 \\\\ \\hline \n",
      "\\multirow{6}{*}{Under} & 0 & 96.58 & 96.58 & 99.36 & 0.78 \\\\ \n",
      "{} & 10 & 31.53 & 48.36 & 48.73 & 8.66 \\\\ \n",
      "{} & 20 & 31.53 & 48.36 & 50.72 & 10.77 \\\\ \n",
      "{} & 50 & 31.53 & 48.36 & 51.96 & 10.31 \\\\ \n",
      "{} & 90 & 31.53 & 48.36 & 53.61 & 10.36 \\\\ \n",
      "{} & 95 & 31.53 & 48.36 & 56.25 & 10.51 \\\\ \\hline \n",
      "\\multirow{6}{*}{Over} & 0 & 89.88 & 89.58 & 95.47 & 0.83 \\\\ \n",
      "{} & 10 & 31.53 & 48.36 & 58.57 & 9.19 \\\\ \n",
      "{} & 20 & 31.53 & 48.36 & 52.18 & 10.19 \\\\ \n",
      "{} & 50 & 31.53 & 48.36 & 47.77 & 12.02 \\\\ \n",
      "{} & 90 & 31.53 & 48.36 & 44.17 & 10.24 \\\\ \n",
      "{} & 95 & 31.53 & 48.36 & 56.21 & 9.79 \\\\ \\hline \n",
      "\n",
      "______________________________________ Heart\n",
      "\\multirow{6}{*}{None} & 0 & 60.44 & 60.44 & 67.07 & 0.35 \\\\ \n",
      "{} & 10 & 38.97 & 54.94 & 35.2 & 2.26 \\\\ \n",
      "{} & 20 & 38.97 & 54.94 & 70.24 & 2.23 \\\\ \n",
      "{} & 50 & 38.97 & 54.94 & 63.83 & 2.46 \\\\ \n",
      "{} & 90 & 38.97 & 54.94 & 45.63 & 2.68 \\\\ \n",
      "{} & 95 & 38.97 & 54.94 & 74.29 & 2.86 \\\\ \\hline \n",
      "\\multirow{6}{*}{Under} & 0 & 39.66 & 39.56 & 36.02 & 0.25 \\\\ \n",
      "{} & 10 & 38.97 & 54.94 & 54.15 & 1.58 \\\\ \n",
      "{} & 20 & 38.97 & 54.94 & 41.07 & 1.78 \\\\ \n",
      "{} & 50 & 38.97 & 54.94 & 37.15 & 2.24 \\\\ \n",
      "{} & 90 & 38.97 & 54.94 & 51.32 & 2.33 \\\\ \n",
      "{} & 95 & 38.97 & 54.94 & 50.73 & 2.33 \\\\ \\hline \n",
      "\\multirow{6}{*}{Over} & 0 & 60.44 & 47.25 & 50.39 & 0.22 \\\\ \n",
      "{} & 10 & 38.97 & 54.94 & 66.88 & 1.55 \\\\ \n",
      "{} & 20 & 38.97 & 54.94 & 53.02 & 1.85 \\\\ \n",
      "{} & 50 & 38.97 & 54.94 & 35.54 & 2.22 \\\\ \n",
      "{} & 90 & 38.97 & 54.94 & 53.58 & 2.34 \\\\ \n",
      "{} & 95 & 38.97 & 54.94 & 58.63 & 2.36 \\\\ \\hline \n",
      "\n"
     ]
    }
   ],
   "source": [
    "# SemiBoost\n",
    "\n",
    "print(\"\\\\multicolumn{6}{| c | }{Online\\\\_Shopping\\\\_Intention} \\\\\\ \\\\hline\")\n",
    "StringificationResults(sb_df1)\n",
    "print(\"\\\\multicolumn{6}{| c | }{Marketing\\\\_Campaign} \\\\\\ \\\\hline\")\n",
    "StringificationResults(sb_df2)\n",
    "print(\"\\\\multicolumn{6}{| c | }{Heart} \\\\\\ \\\\hline\")\n",
    "StringificationResults(sb_df3)"
   ]
  },
  {
   "cell_type": "code",
   "execution_count": 48,
   "metadata": {},
   "outputs": [
    {
     "name": "stdout",
     "output_type": "stream",
     "text": [
      "______________________________________ Online Shopping Intention\n",
      "\\multirow{6}{*}{None} & 0 & 77.45 & 84.54 & 75.45 & 9.96 \\\\ \n",
      "{} & 10 & 77.45 & 84.54 & 39.08 & 10.82 \\\\ \n",
      "{} & 20 & 77.45 & 84.54 & 51.56 & 10.36 \\\\ \n",
      "{} & 50 & 77.45 & 84.54 & 54.83 & 10.49 \\\\ \n",
      "{} & 90 & 77.45 & 84.54 & 39.99 & 14.46 \\\\ \n",
      "{} & 95 & 77.45 & 84.54 & 36.76 & 20.78 \\\\ \\hline \n",
      "\\multirow{6}{*}{Under} & 0 & 65.78 & 60.29 & 73.97 & 3.68 \\\\ \n",
      "{} & 10 & 4.14 & 15.46 & 42.73 & 3.72 \\\\ \n",
      "{} & 20 & 4.14 & 15.46 & 57.29 & 3.75 \\\\ \n",
      "{} & 50 & 4.14 & 15.46 & 62.69 & 3.97 \\\\ \n",
      "{} & 90 & 4.14 & 15.46 & 48.02 & 4.24 \\\\ \n",
      "{} & 95 & 4.14 & 15.46 & 57.02 & 6.32 \\\\ \\hline \n",
      "\\multirow{6}{*}{Over} & 0 & 77.45 & 72.97 & 79.42 & 16.12 \\\\ \n",
      "{} & 10 & 77.45 & 16.27 & 41.39 & 19.06 \\\\ \n",
      "{} & 20 & 77.45 & 15.44 & 53.22 & 16.65 \\\\ \n",
      "{} & 50 & 77.45 & 15.46 & 49.82 & 17.74 \\\\ \n",
      "{} & 90 & 77.45 & 15.46 & 60.52 & 27.49 \\\\ \n",
      "{} & 95 & 77.45 & 15.46 & 47.76 & 36.72 \\\\ \\hline \n",
      "\n",
      "______________________________________ Marketing Campaign\n",
      "\\multirow{6}{*}{None} & 0 & 74.54 & 74.55 & 83.98 & 0.63 \\\\ \n",
      "{} & 10 & 44.59 & 48.96 & 47.14 & 0.49 \\\\ \n",
      "{} & 20 & 40.01 & 42.11 & 35.7 & 0.53 \\\\ \n",
      "{} & 50 & 56.69 & 59.52 & 68.67 & 0.51 \\\\ \n",
      "{} & 90 & 31.53 & 48.36 & 31.21 & 0.72 \\\\ \n",
      "{} & 95 & 36.54 & 41.22 & 41.43 & 0.89 \\\\ \\hline \n",
      "\\multirow{6}{*}{Under} & 0 & 74.94 & 75.15 & 84.29 & 0.41 \\\\ \n",
      "{} & 10 & 50.9 & 51.04 & 49.75 & 0.41 \\\\ \n",
      "{} & 20 & 49.57 & 53.72 & 62.82 & 0.43 \\\\ \n",
      "{} & 50 & 31.46 & 48.21 & 46.0 & 0.45 \\\\ \n",
      "{} & 90 & 31.53 & 48.36 & 47.81 & 0.6 \\\\ \n",
      "{} & 95 & 31.53 & 48.36 & 54.94 & 0.65 \\\\ \\hline \n",
      "\\multirow{6}{*}{Over} & 0 & 74.54 & 75.0 & 84.2 & 0.5 \\\\ \n",
      "{} & 10 & 44.59 & 43.6 & 44.96 & 0.53 \\\\ \n",
      "{} & 20 & 40.01 & 50.89 & 52.29 & 0.49 \\\\ \n",
      "{} & 50 & 56.69 & 49.7 & 45.38 & 0.45 \\\\ \n",
      "{} & 90 & 31.53 & 48.36 & 37.35 & 0.6 \\\\ \n",
      "{} & 95 & 36.54 & 48.36 & 62.22 & 0.83 \\\\ \\hline \n",
      "\n",
      "______________________________________ Heart\n",
      "\\multirow{6}{*}{None} & 0 & 60.51 & 60.44 & 61.17 & 0.04 \\\\ \n",
      "{} & 10 & 40.8 & 40.66 & 41.61 & 0.03 \\\\ \n",
      "{} & 20 & 58.13 & 58.24 & 60.39 & 0.03 \\\\ \n",
      "{} & 50 & 57.85 & 59.34 & 60.54 & 0.03 \\\\ \n",
      "{} & 90 & 57.78 & 58.24 & 52.61 & 0.04 \\\\ \n",
      "{} & 95 & 64.44 & 64.83 & 71.39 & 0.04 \\\\ \\hline \n",
      "\\multirow{6}{*}{Under} & 0 & 44.05 & 43.96 & 42.98 & 0.03 \\\\ \n",
      "{} & 10 & 52.75 & 52.75 & 53.8 & 0.04 \\\\ \n",
      "{} & 20 & 41.69 & 41.76 & 41.98 & 0.03 \\\\ \n",
      "{} & 50 & 51.01 & 52.75 & 44.02 & 0.04 \\\\ \n",
      "{} & 90 & 38.46 & 38.46 & 40.71 & 0.03 \\\\ \n",
      "{} & 95 & 56.46 & 59.34 & 58.37 & 0.03 \\\\ \\hline \n",
      "\\multirow{6}{*}{Over} & 0 & 60.51 & 53.85 & 51.56 & 0.03 \\\\ \n",
      "{} & 10 & 40.8 & 53.85 & 51.9 & 0.04 \\\\ \n",
      "{} & 20 & 58.13 & 57.14 & 49.07 & 0.03 \\\\ \n",
      "{} & 50 & 57.85 & 38.46 & 37.61 & 0.04 \\\\ \n",
      "{} & 90 & 57.78 & 47.25 & 53.68 & 0.03 \\\\ \n",
      "{} & 95 & 64.44 & 47.25 & 43.95 & 0.03 \\\\ \\hline \n",
      "\n"
     ]
    }
   ],
   "source": [
    "# Label Propagation\n",
    "\n",
    "print(\"\\\\multicolumn{6}{| c | }{Online\\\\_Shopping\\\\_Intention} \\\\\\ \\\\hline\")\n",
    "StringificationResults(lb_df1)\n",
    "print(\"\\\\multicolumn{6}{| c | }{Marketing\\\\_Campaign} \\\\\\ \\\\hline\")\n",
    "StringificationResults(lb_df2)\n",
    "print(\"\\\\multicolumn{6}{| c | }{Heart} \\\\\\ \\\\hline\")\n",
    "StringificationResults(lb_df3)"
   ]
  },
  {
   "cell_type": "code",
   "execution_count": null,
   "metadata": {},
   "outputs": [],
   "source": []
  }
 ],
 "metadata": {
  "kernelspec": {
   "display_name": "Python 3",
   "language": "python",
   "name": "python3"
  },
  "language_info": {
   "codemirror_mode": {
    "name": "ipython",
    "version": 3
   },
   "file_extension": ".py",
   "mimetype": "text/x-python",
   "name": "python",
   "nbconvert_exporter": "python",
   "pygments_lexer": "ipython3",
   "version": "3.8.5"
  }
 },
 "nbformat": 4,
 "nbformat_minor": 4
}

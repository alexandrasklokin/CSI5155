{
 "cells": [
  {
   "cell_type": "code",
   "execution_count": 2,
   "metadata": {},
   "outputs": [],
   "source": [
    "import ipynb\n",
    "import pandas as pd\n",
    "import numpy as np\n",
    "\n",
    "from sklearn.neighbors import KNeighborsClassifier\n",
    "from sklearn.svm import SVC\n",
    "from sklearn.tree import DecisionTreeClassifier\n",
    "from sklearn.ensemble import RandomForestClassifier\n",
    "from sklearn.neural_network import MLPClassifier\n",
    "from sklearn.ensemble import GradientBoostingClassifier\n",
    "\n",
    "from sklearn.preprocessing import OrdinalEncoder\n",
    "from numpy import asarray\n",
    "from statistics import mean\n",
    "from sklearn.metrics import accuracy_score,f1_score"
   ]
  },
  {
   "cell_type": "code",
   "execution_count": 3,
   "metadata": {},
   "outputs": [],
   "source": [
    "import warnings\n",
    "warnings.filterwarnings('ignore')"
   ]
  },
  {
   "cell_type": "code",
   "execution_count": 7,
   "metadata": {},
   "outputs": [
    {
     "data": {
      "text/plain": [
       "0      0\n",
       "1      0\n",
       "2      1\n",
       "3      0\n",
       "4      1\n",
       "      ..\n",
       "207    1\n",
       "208    0\n",
       "209    1\n",
       "210    0\n",
       "211    1\n",
       "Name: target, Length: 212, dtype: category\n",
       "Categories (2, int64): [0, 1]"
      ]
     },
     "execution_count": 7,
     "metadata": {},
     "output_type": "execute_result"
    }
   ],
   "source": [
    "# ONLINE SHOPPING INTENTIONS\n",
    "\n",
    "filename1 = 'online_shoppers_intentions'\n",
    "df1r0 = pd.read_csv(\"../data/train/noresampling/\"+filename1+\"_0.csv\", index_col=0)\n",
    "df1u0 = pd.read_csv(\"../data/train/undersampled/\"+filename1+\"_0.csv\", index_col=0)\n",
    "df1o0 = pd.read_csv(\"../data/train/oversampled/\"+filename1+\"_0.csv\", index_col=0)\n",
    "df1t = pd.read_csv(\"../data/test/\"+filename1+\".csv\", index_col=0)\n",
    "target1 = 'Revenue'\n",
    "\n",
    "numerical_features1 = [\"Administrative\", \"Administrative_Duration\", \"Informational\", \"Informational_Duration\", \n",
    "                      \"ProductRelated\", \"ProductRelated_Duration\", \"BounceRates\", \"ExitRates\", \"PageValues\", \"SpecialDay\"]\n",
    "categorical_features1 = [\"OperatingSystems\", \"Browser\", \"Region\", \"TrafficType\", \"VisitorType\", \"Weekend\", \"Month\"]\n",
    "df1r0[categorical_features1] = df1r0[categorical_features1].astype('category') \n",
    "df1u0[categorical_features1] = df1u0[categorical_features1].astype('category') \n",
    "df1o0[categorical_features1] = df1o0[categorical_features1].astype('category') \n",
    "df1t[categorical_features1] = df1t[categorical_features1].astype('category')\n",
    "df1r0[target1] = df1r0[target1].astype('category') \n",
    "df1u0[target1] = df1u0[target1].astype('category')\n",
    "df1o0[target1] = df1o0[target1].astype('category')\n",
    "df1t[target1] = df1t[target1].astype('category')\n",
    "\n",
    "\n",
    "# MARKETING CAMPAIGN\n",
    "\n",
    "filename2 = 'marketing_campaign'\n",
    "df2r0 = pd.read_csv(\"../data/train/noresampling/\"+filename2+\"_0.csv\", index_col=0)\n",
    "df2u0 = pd.read_csv(\"../data/train/undersampled/\"+filename2+\"_0.csv\", index_col=0)\n",
    "df2o0 = pd.read_csv(\"../data/train/oversampled/\"+filename2+\"_0.csv\", index_col=0)\n",
    "df2t = pd.read_csv(\"../data/test/\"+filename2+\".csv\", index_col=0)\n",
    "target2 = 'Teenhome'\n",
    "\n",
    "numerical_features2 = ['Income','MntWines', 'MntFruits', 'MntMeatProducts', 'MntFishProducts','MntSweetProducts', \n",
    "                        'MntGoldProds','Year_Birth','Recency','NumDealsPurchases','NumWebPurchases',\n",
    "                        'NumCatalogPurchases','NumStorePurchases','NumWebVisitsMonth','Dt_Customer']\n",
    "categorical_features2 = ['Education','Marital_Status','Kidhome','AcceptedCmp3', \n",
    "                        'AcceptedCmp4', 'AcceptedCmp5', 'AcceptedCmp1', 'AcceptedCmp2','Complain','Response']\n",
    "df2r0[categorical_features2] = df2r0[categorical_features2].astype('category') \n",
    "df2u0[categorical_features2] = df2u0[categorical_features2].astype('category') \n",
    "df2o0[categorical_features2] = df2o0[categorical_features2].astype('category') \n",
    "df2t[categorical_features2] = df2t[categorical_features2].astype('category')\n",
    "df1t[categorical_features1] = df1t[categorical_features1].astype('category')\n",
    "df2r0[target2] = df2r0[target2].astype('category') \n",
    "df2u0[target2] = df2u0[target2].astype('category')\n",
    "df2o0[target2] = df2o0[target2].astype('category')\n",
    "df2t[target2] = df2t[target2].astype('category')\n",
    "\n",
    "# HEART\n",
    "\n",
    "filename3 = 'heart'\n",
    "df3r0 = pd.read_csv(\"../data/train/noresampling/\"+filename3+\"_0.csv\", index_col=0)\n",
    "df3u0 = pd.read_csv(\"../data/train/undersampled/\"+filename3+\"_0.csv\", index_col=0)\n",
    "df3o0 = pd.read_csv(\"../data/train/oversampled/\"+filename3+\"_0.csv\", index_col=0)\n",
    "df3t = pd.read_csv(\"../data/test/\"+filename3+\".csv\", index_col=0)\n",
    "target3 = 'target'\n",
    "\n",
    "numerical_features3 = ['trestbps','chol','thalach','oldpeak', 'age']\n",
    "categorical_features3 = ['sex', 'cp','fbs','restecg','exang','slope','ca','thal']\n",
    "df3r0[categorical_features3] = df3r0[categorical_features3].astype('category') \n",
    "df3u0[categorical_features3] = df3u0[categorical_features3].astype('category') \n",
    "df3o0[categorical_features3] = df3o0[categorical_features3].astype('category') \n",
    "df3t[categorical_features3] = df3t[categorical_features3].astype('category') \n",
    "df1t[categorical_features1] = df1t[categorical_features1].astype('category')\n",
    "df3r0[target3] = df3r0[target3].astype('category') \n",
    "df3u0[target3] = df3u0[target3].astype('category')\n",
    "df3o0[target3] = df3o0[target3].astype('category')\n",
    "df3t[target3] = df3t[target3].astype('category')\n",
    "\n",
    "# Sanity Check\n",
    "#df2t.info(verbose=True)"
   ]
  },
  {
   "cell_type": "code",
   "execution_count": 35,
   "metadata": {},
   "outputs": [],
   "source": [
    "knn = KNeighborsClassifier()\n",
    "svm =  SVC()\n",
    "dt = DecisionTreeClassifier()\n",
    "rf = RandomForestClassifier()\n",
    "mlp = MLPClassifier()\n",
    "gbe = GradientBoostingClassifier()\n",
    "\n",
    "mods = [knn, svm, dt, rf, mlp, gbe]\n",
    "model_names = ['KNN', \"SVM\", \"DT\", \"RF\", \"MLP\", \"GBE\"]"
   ]
  },
  {
   "cell_type": "code",
   "execution_count": 36,
   "metadata": {},
   "outputs": [],
   "source": [
    "def FindBestModel(dfr, dfu, dfo, dft, target, numerical_features, categorical_features, models, names):\n",
    "    \n",
    "    f1_scores_r = []\n",
    "    f1_scores_u = []\n",
    "    f1_scores_o = []\n",
    "    \n",
    "    Xr_train = dfr[numerical_features+categorical_features]\n",
    "    yr_train = dfr[target]\n",
    "    \n",
    "    Xu_train = dfu[numerical_features+categorical_features]\n",
    "    yu_train = dfu[target]\n",
    "    \n",
    "    Xo_train = dfo[numerical_features+categorical_features]\n",
    "    yo_train = dfo[target]\n",
    "    \n",
    "    X_test = dft[numerical_features+categorical_features]\n",
    "    y_test = dft[target]\n",
    "    \n",
    "    for mod in models:\n",
    "        mr = mod.fit(Xr_train, yr_train)\n",
    "        y_pred = mr.predict(X_test)\n",
    "        f1_scores_r.append(f1_score(y_test, y_pred, average='weighted'))\n",
    "        \n",
    "        mu = mod.fit(Xu_train, yu_train)\n",
    "        y_pred = mu.predict(X_test)\n",
    "        f1_scores_u.append(f1_score(y_test, y_pred, average='weighted'))\n",
    "        \n",
    "        mo = mod.fit(Xo_train, yo_train)\n",
    "        y_pred = mo.predict(X_test)\n",
    "        f1_scores_o.append(f1_score(y_test, y_pred, average='weighted'))\n",
    "        \n",
    "    r_max = f1_scores_r.index(max(f1_scores_r))\n",
    "    u_max = f1_scores_u.index(max(f1_scores_u))\n",
    "    o_max = f1_scores_o.index(max(f1_scores_o))\n",
    "        \n",
    "    print(\"No-resampling: \"+names[r_max], \"Undersampling: \"+names[u_max], \"Oversampling: \"+names[o_max])\n",
    "        "
   ]
  },
  {
   "cell_type": "code",
   "execution_count": 43,
   "metadata": {},
   "outputs": [
    {
     "name": "stdout",
     "output_type": "stream",
     "text": [
      "No-resampling: GBE Undersampling: RF Oversampling: RF\n"
     ]
    }
   ],
   "source": [
    "FindBestModel(df1r0, df1u0, df1o0, df1t, target1, numerical_features1, categorical_features1, mods, model_names)"
   ]
  },
  {
   "cell_type": "code",
   "execution_count": 44,
   "metadata": {},
   "outputs": [
    {
     "name": "stdout",
     "output_type": "stream",
     "text": [
      "No-resampling: GBE Undersampling: RF Oversampling: RF\n"
     ]
    }
   ],
   "source": [
    "FindBestModel(df2r0, df2u0, df2o0, df2t, target2, numerical_features2, categorical_features2, mods, model_names)"
   ]
  },
  {
   "cell_type": "code",
   "execution_count": 45,
   "metadata": {},
   "outputs": [
    {
     "name": "stdout",
     "output_type": "stream",
     "text": [
      "No-resampling: DT Undersampling: GBE Oversampling: GBE\n"
     ]
    }
   ],
   "source": [
    "FindBestModel(df3r0, df3u0, df3o0, df3t, target3, numerical_features3, categorical_features3, mods, model_names)"
   ]
  },
  {
   "cell_type": "code",
   "execution_count": null,
   "metadata": {},
   "outputs": [],
   "source": []
  }
 ],
 "metadata": {
  "kernelspec": {
   "display_name": "Python 3",
   "language": "python",
   "name": "python3"
  },
  "language_info": {
   "codemirror_mode": {
    "name": "ipython",
    "version": 3
   },
   "file_extension": ".py",
   "mimetype": "text/x-python",
   "name": "python",
   "nbconvert_exporter": "python",
   "pygments_lexer": "ipython3",
   "version": "3.8.5"
  }
 },
 "nbformat": 4,
 "nbformat_minor": 4
}

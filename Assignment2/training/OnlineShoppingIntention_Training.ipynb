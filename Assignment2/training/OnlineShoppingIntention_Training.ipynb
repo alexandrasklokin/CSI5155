{
 "cells": [
  {
   "cell_type": "code",
   "execution_count": 1,
   "metadata": {},
   "outputs": [],
   "source": [
    "import ipynb\n",
    "import pandas as pd\n",
    "import numpy as np\n",
    "\n",
    "from sklearn.neighbors import KNeighborsClassifier\n",
    "from sklearn.svm import SVC\n",
    "from sklearn.tree import DecisionTreeClassifier\n",
    "from sklearn.ensemble import RandomForestClassifier\n",
    "from sklearn.neural_network import MLPClassifier\n",
    "from sklearn.ensemble import GradientBoostingClassifier\n",
    "\n",
    "from sklearn.preprocessing import OrdinalEncoder\n",
    "from numpy import asarray\n",
    "from statistics import mean"
   ]
  },
  {
   "cell_type": "code",
   "execution_count": 2,
   "metadata": {},
   "outputs": [],
   "source": [
    "import warnings\n",
    "warnings.filterwarnings('ignore')"
   ]
  },
  {
   "cell_type": "code",
   "execution_count": 3,
   "metadata": {},
   "outputs": [],
   "source": [
    "from ipynb.fs.full.TrainingFunction import Train_Models_CV10\n",
    "from ipynb.fs.full.TrainingFunction import SavePredictionsToFile\n",
    "\n",
    "from ipynb.fs.full.ParameterTuning import ParameterTuning"
   ]
  },
  {
   "cell_type": "code",
   "execution_count": 4,
   "metadata": {},
   "outputs": [
    {
     "name": "stdout",
     "output_type": "stream",
     "text": [
      "Revenue distribution:\n",
      "0    10422\n",
      "1     1908\n",
      "Name: Revenue, dtype: int64\n"
     ]
    }
   ],
   "source": [
    "preprocessed_df = pd.read_csv(\"../data/preprocessedOnlineShoppingData.csv\", index_col=0)\n",
    "\n",
    "categorical_features = ['VisitorType_New_Visitor', 'VisitorType_Other', 'VisitorType_Returning_Visitor', 'Month_Aug', 'Month_Dec', 'Month_Feb', 'Month_Jul', 'Month_June', 'Month_Mar', 'Month_May', 'Month_Nov', 'Month_Oct', 'Month_Sep']\n",
    "target = \"Revenue\"\n",
    "\n",
    "# Convert categorical feature types\n",
    "preprocessed_df[categorical_features] = preprocessed_df[categorical_features].astype('category') \n",
    "preprocessed_df[target] = preprocessed_df[target].astype('category') \n",
    "\n",
    "print('Revenue distribution:\\n'+ str(preprocessed_df['Revenue'].value_counts()))"
   ]
  },
  {
   "cell_type": "code",
   "execution_count": 5,
   "metadata": {},
   "outputs": [
    {
     "name": "stdout",
     "output_type": "stream",
     "text": [
      "Random over-sampling:\n",
      "1    10422\n",
      "0    10422\n",
      "Name: Revenue, dtype: int64\n"
     ]
    }
   ],
   "source": [
    "# Balancing (oversampling)\n",
    "count_class_0, count_class_1 = preprocessed_df['Revenue'].value_counts()\n",
    "df_class_0 = preprocessed_df[preprocessed_df['Revenue'] == 0]\n",
    "df_class_1 = preprocessed_df[preprocessed_df['Revenue'] == 1]\n",
    "# Oversample\n",
    "df_class_1_over = df_class_1.sample(count_class_0, replace=True)\n",
    "oversampled_df = pd.concat([df_class_0, df_class_1_over], axis=0)\n",
    "# Split back into X_train and y_train    \n",
    "print('Random over-sampling:\\n'+ str(oversampled_df['Revenue'].value_counts()))"
   ]
  },
  {
   "cell_type": "markdown",
   "metadata": {},
   "source": [
    "# Models"
   ]
  },
  {
   "cell_type": "markdown",
   "metadata": {},
   "source": [
    "Get Parameters from \"OnlineShoppingIntention_ParameterTuning\""
   ]
  },
  {
   "cell_type": "code",
   "execution_count": 6,
   "metadata": {},
   "outputs": [],
   "source": [
    "knn_model = KNeighborsClassifier(n_neighbors=13, algorithm = 'brute', metric='manhattan', weights='uniform')\n",
    "rf_model = RandomForestClassifier(bootstrap= True, max_depth=10, max_features= 8, min_samples_leaf= 5, min_samples_split = 8, n_estimators = 100)\n",
    "dt_model = DecisionTreeClassifier(criterion='gini', max_depth= 4, min_samples_leaf= 3, min_samples_split = 2)\n",
    "svm_model = SVC(kernel= 'linear')\n",
    "mlp_model = MLPClassifier(activation='relu', alpha=0.0001, hidden_layer_sizes=(10, 30, 10), learning_rate='adaptive', solver='adam')\n",
    "gde_model = GradientBoostingClassifier(learning_rate=1, max_depth=9, n_estimators=500)\n",
    "\n",
    "models = [knn_model, svm_model, dt_model, rf_model, mlp_model, gde_model]\n",
    "\n",
    "model_names = []\n",
    "\n",
    "for mod in models:\n",
    "    model_names.append(type(mod).__name__)"
   ]
  },
  {
   "cell_type": "code",
   "execution_count": 7,
   "metadata": {},
   "outputs": [
    {
     "name": "stdout",
     "output_type": "stream",
     "text": [
      "KNeighborsClassifier Accuracy: 0.887 (0.004)\n",
      "SVC Accuracy: 0.885 (0.007)\n",
      "DecisionTreeClassifier Accuracy: 0.897 (0.008)\n",
      "RandomForestClassifier Accuracy: 0.903 (0.008)\n",
      "MLPClassifier Accuracy: 0.899 (0.008)\n",
      "GradientBoostingClassifier Accuracy: 0.842 (0.081)\n"
     ]
    }
   ],
   "source": [
    "stats = Train_Models_CV10 (preprocessed_df, target, models)"
   ]
  },
  {
   "cell_type": "code",
   "execution_count": 8,
   "metadata": {},
   "outputs": [
    {
     "name": "stdout",
     "output_type": "stream",
     "text": [
      "{'KNeighborsClassifier': array([0.88240065, 0.88240065, 0.88888889, 0.88726683, 0.88888889,\n",
      "       0.88483374, 0.88402271, 0.89051095, 0.89213301, 0.89213301]), 'SVC': array([0.88402271, 0.88321168, 0.87591241, 0.88402271, 0.88240065,\n",
      "       0.89618816, 0.88888889, 0.87266829, 0.88969992, 0.88807786]), 'DecisionTreeClassifier': array([0.89699919, 0.89213301, 0.88402271, 0.89051095, 0.89699919,\n",
      "       0.88969992, 0.89862125, 0.90754258, 0.90916464, 0.90105434]), 'RandomForestClassifier': array([0.91240876, 0.90024331, 0.90186537, 0.90348743, 0.89213301,\n",
      "       0.90592052, 0.89375507, 0.91646391, 0.89618816, 0.90754258]), 'MLPClassifier': array([0.9026764 , 0.88158962, 0.90754258, 0.8945661 , 0.90997567,\n",
      "       0.89618816, 0.89618816, 0.90186537, 0.89781022, 0.90510949]), 'GradientBoostingClassifier': array([0.8215734 , 0.85320357, 0.61719384, 0.88483374, 0.87185726,\n",
      "       0.88726683, 0.86618005, 0.87672344, 0.86536902, 0.87753447])}\n"
     ]
    }
   ],
   "source": [
    "print(stats)"
   ]
  },
  {
   "cell_type": "markdown",
   "metadata": {},
   "source": [
    "# Overall Results"
   ]
  },
  {
   "cell_type": "code",
   "execution_count": 9,
   "metadata": {},
   "outputs": [
    {
     "name": "stdout",
     "output_type": "stream",
     "text": [
      "      KNN       SVM       DT         RF        MLP       GDE\n",
      "1 & 0.88240 & 0.88402 & 0.89700 & 0.91241 & 0.90268 & 0.82157 \\\\ \\hline \n",
      "2 & 0.88240 & 0.88321 & 0.89213 & 0.90024 & 0.88159 & 0.85320 \\\\ \\hline \n",
      "3 & 0.88889 & 0.87591 & 0.88402 & 0.90187 & 0.90754 & 0.61719 \\\\ \\hline \n",
      "4 & 0.88727 & 0.88402 & 0.89051 & 0.90349 & 0.89457 & 0.88483 \\\\ \\hline \n",
      "5 & 0.88889 & 0.88240 & 0.89700 & 0.89213 & 0.90998 & 0.87186 \\\\ \\hline \n",
      "6 & 0.88483 & 0.89619 & 0.88970 & 0.90592 & 0.89619 & 0.88727 \\\\ \\hline \n",
      "7 & 0.88402 & 0.88889 & 0.89862 & 0.89376 & 0.89619 & 0.86618 \\\\ \\hline \n",
      "8 & 0.89051 & 0.87267 & 0.90754 & 0.91646 & 0.90187 & 0.87672 \\\\ \\hline \n",
      "9 & 0.89213 & 0.88970 & 0.90916 & 0.89619 & 0.89781 & 0.86537 \\\\ \\hline \n",
      "10 & 0.89213 & 0.88808 & 0.90105 & 0.90754 & 0.90511 & 0.87753 \\\\ \\hline \n",
      "\n"
     ]
    }
   ],
   "source": [
    "# To copy-paste into the report\n",
    "\n",
    "outputString = \"\"\n",
    "print(\"      KNN       SVM       DT         RF        MLP       GDE\")\n",
    "for i in range (10):\n",
    "    outputString = outputString+str(i+1)+' & %.5f & %.5f & %.5f & %.5f & %.5f & %.5f \\\\\\ \\\\hline \\n' % (stats[model_names[0]][i],stats[model_names[1]][i],stats[model_names[2]][i],stats[model_names[3]][i],stats[model_names[4]][i],stats[model_names[5]][i])\n",
    "    \n",
    "print(outputString)"
   ]
  },
  {
   "cell_type": "code",
   "execution_count": 11,
   "metadata": {},
   "outputs": [],
   "source": [
    "SavePredictionsToFile(\"../accuracy/accuracyOnlineShopping.csv\", stats)"
   ]
  },
  {
   "cell_type": "markdown",
   "metadata": {},
   "source": [
    "# Friedman Statistic"
   ]
  },
  {
   "cell_type": "code",
   "execution_count": null,
   "metadata": {},
   "outputs": [],
   "source": [
    "def column(matrix, i):\n",
    "    return [row[i] for row in matrix]"
   ]
  },
  {
   "cell_type": "code",
   "execution_count": null,
   "metadata": {},
   "outputs": [],
   "source": [
    "K = 10\n",
    "N = 6\n",
    "\n",
    "encoder = OrdinalEncoder()\n",
    "\n",
    "print(\"__________________________________________________________________________________________Ranks:\")\n",
    "ranks = []\n",
    "\n",
    "for i in range(10):\n",
    "    data = asarray([[knn_stats[i]], [svm_stats[i]], [dt_stats[i]], [rf_stats[i]], [mlp_stats[i]], [gde_stats[i]]])\n",
    "    ranks.append(encoder.fit_transform(data).flatten())\n",
    "    ranks[i] = [abs(x-6.0) for x in ranks[i]]\n",
    "    print(ranks[i])\n",
    "\n",
    "\n",
    "print(\"__________________________________________________________________________________________R_bar:\")\n",
    "R_bar = (K+1)/2\n",
    "\n",
    "print(R_bar)\n",
    "\n",
    "print(\"__________________________________________________________________________________________eq_2:\")\n",
    "avg_knn = mean(column(ranks, 0))\n",
    "avg_svm = mean(column(ranks, 1))\n",
    "avg_dt = mean(column(ranks, 2))\n",
    "avg_rf = mean(column(ranks, 3))\n",
    "avg_mlp = mean(column(ranks, 4))\n",
    "avg_gde = mean(column(ranks, 5))\n",
    "\n",
    "print('Average Ranks: %.5f | %.5f | %.5f | %.5f | %.5f | %.5f \\n' % (avg_knn, avg_svm, avg_dt, avg_rf, avg_mlp, avg_gde))\n",
    "\n",
    "eq_2 = N * ((avg_knn - R_bar)**2 + (avg_svm - R_bar)**2 + (avg_dt - R_bar)**2 + (avg_rf - R_bar)**2 + (avg_mlp - R_bar)**2 + (gde_knn - R_bar)**2)\n",
    "\n",
    "print(eq_2)\n",
    "\n",
    "print(\"__________________________________________________________________________________________eq_3:\")\n",
    "\n",
    "eq_3 = 0\n",
    "\n",
    "for row in ranks:\n",
    "    for entry in row:\n",
    "        eq_3 = eq_3 + (entry - R_bar)**2\n",
    "        \n",
    "eq_3 = eq_3/(N*(K-1))\n",
    "\n",
    "print(eq_3)\n",
    "\n",
    "print(\"__________________________________________________________________________________________Freidman Statistics:\")\n",
    "\n",
    "F_stat = eq_2/eq_3\n",
    "\n",
    "print(F_stat)\n",
    "\n",
    "print(\"__________________________________________________________________________________________Decision:\")\n",
    "\n",
    "F_0 = 10.800          # From class slides.\n",
    "\n",
    "if (abs(F_stat)<F_0):\n",
    "    print(\"Fail to reject the null (ie. cannot say that they are significantly different).\")\n",
    "elif (abs(F_stat)>=F_0):\n",
    "    print(\"Reject the null (ie. they are significantly different).\")"
   ]
  },
  {
   "cell_type": "code",
   "execution_count": null,
   "metadata": {},
   "outputs": [],
   "source": []
  }
 ],
 "metadata": {
  "kernelspec": {
   "display_name": "Python 3",
   "language": "python",
   "name": "python3"
  },
  "language_info": {
   "codemirror_mode": {
    "name": "ipython",
    "version": 3
   },
   "file_extension": ".py",
   "mimetype": "text/x-python",
   "name": "python",
   "nbconvert_exporter": "python",
   "pygments_lexer": "ipython3",
   "version": "3.8.5"
  }
 },
 "nbformat": 4,
 "nbformat_minor": 4
}

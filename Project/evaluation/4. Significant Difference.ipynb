{
 "cells": [
  {
   "cell_type": "code",
   "execution_count": 15,
   "metadata": {},
   "outputs": [],
   "source": [
    "import pandas as pd\n",
    "import math\n",
    "import numpy as np\n",
    "import ipynb\n",
    "\n",
    "from scipy import stats\n",
    "\n",
    "import matplotlib.pyplot as plt"
   ]
  },
  {
   "cell_type": "code",
   "execution_count": 16,
   "metadata": {},
   "outputs": [],
   "source": [
    "from ipynb.fs.full.Nemenyi import draw_cd_diagram"
   ]
  },
  {
   "cell_type": "code",
   "execution_count": 17,
   "metadata": {},
   "outputs": [],
   "source": [
    "filename1 = \"online_shoppers_intentions\"\n",
    "filename2 = \"marketing_campaign\"\n",
    "filename3 = \"heart\"\n",
    "\n",
    "df1_selftraining = pd.read_csv(\"../pred/selftraining/\"+filename1+\"_metrics.csv\", index_col=0)\n",
    "df2_selftraining = pd.read_csv(\"../pred/selftraining/\"+filename2+\"_metrics.csv\", index_col=0)\n",
    "df3_selftraining = pd.read_csv(\"../pred/selftraining/\"+filename3+\"_metrics.csv\", index_col=0)\n",
    "\n",
    "df1_semiboost = pd.read_csv(\"../pred/semiboost/\"+filename1+\"_metrics.csv\", index_col=0)\n",
    "df2_semiboost = pd.read_csv(\"../pred/semiboost/\"+filename2+\"_metrics.csv\", index_col=0)\n",
    "df3_semiboost = pd.read_csv(\"../pred/semiboost/\"+filename3+\"_metrics.csv\", index_col=0)\n",
    "\n",
    "df1_labelpropagation = pd.read_csv(\"../pred/labelpropagation/\"+filename1+\"_metrics.csv\", index_col=0)\n",
    "df2_labelpropagation = pd.read_csv(\"../pred/labelpropagation/\"+filename2+\"_metrics.csv\", index_col=0)\n",
    "df3_labelpropagation = pd.read_csv(\"../pred/labelpropagation/\"+filename3+\"_metrics.csv\", index_col=0)"
   ]
  },
  {
   "cell_type": "code",
   "execution_count": 18,
   "metadata": {},
   "outputs": [],
   "source": [
    "unlabelled = ['0','10','20','50','90','95']"
   ]
  },
  {
   "cell_type": "code",
   "execution_count": 4,
   "metadata": {},
   "outputs": [],
   "source": [
    "def returnDataframe(accuracy_level, sampling):\n",
    "    selftraining = {'online_shopping_intention' : df1_selftraining.loc[accuracy_level,sampling],\n",
    "                    'marketing_campaign' : df2_selftraining.loc[accuracy_level,sampling], \n",
    "                    'heart' :df3_selftraining.loc[accuracy_level,sampling] }\n",
    "    semiboost = {'online_shopping_intention' : df1_semiboost.loc[accuracy_level,sampling],\n",
    "                    'marketing_campaign' : df2_semiboost.loc[accuracy_level,sampling], \n",
    "                    'heart' :df3_semiboost.loc[accuracy_level,sampling] }\n",
    "    labelpropagation = {'online_shopping_intention' : df1_labelpropagation.loc[accuracy_level,sampling],\n",
    "                    'marketing_campaign' : df2_labelpropagation.loc[accuracy_level,sampling], \n",
    "                    'heart' :df3_labelpropagation.loc[accuracy_level,sampling] }\n",
    "\n",
    "    data = {'selftraining':selftraining, 'semiboost':semiboost, 'labelpropagation':labelpropagation}\n",
    "    new_df = pd.DataFrame(data)\n",
    "    \n",
    "    return new_df"
   ]
  },
  {
   "cell_type": "code",
   "execution_count": 5,
   "metadata": {},
   "outputs": [],
   "source": [
    "noresampling_0_df = returnDataframe('accuracy_0', 'noresampling')\n",
    "noresampling_10_df = returnDataframe('accuracy_10', 'noresampling')\n",
    "noresampling_20_df = returnDataframe('accuracy_20', 'noresampling')\n",
    "noresampling_50_df = returnDataframe('accuracy_50', 'noresampling')\n",
    "noresampling_90_df = returnDataframe('accuracy_90', 'noresampling')\n",
    "noresampling_95_df = returnDataframe('accuracy_95', 'noresampling')\n",
    "\n",
    "noresampling_dfs = [noresampling_0_df, noresampling_10_df, noresampling_20_df, noresampling_50_df,\n",
    "                   noresampling_90_df, noresampling_95_df]\n",
    "\n",
    "undersampling_0_df = returnDataframe('accuracy_0', 'undersampling')\n",
    "undersampling_10_df = returnDataframe('accuracy_10', 'undersampling')\n",
    "undersampling_20_df = returnDataframe('accuracy_20', 'undersampling')\n",
    "undersampling_50_df = returnDataframe('accuracy_50', 'undersampling')\n",
    "undersampling_90_df = returnDataframe('accuracy_90', 'undersampling')\n",
    "undersampling_95_df = returnDataframe('accuracy_95', 'undersampling')\n",
    "\n",
    "undersampling_dfs = [undersampling_0_df, undersampling_10_df, undersampling_20_df, undersampling_50_df,\n",
    "                   undersampling_90_df, undersampling_95_df]\n",
    "\n",
    "oversampling_0_df = returnDataframe('accuracy_0', 'oversampling')\n",
    "oversampling_10_df = returnDataframe('accuracy_10', 'oversampling')\n",
    "oversampling_20_df = returnDataframe('accuracy_20', 'oversampling')\n",
    "oversampling_50_df = returnDataframe('accuracy_50', 'oversampling')\n",
    "oversampling_90_df = returnDataframe('accuracy_90', 'oversampling')\n",
    "oversampling_95_df = returnDataframe('accuracy_95', 'oversampling')\n",
    "\n",
    "oversampling_dfs = [oversampling_0_df, oversampling_10_df, oversampling_20_df, oversampling_50_df,\n",
    "                   oversampling_90_df,oversampling_95_df]\n",
    "\n",
    "model_names = ['selftraining', 'semiboost','labelpropagation']"
   ]
  },
  {
   "cell_type": "code",
   "execution_count": 6,
   "metadata": {},
   "outputs": [
    {
     "data": {
      "text/html": [
       "<div>\n",
       "<style scoped>\n",
       "    .dataframe tbody tr th:only-of-type {\n",
       "        vertical-align: middle;\n",
       "    }\n",
       "\n",
       "    .dataframe tbody tr th {\n",
       "        vertical-align: top;\n",
       "    }\n",
       "\n",
       "    .dataframe thead th {\n",
       "        text-align: right;\n",
       "    }\n",
       "</style>\n",
       "<table border=\"1\" class=\"dataframe\">\n",
       "  <thead>\n",
       "    <tr style=\"text-align: right;\">\n",
       "      <th></th>\n",
       "      <th>selftraining</th>\n",
       "      <th>semiboost</th>\n",
       "      <th>labelpropagation</th>\n",
       "    </tr>\n",
       "  </thead>\n",
       "  <tbody>\n",
       "    <tr>\n",
       "      <th>online_shopping_intention</th>\n",
       "      <td>88.240</td>\n",
       "      <td>90.187</td>\n",
       "      <td>84.536</td>\n",
       "    </tr>\n",
       "    <tr>\n",
       "      <th>marketing_campaign</th>\n",
       "      <td>91.369</td>\n",
       "      <td>89.881</td>\n",
       "      <td>74.554</td>\n",
       "    </tr>\n",
       "    <tr>\n",
       "      <th>heart</th>\n",
       "      <td>65.934</td>\n",
       "      <td>60.440</td>\n",
       "      <td>60.440</td>\n",
       "    </tr>\n",
       "  </tbody>\n",
       "</table>\n",
       "</div>"
      ],
      "text/plain": [
       "                           selftraining  semiboost  labelpropagation\n",
       "online_shopping_intention        88.240     90.187            84.536\n",
       "marketing_campaign               91.369     89.881            74.554\n",
       "heart                            65.934     60.440            60.440"
      ]
     },
     "execution_count": 6,
     "metadata": {},
     "output_type": "execute_result"
    }
   ],
   "source": [
    "# Sanity check\n",
    "\n",
    "noresampling_0_df"
   ]
  },
  {
   "cell_type": "markdown",
   "metadata": {},
   "source": [
    "# Friedman Test for All Labelling Levels and Resampling Combinations"
   ]
  },
  {
   "cell_type": "code",
   "execution_count": 7,
   "metadata": {},
   "outputs": [
    {
     "name": "stdout",
     "output_type": "stream",
     "text": [
      "______________________________________No-resampling-0%:\n",
      "F-stat: 3.8181818181818183\n",
      "p-value: 0.14821506633752016\n",
      "Reject: False\n",
      "______________________________________No-resampling-10%:\n",
      "F-stat: 0.6666666666666643\n",
      "p-value: 0.71653131057379\n",
      "Reject: False\n",
      "______________________________________No-resampling-20%:\n",
      "F-stat: 1.2727272727272703\n",
      "p-value: 0.529213341500051\n",
      "Reject: False\n",
      "______________________________________No-resampling-50%:\n",
      "F-stat: 4.666666666666664\n",
      "p-value: 0.09697196786440515\n",
      "Reject: False\n",
      "______________________________________No-resampling-90%:\n",
      "F-stat: 3.8181818181818183\n",
      "p-value: 0.14821506633752016\n",
      "Reject: False\n",
      "______________________________________No-resampling-95%:\n",
      "F-stat: 1.2727272727272703\n",
      "p-value: 0.529213341500051\n",
      "Reject: False\n",
      "______________________________________Undersampling-0%:\n",
      "F-stat: 2.0\n",
      "p-value: 0.36787944117144245\n",
      "Reject: False\n",
      "______________________________________Undersampling-10%:\n",
      "F-stat: 0.5454545454545455\n",
      "p-value: 0.7613003866968736\n",
      "Reject: False\n",
      "______________________________________Undersampling-20%:\n",
      "F-stat: 0.5454545454545455\n",
      "p-value: 0.7613003866968736\n",
      "Reject: False\n",
      "______________________________________Undersampling-50%:\n",
      "F-stat: 1.6363636363636365\n",
      "p-value: 0.441233167759984\n",
      "Reject: False\n",
      "______________________________________Undersampling-90%:\n",
      "F-stat: 5.599999999999997\n",
      "p-value: 0.06081006262521805\n",
      "Reject: False\n",
      "______________________________________Undersampling-95%:\n",
      "F-stat: 3.714285714285711\n",
      "p-value: 0.15611804531597134\n",
      "Reject: False\n",
      "______________________________________Oversampling-0%:\n",
      "F-stat: 2.0\n",
      "p-value: 0.36787944117144245\n",
      "Reject: False\n",
      "______________________________________Oversampling-10%:\n",
      "F-stat: 1.6363636363636365\n",
      "p-value: 0.441233167759984\n",
      "Reject: False\n",
      "______________________________________Oversampling-20%:\n",
      "F-stat: 3.8181818181818183\n",
      "p-value: 0.14821506633752016\n",
      "Reject: False\n",
      "______________________________________Oversampling-50%:\n",
      "F-stat: 0.18181818181817924\n",
      "p-value: 0.9131007162822635\n",
      "Reject: False\n",
      "______________________________________Oversampling-90%:\n",
      "F-stat: 1.9999999999999927\n",
      "p-value: 0.3678794411714437\n",
      "Reject: False\n",
      "______________________________________Oversampling-95%:\n",
      "F-stat: 3.199999999999997\n",
      "p-value: 0.2018965179946557\n",
      "Reject: False\n"
     ]
    }
   ],
   "source": [
    "f_stats = {}\n",
    "p_values = {}\n",
    "reject = {}\n",
    "\n",
    "for i in range(6):\n",
    "    print('______________________________________No-resampling-'+unlabelled[i]+'%:')\n",
    "    f_test = stats.friedmanchisquare(noresampling_dfs[i][model_names[0]], noresampling_dfs[i][model_names[1]], noresampling_dfs[i][model_names[2]])\n",
    "    print(\"F-stat: \"+str(f_test[0]))\n",
    "    f_stats['None-'+unlabelled[i]] = str(round(f_test[0],3))\n",
    "    print(\"p-value: \"+str(f_test[1]))\n",
    "    p_values['None-'+unlabelled[i]] = str(round(f_test[1],3))\n",
    "    print(\"Reject: \"+str(f_test[1]<0.05))\n",
    "    reject['None-'+unlabelled[i]] = str(f_test[1]<0.05)\n",
    "for i in range(6):\n",
    "    print('______________________________________Undersampling-'+unlabelled[i]+'%:')\n",
    "    f_test = stats.friedmanchisquare(undersampling_dfs[i][model_names[0]], undersampling_dfs[i][model_names[1]], undersampling_dfs[i][model_names[2]])\n",
    "    print(\"F-stat: \"+str(f_test[0]))\n",
    "    f_stats['Undersampling-'+unlabelled[i]] = str(round(f_test[0],3))\n",
    "    print(\"p-value: \"+str(f_test[1]))\n",
    "    p_values['Undersampling-'+unlabelled[i]] = str(round(f_test[1],3))\n",
    "    print(\"Reject: \"+str(f_test[1]<0.05))\n",
    "    reject['Undersampling-'+unlabelled[i]] = str(f_test[1]<0.05)\n",
    "for i in range(6):\n",
    "    print('______________________________________Oversampling-'+unlabelled[i]+'%:')\n",
    "    f_test = stats.friedmanchisquare(oversampling_dfs[i][model_names[0]], oversampling_dfs[i][model_names[1]], oversampling_dfs[i][model_names[2]])\n",
    "    print(\"F-stat: \"+str(f_test[0]))\n",
    "    f_stats['Oversampling-'+unlabelled[i]] = str(round(f_test[0],3))\n",
    "    print(\"p-value: \"+str(f_test[1]))\n",
    "    p_values['Oversampling-'+unlabelled[i]] = str(round(f_test[1],3))\n",
    "    print(\"Reject: \"+str(f_test[1]<0.05))\n",
    "    reject['Oversampling-'+unlabelled[i]] = str(f_test[1]<0.05)"
   ]
  },
  {
   "cell_type": "code",
   "execution_count": 11,
   "metadata": {},
   "outputs": [
    {
     "name": "stdout",
     "output_type": "stream",
     "text": [
      "\\multirow{6}{*}{None} & 0 & 3.818 & 0.148 & False \\\\  \n",
      "{} & 10 & 0.667 & 0.717 & False \\\\ \n",
      "{} & 20 & 1.273 & 0.529 & False \\\\ \n",
      "{} & 50 & 4.667 & 0.097 & False \\\\ \n",
      "{} & 90 & 3.818 & 0.148 & False \\\\ \n",
      "{} & 95 & 1.273 & 0.529 & False \\\\ \\hline \n",
      "\\multirow{6}{*}{Undersampling} & 0 & 2.0 & 0.368 & False \\\\  \n",
      "{} & 10 & 0.545 & 0.761 & False \\\\ \n",
      "{} & 20 & 0.545 & 0.761 & False \\\\ \n",
      "{} & 50 & 1.636 & 0.441 & False \\\\ \n",
      "{} & 90 & 5.6 & 0.061 & False \\\\ \n",
      "{} & 95 & 3.714 & 0.156 & False \\\\ \\hline \n",
      "\\multirow{6}{*}{Oversampling} & 0 & 2.0 & 0.368 & False \\\\  \n",
      "{} & 10 & 1.636 & 0.441 & False \\\\ \n",
      "{} & 20 & 3.818 & 0.148 & False \\\\ \n",
      "{} & 50 & 0.182 & 0.913 & False \\\\ \n",
      "{} & 90 & 2.0 & 0.368 & False \\\\ \n",
      "{} & 95 & 3.2 & 0.202 & False \\\\ \\hline \n",
      "\n"
     ]
    }
   ],
   "source": [
    "resampling = ['None', 'Undersampling', 'Oversampling']\n",
    "unlabelled = ['10','20','50','90','95']\n",
    "\n",
    "str = ''\n",
    "\n",
    "for r in resampling:\n",
    "    str = str + '\\multirow{6}{*}{'+r+'} & 0 & '+f_stats[r+\"-0\"]+' & '+p_values[r+\"-0\"]+' & '+reject[r+\"-0\"]+' \\\\\\  \\n'\n",
    "    for u in unlabelled:\n",
    "        if u!='95':\n",
    "            str = str + '{} & '+u+' & '+f_stats[r+\"-\"+u]+' & '+p_values[r+\"-\"+u]+' & '+reject[r+\"-\"+u]+' \\\\\\ \\n'\n",
    "        else:\n",
    "            str = str + '{} & '+u+' & '+f_stats[r+\"-\"+u]+' & '+p_values[r+\"-\"+u]+' & '+reject[r+\"-\"+u]+' \\\\\\ \\\\hline \\n'\n",
    "        \n",
    "print(str)"
   ]
  },
  {
   "cell_type": "markdown",
   "metadata": {},
   "source": [
    "# Friedman Test for All Resampling Combinations (Mean for all labelling levels)"
   ]
  },
  {
   "cell_type": "code",
   "execution_count": 8,
   "metadata": {},
   "outputs": [
    {
     "data": {
      "text/plain": [
       "[                           selftraining  semiboost  labelpropagation\n",
       " online_shopping_intention     84.995833  27.917833         84.536000\n",
       " marketing_campaign            55.456333  55.282667         52.455333\n",
       " heart                         58.791167  55.860833         56.959833,\n",
       "                            selftraining  semiboost  labelpropagation\n",
       " online_shopping_intention     38.330333  27.715000         22.934500\n",
       " marketing_campaign            55.828333  56.398667         54.141833\n",
       " heart                         51.648333  52.380833         48.168500,\n",
       "                            selftraining  semiboost  labelpropagation\n",
       " online_shopping_intention     28.638500  27.850167         25.178333\n",
       " marketing_campaign            57.043500  55.233000         52.653667\n",
       " heart                         52.197833  53.663000         49.633833]"
      ]
     },
     "execution_count": 8,
     "metadata": {},
     "output_type": "execute_result"
    }
   ],
   "source": [
    "def returnDataframe_means(sampling):\n",
    "    accuracies = ['accuracy_0','accuracy_10','accuracy_20','accuracy_50','accuracy_90','accuracy_95',]\n",
    "    selftraining = {'online_shopping_intention' : np.mean(df1_selftraining.loc[accuracies,sampling]),\n",
    "                    'marketing_campaign' : np.mean(df2_selftraining.loc[accuracies,sampling]), \n",
    "                    'heart' : np.mean(df3_selftraining.loc[accuracies,sampling]) }\n",
    "    semiboost = {'online_shopping_intention' : np.mean(df1_semiboost.loc[accuracies,sampling]),\n",
    "                    'marketing_campaign' : np.mean(df2_semiboost.loc[accuracies,sampling]), \n",
    "                    'heart' : np.mean(df3_semiboost.loc[accuracies,sampling]) }\n",
    "    labelpropagation = {'online_shopping_intention' : np.mean(df1_labelpropagation.loc[accuracies,sampling]),\n",
    "                    'marketing_campaign' : np.mean(df2_labelpropagation.loc[accuracies,sampling]), \n",
    "                    'heart' : np.mean(df3_labelpropagation.loc[accuracies,sampling]) }\n",
    "\n",
    "    data = {'selftraining':selftraining, 'semiboost':semiboost, 'labelpropagation':labelpropagation}\n",
    "    new_df = pd.DataFrame(data)\n",
    "    \n",
    "    return new_df\n",
    "\n",
    "noresampling_df = returnDataframe_means('noresampling')\n",
    "undersampling_df = returnDataframe_means('undersampling')\n",
    "oversampling_df = returnDataframe_means('oversampling')\n",
    "\n",
    "means_dfs = [noresampling_df, undersampling_df, oversampling_df]\n",
    "\n",
    "means_dfs"
   ]
  },
  {
   "cell_type": "code",
   "execution_count": 10,
   "metadata": {},
   "outputs": [
    {
     "name": "stdout",
     "output_type": "stream",
     "text": [
      "______________________________________noresampling:\n",
      "F-stat: 4.666666666666664\n",
      "p-value: 0.09697196786440515\n",
      "Reject: False\n",
      "______________________________________undersampling:\n",
      "F-stat: 4.666666666666664\n",
      "p-value: 0.09697196786440515\n",
      "Reject: False\n",
      "______________________________________oversampling:\n",
      "F-stat: 4.666666666666664\n",
      "p-value: 0.09697196786440515\n",
      "Reject: False\n"
     ]
    }
   ],
   "source": [
    "resampling_methods = ['noresampling','undersampling','oversampling']\n",
    "\n",
    "for i in range(3):\n",
    "    print('______________________________________'+resampling_methods[i]+':')\n",
    "    f_test = stats.friedmanchisquare(means_dfs[i][model_names[0]], means_dfs[i][model_names[1]], means_dfs[i][model_names[2]])\n",
    "    print(\"F-stat: \"+str(f_test[0]))\n",
    "    print(\"p-value: \"+str(f_test[1]))\n",
    "    print(\"Reject: \"+str(f_test[1]<0.05))"
   ]
  },
  {
   "cell_type": "markdown",
   "metadata": {},
   "source": [
    "# Friedman Test for All Labelling Levels (Mean for all Resampling Methods)"
   ]
  },
  {
   "cell_type": "code",
   "execution_count": 11,
   "metadata": {},
   "outputs": [
    {
     "data": {
      "text/plain": [
       "[                           selftraining  semiboost  labelpropagation\n",
       " online_shopping_intention     87.014333  89.646000         72.596333\n",
       " marketing_campaign            91.567333  92.013667         74.901000\n",
       " heart                         50.549333  49.084333         52.747333,\n",
       "                            selftraining  semiboost  labelpropagation\n",
       " online_shopping_intention     46.886667     15.464         38.758333\n",
       " marketing_campaign            50.892667     48.363         47.867000\n",
       " heart                         41.758000     54.945         49.084000,\n",
       "                            selftraining  semiboost  labelpropagation\n",
       " online_shopping_intention     41.696000     15.464         38.479000\n",
       " marketing_campaign            50.793333     48.363         48.908667\n",
       " heart                         61.905000     54.945         52.381000,\n",
       "                            selftraining  semiboost  labelpropagation\n",
       " online_shopping_intention     39.947667     15.464         38.488000\n",
       " marketing_campaign            46.974333     48.363         52.480000\n",
       " heart                         56.776667     54.945         50.183333,\n",
       "                            selftraining  semiboost  labelpropagation\n",
       " online_shopping_intention     42.128667     15.464         38.488000\n",
       " marketing_campaign            47.222333     48.363         48.363000\n",
       " heart                         58.608000     54.945         47.985667,\n",
       "                            selftraining  semiboost  labelpropagation\n",
       " online_shopping_intention     46.256000     15.464            38.488\n",
       " marketing_campaign            49.206333     48.363            45.982\n",
       " heart                         55.677667     54.945            57.143]"
      ]
     },
     "execution_count": 11,
     "metadata": {},
     "output_type": "execute_result"
    }
   ],
   "source": [
    "def returnDataframe_means2(accuracies):\n",
    "    sampling = ['noresampling','undersampling','oversampling']\n",
    "    selftraining = {'online_shopping_intention' : np.mean(df1_selftraining.loc[accuracies,sampling],),\n",
    "                    'marketing_campaign' : np.mean(df2_selftraining.loc[accuracies,sampling]), \n",
    "                    'heart' : np.mean(df3_selftraining.loc[accuracies,sampling]) }\n",
    "    semiboost = {'online_shopping_intention' : np.mean(df1_semiboost.loc[accuracies,sampling]),\n",
    "                    'marketing_campaign' : np.mean(df2_semiboost.loc[accuracies,sampling]), \n",
    "                    'heart' : np.mean(df3_semiboost.loc[accuracies,sampling]) }\n",
    "    labelpropagation = {'online_shopping_intention' : np.mean(df1_labelpropagation.loc[accuracies,sampling]),\n",
    "                    'marketing_campaign' : np.mean(df2_labelpropagation.loc[accuracies,sampling]), \n",
    "                    'heart' : np.mean(df3_labelpropagation.loc[accuracies,sampling]) }\n",
    "\n",
    "    data = {'selftraining':selftraining, 'semiboost':semiboost, 'labelpropagation':labelpropagation}\n",
    "    new_df = pd.DataFrame(data)\n",
    "    \n",
    "    return new_df\n",
    "\n",
    "df0 = returnDataframe_means2('accuracy_0')\n",
    "df10 = returnDataframe_means2('accuracy_10')\n",
    "df20 = returnDataframe_means2('accuracy_20')\n",
    "df50 = returnDataframe_means2('accuracy_50')\n",
    "df90 = returnDataframe_means2('accuracy_90')\n",
    "df95 = returnDataframe_means2('accuracy_95')\n",
    "\n",
    "means_dfs = [df0, df10, df20, df50, df90, df95]\n",
    "\n",
    "means_dfs"
   ]
  },
  {
   "cell_type": "code",
   "execution_count": 12,
   "metadata": {},
   "outputs": [
    {
     "name": "stdout",
     "output_type": "stream",
     "text": [
      "______________________________________0%:\n",
      "F-stat: 0.6666666666666643\n",
      "p-value: 0.71653131057379\n",
      "Reject: False\n",
      "______________________________________10%:\n",
      "F-stat: 0.6666666666666643\n",
      "p-value: 0.71653131057379\n",
      "Reject: False\n",
      "______________________________________20%:\n",
      "F-stat: 4.666666666666664\n",
      "p-value: 0.09697196786440515\n",
      "Reject: False\n",
      "______________________________________50%:\n",
      "F-stat: 0.6666666666666643\n",
      "p-value: 0.71653131057379\n",
      "Reject: False\n",
      "______________________________________90%:\n",
      "F-stat: 0.5454545454545455\n",
      "p-value: 0.7613003866968736\n",
      "Reject: False\n",
      "______________________________________95%:\n",
      "F-stat: 2.6666666666666643\n",
      "p-value: 0.26359713811572705\n",
      "Reject: False\n"
     ]
    }
   ],
   "source": [
    "for i in range(6):\n",
    "    print('______________________________________'+unlabelled[i]+'%:')\n",
    "    f_test = stats.friedmanchisquare(means_dfs[i][model_names[0]], means_dfs[i][model_names[1]], means_dfs[i][model_names[2]])\n",
    "    print(\"F-stat: \"+str(f_test[0]))\n",
    "    print(\"p-value: \"+str(f_test[1]))\n",
    "    print(\"Reject: \"+str(f_test[1]<0.05))"
   ]
  },
  {
   "cell_type": "markdown",
   "metadata": {},
   "source": [
    "# Friedman Test (Average of all Unlabelled and Resampling)"
   ]
  },
  {
   "cell_type": "code",
   "execution_count": 32,
   "metadata": {},
   "outputs": [],
   "source": [
    "def returnFullDataframe():\n",
    "    \n",
    "    unlabelled = ['0','10','20','50','90','95']\n",
    "    accuracy_level=['accuracy_0','accuracy_10','accuracy_20','accuracy_50','accuracy_90','accuracy_95']\n",
    "    resampling = ['noresampling','undersampling','oversampling']\n",
    "    \n",
    "    selftraining = {}\n",
    "    semiboost = {}\n",
    "    labelpropagation = {}\n",
    "    \n",
    "    for i in range(6):\n",
    "        for sampling in resampling:\n",
    "            selftraining['osi_'+sampling+'_'+unlabelled[i]] = df1_selftraining.loc[accuracy_level[i],sampling]\n",
    "            selftraining['mc_'+sampling+'_'+unlabelled[i]] = df2_selftraining.loc[accuracy_level[i],sampling] \n",
    "            selftraining['h_'+sampling+'_'+unlabelled[i]] = df3_selftraining.loc[accuracy_level[i],sampling] \n",
    "            semiboost['osi_'+sampling+'_'+unlabelled[i]] = df1_semiboost.loc[accuracy_level[i],sampling]\n",
    "            semiboost['mc_'+sampling+'_'+unlabelled[i]] = df2_semiboost.loc[accuracy_level[i],sampling] \n",
    "            semiboost['h_'+sampling+'_'+unlabelled[i]] = df3_semiboost.loc[accuracy_level[i],sampling] \n",
    "            labelpropagation['osi_'+sampling+'_'+unlabelled[i]] = df1_labelpropagation.loc[accuracy_level[i],sampling]\n",
    "            labelpropagation['mc_'+sampling+'_'+unlabelled[i]] = df2_labelpropagation.loc[accuracy_level[i],sampling] \n",
    "            labelpropagation['h_'+sampling+'_'+unlabelled[i]] = df3_labelpropagation.loc[accuracy_level[i],sampling] \n",
    "\n",
    "    data = {'selftraining':selftraining, 'semiboost':semiboost, 'labelpropagation':labelpropagation}\n",
    "    new_df = pd.DataFrame(data)\n",
    "    \n",
    "    return new_df\n",
    "\n",
    "total_df = returnFullDataframe()\n",
    "#total_df.to_csv(\"total.csv\")"
   ]
  },
  {
   "cell_type": "code",
   "execution_count": 30,
   "metadata": {},
   "outputs": [
    {
     "name": "stdout",
     "output_type": "stream",
     "text": [
      "F-stat: 7.238095238095151\n",
      "p-value: 0.02680819595378016\n",
      "Reject: True\n"
     ]
    }
   ],
   "source": [
    "f_test = stats.friedmanchisquare(total_df['selftraining'], total_df['semiboost'], total_df['labelpropagation'])\n",
    "print(\"F-stat: \"+str(f_test[0]))\n",
    "print(\"p-value: \"+str(f_test[1]))\n",
    "print(\"Reject: \"+str(f_test[1]<0.05))"
   ]
  },
  {
   "cell_type": "markdown",
   "metadata": {},
   "source": [
    "# Nemenyi Diagram"
   ]
  },
  {
   "cell_type": "code",
   "execution_count": 33,
   "metadata": {},
   "outputs": [
    {
     "name": "stdout",
     "output_type": "stream",
     "text": [
      "['selftraining' 'semiboost' 'labelpropagation']\n",
      "labelpropagation    11.0\n",
      "selftraining        23.0\n",
      "semiboost           14.0\n",
      "dtype: float64\n",
      "labelpropagation    2.166667\n",
      "semiboost           2.111111\n",
      "selftraining        1.722222\n",
      "dtype: float64\n",
      "('labelpropagation', 'selftraining', 0.0029901159311325485, True)\n",
      "('selftraining', 'semiboost', 0.016645787143917238, True)\n",
      "('labelpropagation', 'semiboost', 0.8756503429323933, False)\n",
      "Index(['labelpropagation', 'semiboost', 'selftraining'], dtype='object')\n",
      "[0, 1]\n"
     ]
    }
   ],
   "source": [
    "df_perf = pd.read_csv('../pred/NemenyiAccuracies.csv',index_col=False)\n",
    "\n",
    "draw_cd_diagram(df_perf=df_perf, title='Accuracy', labels=True)"
   ]
  }
 ],
 "metadata": {
  "kernelspec": {
   "display_name": "Python 3",
   "language": "python",
   "name": "python3"
  },
  "language_info": {
   "codemirror_mode": {
    "name": "ipython",
    "version": 3
   },
   "file_extension": ".py",
   "mimetype": "text/x-python",
   "name": "python",
   "nbconvert_exporter": "python",
   "pygments_lexer": "ipython3",
   "version": "3.8.5"
  }
 },
 "nbformat": 4,
 "nbformat_minor": 4
}

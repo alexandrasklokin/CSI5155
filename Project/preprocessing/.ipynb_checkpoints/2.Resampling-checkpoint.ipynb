{
 "cells": [
  {
   "cell_type": "code",
   "execution_count": 95,
   "metadata": {},
   "outputs": [],
   "source": [
    "import pandas as pd\n",
    "from sklearn.model_selection import train_test_split"
   ]
  },
  {
   "cell_type": "code",
   "execution_count": 96,
   "metadata": {},
   "outputs": [],
   "source": [
    "def Resample(df, target, resampling, filename):\n",
    "    \n",
    "    X = df.drop(columns=[target])\n",
    "    y = df[target].values\n",
    "    \n",
    "    X_train, X_test, y_train, y_test = train_test_split(X, y, test_size=0.3, stratify=y)\n",
    "    \n",
    "    # Put the testing data back together\n",
    "    df_test = X_test.copy()\n",
    "    df_test[target] = y_test\n",
    "    \n",
    "    df_train = X_train.copy()\n",
    "    df_train[target] = y_train\n",
    "    \n",
    "    df_train.sort_index().reset_index(drop=True).to_csv('../data/train/noresampling/'+filename+'_0.csv')\n",
    "    df_test.sort_index().reset_index(drop=True).to_csv('../data/test/'+filename+'.csv')\n",
    "    \n",
    "    print(\"_______________________________________________________________\")\n",
    "    \n",
    "    print('No Resampling:\\n'+ str(df_train[target].value_counts()))\n",
    "    \n",
    "    # Get the counts of majority and minority classes\n",
    "    count_class_0 = df_train[target].value_counts().get(0)\n",
    "    count_class_1 = df_train[target].value_counts().get(1)\n",
    "        \n",
    "    # Slit into both classes\n",
    "    df_class_0 = df_train[df_train[target] == 0]\n",
    "    df_class_1 = df_train[df_train[target] == 1]\n",
    "    \n",
    "    if (resampling==\"under\"):\n",
    "        \n",
    "        # Undersample\n",
    "        if count_class_0 > count_class_1:\n",
    "            print(\"More 0 than 1\")\n",
    "            df_class_0_under = df_class_0.sample(count_class_1)\n",
    "            df_test_under = pd.concat([df_class_0_under, df_class_1], axis=0)\n",
    "        else:\n",
    "            print(\"More 1 than 0\")\n",
    "            df_class_1_under = df_class_1.sample(count_class_0)\n",
    "            df_test_under = pd.concat([df_class_1_under, df_class_0], axis=0)\n",
    "             \n",
    "        # Split back into X_train and y_train    \n",
    "        print('Random under-sampling:\\n'+ str(df_test_under[target].value_counts()))\n",
    "        X_train = df_test_under.drop(columns=[target])\n",
    "        y_train = df_test_under[target].values\n",
    "        \n",
    "        # Save\n",
    "        df_test_under.sort_index().reset_index(drop=True).to_csv('../data/train/undersampled/'+filename+'_0.csv')\n",
    "        \n",
    "    elif (resampling==\"over\"):\n",
    "\n",
    "        # Oversample\n",
    "        if count_class_1 < count_class_0:\n",
    "            df_class_1_over = df_class_1.sample(count_class_0, replace=True)\n",
    "            df_test_over = pd.concat([df_class_0, df_class_1_over], axis=0)\n",
    "        else:\n",
    "            df_class_0_over = df_class_0.sample(count_class_1, replace=True)\n",
    "            df_test_over = pd.concat([df_class_1, df_class_0_over], axis=0)\n",
    "        \n",
    "        # Split back into X_train and y_train    \n",
    "        print('Random over-sampling:\\n'+ str(df_test_over[target].value_counts()))\n",
    "        X_train = df_test_over.drop(columns=[target])\n",
    "        y_train = df_test_over[target].values\n",
    "        \n",
    "        # Save\n",
    "        df_test_over.sort_index().reset_index(drop=True).to_csv('../data/train/oversampled/'+filename+'_0.csv')\n",
    "        "
   ]
  },
  {
   "cell_type": "code",
   "execution_count": 97,
   "metadata": {},
   "outputs": [
    {
     "name": "stdout",
     "output_type": "stream",
     "text": [
      "_______________________________________________________________\n",
      "No Resampling:\n",
      "0    7295\n",
      "1    1336\n",
      "Name: Revenue, dtype: int64\n",
      "More 0 than 1\n",
      "Random under-sampling:\n",
      "1    1336\n",
      "0    1336\n",
      "Name: Revenue, dtype: int64\n",
      "_______________________________________________________________\n",
      "No Resampling:\n",
      "0    7295\n",
      "1    1336\n",
      "Name: Revenue, dtype: int64\n",
      "Random over-sampling:\n",
      "1    7295\n",
      "0    7295\n",
      "Name: Revenue, dtype: int64\n"
     ]
    }
   ],
   "source": [
    "filename1 = 'online_shoppers_intentions'\n",
    "df1 = pd.read_csv(\"../data/processed/\"+filename1+\".csv\", index_col=0)\n",
    "target1 = 'Revenue'\n",
    "\n",
    "Resample(df1, target1, \"under\", filename1)\n",
    "Resample(df1, target1, \"over\", filename1)"
   ]
  },
  {
   "cell_type": "code",
   "execution_count": 98,
   "metadata": {},
   "outputs": [
    {
     "name": "stdout",
     "output_type": "stream",
     "text": [
      "_______________________________________________________________\n",
      "No Resampling:\n",
      "0    811\n",
      "1    757\n",
      "Name: Teenhome, dtype: int64\n",
      "More 0 than 1\n",
      "Random under-sampling:\n",
      "1    757\n",
      "0    757\n",
      "Name: Teenhome, dtype: int64\n",
      "_______________________________________________________________\n",
      "No Resampling:\n",
      "0    811\n",
      "1    757\n",
      "Name: Teenhome, dtype: int64\n",
      "Random over-sampling:\n",
      "1    811\n",
      "0    811\n",
      "Name: Teenhome, dtype: int64\n"
     ]
    }
   ],
   "source": [
    "filename2 = 'marketing_campaign'\n",
    "df2 = pd.read_csv(\"../data/processed/\"+filename2+\".csv\", index_col=0)\n",
    "target2 = 'Teenhome'\n",
    "\n",
    "Resample(df2, target2, \"under\", filename2)\n",
    "Resample(df2, target2, \"over\", filename2)"
   ]
  },
  {
   "cell_type": "code",
   "execution_count": 99,
   "metadata": {},
   "outputs": [
    {
     "name": "stdout",
     "output_type": "stream",
     "text": [
      "_______________________________________________________________\n",
      "No Resampling:\n",
      "1    115\n",
      "0     97\n",
      "Name: target, dtype: int64\n",
      "More 1 than 0\n",
      "Random under-sampling:\n",
      "1    97\n",
      "0    97\n",
      "Name: target, dtype: int64\n",
      "_______________________________________________________________\n",
      "No Resampling:\n",
      "1    115\n",
      "0     97\n",
      "Name: target, dtype: int64\n",
      "Random over-sampling:\n",
      "1    115\n",
      "0    115\n",
      "Name: target, dtype: int64\n"
     ]
    }
   ],
   "source": [
    "filename3 = 'heart'\n",
    "df3 = pd.read_csv(\"../data/processed/\"+filename3+\".csv\", index_col=0)\n",
    "target3 = 'target'\n",
    "\n",
    "Resample(df3, target3, \"under\", filename3)\n",
    "Resample(df3, target3, \"over\", filename3)"
   ]
  },
  {
   "cell_type": "code",
   "execution_count": null,
   "metadata": {},
   "outputs": [],
   "source": []
  }
 ],
 "metadata": {
  "kernelspec": {
   "display_name": "Python 3",
   "language": "python",
   "name": "python3"
  },
  "language_info": {
   "codemirror_mode": {
    "name": "ipython",
    "version": 3
   },
   "file_extension": ".py",
   "mimetype": "text/x-python",
   "name": "python",
   "nbconvert_exporter": "python",
   "pygments_lexer": "ipython3",
   "version": "3.8.5"
  }
 },
 "nbformat": 4,
 "nbformat_minor": 4
}

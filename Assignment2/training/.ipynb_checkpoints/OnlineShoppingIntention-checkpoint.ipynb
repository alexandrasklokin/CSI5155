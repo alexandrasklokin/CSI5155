{
 "cells": [
  {
   "cell_type": "code",
   "execution_count": 1,
   "metadata": {},
   "outputs": [],
   "source": [
    "import ipynb\n",
    "import pandas as pd\n",
    "import numpy as np\n",
    "\n",
    "from sklearn.neighbors import KNeighborsClassifier\n",
    "from sklearn.svm import SVC\n",
    "from sklearn.tree import DecisionTreeClassifier\n",
    "from sklearn.ensemble import RandomForestClassifier\n",
    "from sklearn.neural_network import MLPClassifier\n",
    "from sklearn.ensemble import GradientBoostingClassifier"
   ]
  },
  {
   "cell_type": "code",
   "execution_count": 2,
   "metadata": {},
   "outputs": [
    {
     "ename": "ImportError",
     "evalue": "cannot import name 'PrintAccuracies' from 'ipynb.fs.full.TrainingFunction' (unknown location)",
     "output_type": "error",
     "traceback": [
      "\u001b[1;31m---------------------------------------------------------------------------\u001b[0m",
      "\u001b[1;31mImportError\u001b[0m                               Traceback (most recent call last)",
      "\u001b[1;32m<ipython-input-2-f078e943f911>\u001b[0m in \u001b[0;36m<module>\u001b[1;34m\u001b[0m\n\u001b[0;32m      1\u001b[0m \u001b[1;32mfrom\u001b[0m \u001b[0mipynb\u001b[0m\u001b[1;33m.\u001b[0m\u001b[0mfs\u001b[0m\u001b[1;33m.\u001b[0m\u001b[0mfull\u001b[0m\u001b[1;33m.\u001b[0m\u001b[0mTrainingFunction\u001b[0m \u001b[1;32mimport\u001b[0m \u001b[0mTraining\u001b[0m\u001b[1;33m\u001b[0m\u001b[1;33m\u001b[0m\u001b[0m\n\u001b[1;32m----> 2\u001b[1;33m \u001b[1;32mfrom\u001b[0m \u001b[0mipynb\u001b[0m\u001b[1;33m.\u001b[0m\u001b[0mfs\u001b[0m\u001b[1;33m.\u001b[0m\u001b[0mfull\u001b[0m\u001b[1;33m.\u001b[0m\u001b[0mTrainingFunction\u001b[0m \u001b[1;32mimport\u001b[0m \u001b[0mPrintAccuracies\u001b[0m\u001b[1;33m\u001b[0m\u001b[1;33m\u001b[0m\u001b[0m\n\u001b[0m\u001b[0;32m      3\u001b[0m \u001b[1;32mfrom\u001b[0m \u001b[0mipynb\u001b[0m\u001b[1;33m.\u001b[0m\u001b[0mfs\u001b[0m\u001b[1;33m.\u001b[0m\u001b[0mfull\u001b[0m\u001b[1;33m.\u001b[0m\u001b[0mTrainingFunction\u001b[0m \u001b[1;32mimport\u001b[0m \u001b[0mSavePredictionsToFile\u001b[0m\u001b[1;33m\u001b[0m\u001b[1;33m\u001b[0m\u001b[0m\n\u001b[0;32m      4\u001b[0m \u001b[1;33m\u001b[0m\u001b[0m\n\u001b[0;32m      5\u001b[0m \u001b[1;32mfrom\u001b[0m \u001b[0mipynb\u001b[0m\u001b[1;33m.\u001b[0m\u001b[0mfs\u001b[0m\u001b[1;33m.\u001b[0m\u001b[0mfull\u001b[0m\u001b[1;33m.\u001b[0m\u001b[0mParameterTuning\u001b[0m \u001b[1;32mimport\u001b[0m \u001b[0mParameterTuning\u001b[0m\u001b[1;33m\u001b[0m\u001b[1;33m\u001b[0m\u001b[0m\n",
      "\u001b[1;31mImportError\u001b[0m: cannot import name 'PrintAccuracies' from 'ipynb.fs.full.TrainingFunction' (unknown location)"
     ]
    }
   ],
   "source": [
    "from ipynb.fs.full.TrainingFunction import Training_Repeat\n",
    "from ipynb.fs.full.TrainingFunction import PrintAccuracies\n",
    "from ipynb.fs.full.TrainingFunction import SavePredictionsToFile\n",
    "\n",
    "from ipynb.fs.full.ParameterTuning import ParameterTuning"
   ]
  },
  {
   "cell_type": "code",
   "execution_count": null,
   "metadata": {},
   "outputs": [],
   "source": [
    "preprocessed_df = pd.read_csv(\"../data/preprocessedOnlineShoppingData.csv\", index_col=0)\n",
    "\n",
    "categorical_features = ['VisitorType_New_Visitor', 'VisitorType_Other', 'VisitorType_Returning_Visitor', 'Month_Aug', 'Month_Dec', 'Month_Feb', 'Month_Jul', 'Month_June', 'Month_Mar', 'Month_May', 'Month_Nov', 'Month_Oct', 'Month_Sep']\n",
    "target = \"Revenue\"\n",
    "\n",
    "# Convert categorical feature types\n",
    "preprocessed_df[categorical_features] = preprocessed_df[categorical_features].astype('category') \n",
    "preprocessed_df[target] = preprocessed_df[target].astype('category') \n",
    "\n",
    "print('Revenue distribution:\\n'+ str(preprocessed_df['Revenue'].value_counts()))"
   ]
  },
  {
   "cell_type": "code",
   "execution_count": null,
   "metadata": {},
   "outputs": [],
   "source": [
    "# Balancing (oversampling)\n",
    "count_class_0, count_class_1 = preprocessed_df['Revenue'].value_counts()\n",
    "df_class_0 = preprocessed_df[preprocessed_df['Revenue'] == 0]\n",
    "df_class_1 = preprocessed_df[preprocessed_df['Revenue'] == 1]\n",
    "# Oversample\n",
    "df_class_1_over = df_class_1.sample(count_class_0, replace=True)\n",
    "oversampled_df = pd.concat([df_class_0, df_class_1_over], axis=0)\n",
    "# Split back into X_train and y_train    \n",
    "print('Random over-sampling:\\n'+ str(oversampled_df['Revenue'].value_counts()))"
   ]
  },
  {
   "cell_type": "markdown",
   "metadata": {},
   "source": [
    "# KNN"
   ]
  },
  {
   "cell_type": "code",
   "execution_count": null,
   "metadata": {},
   "outputs": [],
   "source": [
    "knn_model = KNeighborsClassifier(n_neighbors=13, algorithm = 'brute', metric='manhattan', weights='uniform')\n",
    "\n",
    "knn_stats = Training_Repeat(oversampled_df.copy(), target, knn_model)\n",
    "SavePredictionsToFile(\"../accuracy/OnlineShoppingKNN.csv\", knn_stats)"
   ]
  },
  {
   "cell_type": "markdown",
   "metadata": {},
   "source": [
    "# Random Forest"
   ]
  },
  {
   "cell_type": "code",
   "execution_count": null,
   "metadata": {},
   "outputs": [],
   "source": [
    "rf_model = RandomForestClassifier(bootstrap= True, max_depth=10, max_features= 8, min_samples_leaf= 5, min_samples_split = 8, n_estimators = 100)\n",
    "\n",
    "rf_stats = Training_Repeat(oversampled_df.copy(), target, rf_model)\n",
    "SavePredictionsToFile(\"../accuracy/OnlineShoppingRF.csv\", rf_stats)"
   ]
  },
  {
   "cell_type": "markdown",
   "metadata": {},
   "source": [
    "# Decision Tree"
   ]
  },
  {
   "cell_type": "code",
   "execution_count": null,
   "metadata": {},
   "outputs": [],
   "source": [
    "dt_model = DecisionTreeClassifier(criterion='gini', max_depth= 4, min_samples_leaf= 3, min_samples_split = 2)\n",
    "\n",
    "dt_stats = Training_Repeat(oversampled_df.copy(), target, dt_model)\n",
    "SavePredictionsToFile(\"../accuracy/OnlineShoppingDT.csv\", dt_stats)"
   ]
  },
  {
   "cell_type": "markdown",
   "metadata": {},
   "source": [
    "# Support Vector Machine"
   ]
  },
  {
   "cell_type": "code",
   "execution_count": null,
   "metadata": {
    "scrolled": true
   },
   "outputs": [],
   "source": [
    "svm_model = SVC(kernel= 'linear')\n",
    "\n",
    "svm_stats = Training_Repeat(oversampled_df.copy(), target, svm_model)\n",
    "SavePredictionsToFile(\"../accuracy/OnlineShoppingSVM.csv\", svm_stats)"
   ]
  },
  {
   "cell_type": "markdown",
   "metadata": {},
   "source": [
    "# Multi Layer Perceptron"
   ]
  },
  {
   "cell_type": "code",
   "execution_count": null,
   "metadata": {},
   "outputs": [],
   "source": [
    "# Hyperparameter Tuning\n",
    "\n",
    "grid_params = {\n",
    "    'hidden_layer_sizes': [(10,30,10),(20,)],\n",
    "    'activation': ['tanh', 'relu'],\n",
    "    'solver': ['sgd', 'adam'],\n",
    "    'alpha': [0.0001, 0.05],\n",
    "    'learning_rate': ['constant','adaptive'],\n",
    "}\n",
    "\n",
    "ParameterTuning (oversampled_df.copy(), target, MLPClassifier(), grid_params)"
   ]
  },
  {
   "cell_type": "code",
   "execution_count": null,
   "metadata": {},
   "outputs": [],
   "source": [
    "mlp_model = MLPClassifier(activation='relu', alpha=0.0001, hidden_layer_sizes=(10, 30, 10), learning_rate='constant', solver='adam')\n",
    "\n",
    "mlp_stats = Training_Repeat(oversampled_df.copy(), target, mlp_model)\n",
    "SavePredictionsToFile(\"../accuracy/OnlineShoppingMLP.csv\", mlp_stats)"
   ]
  },
  {
   "cell_type": "markdown",
   "metadata": {},
   "source": [
    "# Gradient Boosting Ensemble"
   ]
  },
  {
   "cell_type": "code",
   "execution_count": null,
   "metadata": {},
   "outputs": [],
   "source": [
    "# Hyperparameter Tuning\n",
    "\n",
    "grid_params = {\n",
    "    \"n_estimators\":[5,50,250,500],\n",
    "    \"max_depth\":[1,3,5,7,9],\n",
    "    \"learning_rate\":[0.01,0.1,1,10,100]\n",
    "}\n",
    "\n",
    "ParameterTuning (oversampled_df.copy(), target, GradientBoostingClassifier(), grid_params)"
   ]
  },
  {
   "cell_type": "code",
   "execution_count": null,
   "metadata": {},
   "outputs": [],
   "source": [
    "gde_model = GradientBoostingClassifier(learning_rate=1, max_depth=9, n_estimators=500)\n",
    "\n",
    "gde_stats = Training_Repeat(oversampled_df.copy(), target, gde_model)\n",
    "SavePredictionsToFile(\"../accuracy/OnlineShoppingGDE.csv\", gde_stats)"
   ]
  },
  {
   "cell_type": "markdown",
   "metadata": {},
   "source": [
    "# Overall Results"
   ]
  },
  {
   "cell_type": "code",
   "execution_count": null,
   "metadata": {},
   "outputs": [],
   "source": [
    "# To copy-paste into the report\n",
    "\n",
    "outputString = \"\"\n",
    "\n",
    "for i in range (10):\n",
    "    outputString = outputString+str(i+1)+'& %.5f & %.5f & %.5f & %.5f & %.5f & %.5f \\\\ \\\\hline \\n' % (knn_stats[i],svm_stats[i],dt_stats[i],rf_stats[i],mlp_stats[i],gde_stats[i]))\n",
    "    \n",
    "print(outputString)"
   ]
  }
 ],
 "metadata": {
  "kernelspec": {
   "display_name": "Python 3",
   "language": "python",
   "name": "python3"
  },
  "language_info": {
   "codemirror_mode": {
    "name": "ipython",
    "version": 3
   },
   "file_extension": ".py",
   "mimetype": "text/x-python",
   "name": "python",
   "nbconvert_exporter": "python",
   "pygments_lexer": "ipython3",
   "version": "3.8.5"
  }
 },
 "nbformat": 4,
 "nbformat_minor": 4
}

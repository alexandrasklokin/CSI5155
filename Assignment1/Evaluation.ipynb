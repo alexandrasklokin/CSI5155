{
 "cells": [
  {
   "cell_type": "code",
   "execution_count": 1,
   "metadata": {},
   "outputs": [],
   "source": [
    "import sklearn\n",
    "import pandas as pd\n",
    "from sklearn.model_selection import train_test_split\n",
    "from sklearn.metrics import confusion_matrix\n",
    "from sklearn.neighbors import KNeighborsClassifier\n",
    "from sklearn.metrics import classification_report, precision_score, recall_score, f1_score, precision_recall_fscore_support\n",
    "from sklearn.metrics import roc_auc_score\n",
    "from sklearn.metrics import roc_curve, auc\n",
    "from matplotlib import pyplot\n",
    "from sklearn.svm import SVC\n",
    "from sklearn.tree import DecisionTreeClassifier\n",
    "from sklearn.ensemble import RandomForestClassifier\n",
    "import matplotlib.pyplot as plt  \n",
    "import seaborn as sns"
   ]
  },
  {
   "cell_type": "code",
   "execution_count": 2,
   "metadata": {},
   "outputs": [],
   "source": [
    "df = pd.read_csv(\"online_shoppers_intention.csv\")\n",
    "preprocessed_df = pd.read_csv(\"preprocessedData.csv\")"
   ]
  },
  {
   "cell_type": "code",
   "execution_count": 3,
   "metadata": {},
   "outputs": [],
   "source": [
    "categorical_features = ['OperatingSystems_1', 'OperatingSystems_2', 'OperatingSystems_3', 'OperatingSystems_4', 'OperatingSystems_5', 'OperatingSystems_6', 'OperatingSystems_7', 'OperatingSystems_8', 'Browser_1', 'Browser_2', 'Browser_3', 'Browser_4', 'Browser_5', 'Browser_6', 'Browser_7', 'Browser_8', 'Browser_9', 'Browser_10', 'Browser_11', 'Browser_12', 'Browser_13', 'Region_1', 'Region_2', 'Region_3', 'Region_4', 'Region_5', 'Region_6', 'Region_7', 'Region_8', 'Region_9', 'TrafficType_1', 'TrafficType_2', 'TrafficType_3', 'TrafficType_4', 'TrafficType_5', 'TrafficType_6', 'TrafficType_7', 'TrafficType_8', 'TrafficType_9', 'TrafficType_10', 'TrafficType_11', 'TrafficType_12', 'TrafficType_13', 'TrafficType_14', 'TrafficType_15', 'TrafficType_16', 'TrafficType_17', 'TrafficType_18', 'TrafficType_19', 'TrafficType_20', 'VisitorType_New_Visitor', 'VisitorType_Other', 'VisitorType_Returning_Visitor', 'Weekend_False', 'Weekend_True', 'Month_Aug', 'Month_Dec', 'Month_Feb', 'Month_Jul', 'Month_June', 'Month_Mar', 'Month_May', 'Month_Nov', 'Month_Oct', 'Month_Sep']\n",
    "target = \"Revenue\"\n",
    "\n",
    "preprocessed_df[categorical_features] = preprocessed_df[categorical_features].astype('category') \n",
    "preprocessed_df[target] = preprocessed_df[target].astype('category') "
   ]
  },
  {
   "cell_type": "code",
   "execution_count": 4,
   "metadata": {},
   "outputs": [
    {
     "name": "stdout",
     "output_type": "stream",
     "text": [
      "<class 'pandas.core.frame.DataFrame'>\n",
      "RangeIndex: 12330 entries, 0 to 12329\n",
      "Data columns (total 77 columns):\n",
      " #   Column                         Non-Null Count  Dtype   \n",
      "---  ------                         --------------  -----   \n",
      " 0   Unnamed: 0                     12330 non-null  int64   \n",
      " 1   Administrative                 12330 non-null  float64 \n",
      " 2   Administrative_Duration        12330 non-null  float64 \n",
      " 3   Informational                  12330 non-null  float64 \n",
      " 4   Informational_Duration         12330 non-null  float64 \n",
      " 5   ProductRelated                 12330 non-null  float64 \n",
      " 6   ProductRelated_Duration        12330 non-null  float64 \n",
      " 7   BounceRates                    12330 non-null  float64 \n",
      " 8   ExitRates                      12330 non-null  float64 \n",
      " 9   PageValues                     12330 non-null  float64 \n",
      " 10  SpecialDay                     12330 non-null  float64 \n",
      " 11  Revenue                        12330 non-null  category\n",
      " 12  OperatingSystems_1             12330 non-null  category\n",
      " 13  OperatingSystems_2             12330 non-null  category\n",
      " 14  OperatingSystems_3             12330 non-null  category\n",
      " 15  OperatingSystems_4             12330 non-null  category\n",
      " 16  OperatingSystems_5             12330 non-null  category\n",
      " 17  OperatingSystems_6             12330 non-null  category\n",
      " 18  OperatingSystems_7             12330 non-null  category\n",
      " 19  OperatingSystems_8             12330 non-null  category\n",
      " 20  Browser_1                      12330 non-null  category\n",
      " 21  Browser_2                      12330 non-null  category\n",
      " 22  Browser_3                      12330 non-null  category\n",
      " 23  Browser_4                      12330 non-null  category\n",
      " 24  Browser_5                      12330 non-null  category\n",
      " 25  Browser_6                      12330 non-null  category\n",
      " 26  Browser_7                      12330 non-null  category\n",
      " 27  Browser_8                      12330 non-null  category\n",
      " 28  Browser_9                      12330 non-null  category\n",
      " 29  Browser_10                     12330 non-null  category\n",
      " 30  Browser_11                     12330 non-null  category\n",
      " 31  Browser_12                     12330 non-null  category\n",
      " 32  Browser_13                     12330 non-null  category\n",
      " 33  Region_1                       12330 non-null  category\n",
      " 34  Region_2                       12330 non-null  category\n",
      " 35  Region_3                       12330 non-null  category\n",
      " 36  Region_4                       12330 non-null  category\n",
      " 37  Region_5                       12330 non-null  category\n",
      " 38  Region_6                       12330 non-null  category\n",
      " 39  Region_7                       12330 non-null  category\n",
      " 40  Region_8                       12330 non-null  category\n",
      " 41  Region_9                       12330 non-null  category\n",
      " 42  TrafficType_1                  12330 non-null  category\n",
      " 43  TrafficType_2                  12330 non-null  category\n",
      " 44  TrafficType_3                  12330 non-null  category\n",
      " 45  TrafficType_4                  12330 non-null  category\n",
      " 46  TrafficType_5                  12330 non-null  category\n",
      " 47  TrafficType_6                  12330 non-null  category\n",
      " 48  TrafficType_7                  12330 non-null  category\n",
      " 49  TrafficType_8                  12330 non-null  category\n",
      " 50  TrafficType_9                  12330 non-null  category\n",
      " 51  TrafficType_10                 12330 non-null  category\n",
      " 52  TrafficType_11                 12330 non-null  category\n",
      " 53  TrafficType_12                 12330 non-null  category\n",
      " 54  TrafficType_13                 12330 non-null  category\n",
      " 55  TrafficType_14                 12330 non-null  category\n",
      " 56  TrafficType_15                 12330 non-null  category\n",
      " 57  TrafficType_16                 12330 non-null  category\n",
      " 58  TrafficType_17                 12330 non-null  category\n",
      " 59  TrafficType_18                 12330 non-null  category\n",
      " 60  TrafficType_19                 12330 non-null  category\n",
      " 61  TrafficType_20                 12330 non-null  category\n",
      " 62  VisitorType_New_Visitor        12330 non-null  category\n",
      " 63  VisitorType_Other              12330 non-null  category\n",
      " 64  VisitorType_Returning_Visitor  12330 non-null  category\n",
      " 65  Weekend_False                  12330 non-null  category\n",
      " 66  Weekend_True                   12330 non-null  category\n",
      " 67  Month_Aug                      12330 non-null  category\n",
      " 68  Month_Dec                      12330 non-null  category\n",
      " 69  Month_Feb                      12330 non-null  category\n",
      " 70  Month_Jul                      12330 non-null  category\n",
      " 71  Month_June                     12330 non-null  category\n",
      " 72  Month_Mar                      12330 non-null  category\n",
      " 73  Month_May                      12330 non-null  category\n",
      " 74  Month_Nov                      12330 non-null  category\n",
      " 75  Month_Oct                      12330 non-null  category\n",
      " 76  Month_Sep                      12330 non-null  category\n",
      "dtypes: category(66), float64(10), int64(1)\n",
      "memory usage: 1.8 MB\n"
     ]
    }
   ],
   "source": [
    "preprocessed_df.info(verbose=True)"
   ]
  },
  {
   "cell_type": "code",
   "execution_count": 5,
   "metadata": {},
   "outputs": [],
   "source": [
    "# Split dataframe into x and y\n",
    "\n",
    "X = preprocessed_df.drop(columns=[\"Revenue\"])\n",
    "y = preprocessed_df[\"Revenue\"].values"
   ]
  },
  {
   "cell_type": "code",
   "execution_count": 6,
   "metadata": {},
   "outputs": [],
   "source": [
    "# Split dataframe into train and test data\n",
    "# Note: Stratify preserves the propotion of Revenue of T/F in the testing and training sets\n",
    "\n",
    "X_train, X_test, y_train, y_test = train_test_split(X, y, test_size=0.3, stratify=y)"
   ]
  },
  {
   "cell_type": "markdown",
   "metadata": {},
   "source": [
    "# KNN Classifier"
   ]
  },
  {
   "cell_type": "code",
   "execution_count": 7,
   "metadata": {},
   "outputs": [
    {
     "data": {
      "text/plain": [
       "KNeighborsClassifier(n_neighbors=3)"
      ]
     },
     "execution_count": 7,
     "metadata": {},
     "output_type": "execute_result"
    }
   ],
   "source": [
    "# Create KNN classifier\n",
    "knn = KNeighborsClassifier(n_neighbors = 3)\n",
    "\n",
    "# Fit the classifier to the data\n",
    "knn.fit(X_train, y_train)"
   ]
  },
  {
   "cell_type": "code",
   "execution_count": 8,
   "metadata": {},
   "outputs": [
    {
     "data": {
      "text/plain": [
       "array([0, 0, 0, 0, 0, 0, 0, 0, 0, 0, 0, 0, 0, 0, 1, 0, 0, 0, 0, 0, 0, 0,\n",
       "       0, 0, 0, 0, 0, 0, 0, 0, 0, 0, 0, 0, 0, 0, 0, 0, 0, 0, 0, 0, 0, 0,\n",
       "       0, 0, 0, 0, 1, 1, 0, 0, 0, 0, 0, 0, 0, 0, 0, 0, 0, 0, 0, 0, 0, 0,\n",
       "       0, 0, 0, 0, 1, 0, 0, 0, 0, 0, 0, 0, 0, 1, 0, 0, 0, 0, 0, 0, 0, 0,\n",
       "       0, 0, 0, 0, 0, 0, 0, 0, 0, 0, 0, 0], dtype=int64)"
      ]
     },
     "execution_count": 8,
     "metadata": {},
     "output_type": "execute_result"
    }
   ],
   "source": [
    "# Show first 100 model predictions on the test data\n",
    "y_preds_knn = knn.predict(X_test)\n",
    "knn.predict(X_test)[0:100]"
   ]
  },
  {
   "cell_type": "code",
   "execution_count": 9,
   "metadata": {},
   "outputs": [
    {
     "data": {
      "text/plain": [
       "0.8175182481751825"
      ]
     },
     "execution_count": 9,
     "metadata": {},
     "output_type": "execute_result"
    }
   ],
   "source": [
    "# Accuracy on the test data\n",
    "knn.score(X_test, y_test)"
   ]
  },
  {
   "cell_type": "markdown",
   "metadata": {},
   "source": [
    "###  Confusion Matrix"
   ]
  },
  {
   "cell_type": "code",
   "execution_count": 10,
   "metadata": {},
   "outputs": [
    {
     "name": "stdout",
     "output_type": "stream",
     "text": [
      "[[2976  151]\n",
      " [ 524   48]]\n"
     ]
    }
   ],
   "source": [
    "conf_mat = confusion_matrix(y_test, y_preds_knn)\n",
    "print(conf_mat)"
   ]
  },
  {
   "cell_type": "code",
   "execution_count": 11,
   "metadata": {},
   "outputs": [
    {
     "data": {
      "image/png": "[encoded data removed]",
      "text/plain": [
       "<Figure size 432x288 with 2 Axes>"
      ]
     },
     "metadata": {
      "needs_background": "light"
     },
     "output_type": "display_data"
    }
   ],
   "source": [
    "ax = plt.subplot()\n",
    "sns.heatmap(conf_mat, annot=True, fmt='g', ax=ax);  #annot=True to annotate cells, ftm='g' to disable scientific notation\n",
    "\n",
    "ax.set_xlabel('Predicted labels');ax.set_ylabel('True labels'); \n",
    "ax.set_title('Confusion Matrix'); \n",
    "ax.xaxis.set_ticklabels(['False', 'True']); ax.yaxis.set_ticklabels(['False', 'True']);"
   ]
  },
  {
   "cell_type": "markdown",
   "metadata": {},
   "source": [
    "### F1-Score "
   ]
  },
  {
   "cell_type": "code",
   "execution_count": 12,
   "metadata": {},
   "outputs": [
    {
     "name": "stdout",
     "output_type": "stream",
     "text": [
      "Overall F1-Score                                    : 0.124514\n",
      "\n",
      "Classification Report                       : \n",
      "              precision    recall  f1-score   support\n",
      "\n",
      "           0       0.85      0.95      0.90      3127\n",
      "           1       0.24      0.08      0.12       572\n",
      "\n",
      "    accuracy                           0.82      3699\n",
      "   macro avg       0.55      0.52      0.51      3699\n",
      "weighted avg       0.76      0.82      0.78      3699\n",
      "\n"
     ]
    }
   ],
   "source": [
    "print('Overall F1-Score                                    : %.6f'%f1_score(y_test, y_preds_knn))\n",
    "print('\\nClassification Report                       : ')\n",
    "print(classification_report(y_test, y_preds_knn))"
   ]
  },
  {
   "cell_type": "markdown",
   "metadata": {},
   "source": [
    "# SVM Classifier"
   ]
  },
  {
   "cell_type": "code",
   "execution_count": 13,
   "metadata": {},
   "outputs": [
    {
     "data": {
      "text/plain": [
       "SVC(kernel='linear', probability=True)"
      ]
     },
     "execution_count": 13,
     "metadata": {},
     "output_type": "execute_result"
    }
   ],
   "source": [
    "# Create SVM classifier\n",
    "svclassifier = SVC(kernel='linear', probability=True)\n",
    "\n",
    "# Fit the classifier to the data\n",
    "svclassifier.fit(X_train, y_train)"
   ]
  },
  {
   "cell_type": "code",
   "execution_count": 14,
   "metadata": {},
   "outputs": [
    {
     "data": {
      "text/plain": [
       "array([0, 0, 0, 0, 1, 0, 0, 0, 0, 0, 0, 0, 0, 0, 1, 1, 0, 0, 0, 0, 0, 0,\n",
       "       0, 0, 0, 0, 0, 0, 0, 0, 1, 0, 0, 0, 0, 0, 0, 1, 0, 0, 0, 0, 0, 0,\n",
       "       0, 0, 0, 0, 0, 0, 0, 0, 0, 0, 0, 0, 0, 0, 0, 0, 0, 0, 1, 0, 1, 0,\n",
       "       0, 0, 1, 0, 0, 0, 0, 0, 0, 0, 0, 0, 0, 0, 0, 0, 0, 0, 0, 0, 0, 0,\n",
       "       0, 0, 0, 0, 0, 0, 0, 0, 0, 0, 1, 0], dtype=int64)"
      ]
     },
     "execution_count": 14,
     "metadata": {},
     "output_type": "execute_result"
    }
   ],
   "source": [
    "# Show first 100 model predictions on the test data\n",
    "y_preds_svm = svclassifier.predict(X_test)\n",
    "svclassifier.predict(X_test)[0:100]"
   ]
  },
  {
   "cell_type": "code",
   "execution_count": 15,
   "metadata": {},
   "outputs": [
    {
     "data": {
      "text/plain": [
       "0.8778048121113815"
      ]
     },
     "execution_count": 15,
     "metadata": {},
     "output_type": "execute_result"
    }
   ],
   "source": [
    "# Accuracy on the test data\n",
    "svclassifier.score(X_test, y_test)"
   ]
  },
  {
   "cell_type": "markdown",
   "metadata": {},
   "source": [
    "### Confusion Matrix"
   ]
  },
  {
   "cell_type": "code",
   "execution_count": 16,
   "metadata": {},
   "outputs": [
    {
     "name": "stdout",
     "output_type": "stream",
     "text": [
      "[[2976  151]\n",
      " [ 524   48]]\n"
     ]
    }
   ],
   "source": [
    "conf_mat = confusion_matrix(y_test, y_preds_knn)\n",
    "print(conf_mat)"
   ]
  },
  {
   "cell_type": "code",
   "execution_count": 17,
   "metadata": {},
   "outputs": [
    {
     "data": {
      "image/png": "[encoded data removed]",
      "text/plain": [
       "<Figure size 432x288 with 2 Axes>"
      ]
     },
     "metadata": {
      "needs_background": "light"
     },
     "output_type": "display_data"
    }
   ],
   "source": [
    "ax = plt.subplot()\n",
    "sns.heatmap(conf_mat, annot=True, fmt='g', ax=ax);  #annot=True to annotate cells, ftm='g' to disable scientific notation\n",
    "\n",
    "ax.set_xlabel('Predicted labels');ax.set_ylabel('True labels'); \n",
    "ax.set_title('Confusion Matrix'); \n",
    "ax.xaxis.set_ticklabels(['False', 'True']); ax.yaxis.set_ticklabels(['False', 'True']);"
   ]
  },
  {
   "cell_type": "markdown",
   "metadata": {},
   "source": [
    "### F1-Score"
   ]
  },
  {
   "cell_type": "code",
   "execution_count": 18,
   "metadata": {},
   "outputs": [
    {
     "name": "stdout",
     "output_type": "stream",
     "text": [
      "Overall F1-Score                                    : 0.488688\n",
      "\n",
      "Classification Report                       : \n",
      "              precision    recall  f1-score   support\n",
      "\n",
      "           0       0.89      0.97      0.93      3127\n",
      "           1       0.69      0.38      0.49       572\n",
      "\n",
      "    accuracy                           0.88      3699\n",
      "   macro avg       0.79      0.67      0.71      3699\n",
      "weighted avg       0.86      0.88      0.86      3699\n",
      "\n"
     ]
    }
   ],
   "source": [
    "print('Overall F1-Score                                    : %.6f'%f1_score(y_test, y_preds_svm))\n",
    "print('\\nClassification Report                       : ')\n",
    "print(classification_report(y_test, y_preds_svm))"
   ]
  },
  {
   "cell_type": "markdown",
   "metadata": {},
   "source": [
    "# Single Decision Tree Classifier"
   ]
  },
  {
   "cell_type": "code",
   "execution_count": 19,
   "metadata": {},
   "outputs": [
    {
     "data": {
      "text/plain": [
       "DecisionTreeClassifier()"
      ]
     },
     "execution_count": 19,
     "metadata": {},
     "output_type": "execute_result"
    }
   ],
   "source": [
    "decisionTree = DecisionTreeClassifier()\n",
    "decisionTree.fit(X_train, y_train)"
   ]
  },
  {
   "cell_type": "code",
   "execution_count": 20,
   "metadata": {},
   "outputs": [
    {
     "data": {
      "text/plain": [
       "array([0, 0, 1, 1, 1, 0, 0, 0, 0, 0, 0, 1, 0, 0, 1, 1, 0, 0, 0, 0, 0, 0,\n",
       "       0, 0, 0, 0, 1, 0, 0, 0, 1, 0, 1, 0, 0, 0, 0, 1, 0, 0, 0, 0, 0, 1,\n",
       "       0, 0, 0, 0, 0, 1, 0, 0, 0, 0, 0, 0, 0, 0, 0, 0, 0, 0, 1, 0, 1, 0,\n",
       "       0, 0, 1, 0, 1, 0, 0, 0, 1, 0, 0, 1, 0, 0, 1, 0, 0, 0, 1, 0, 0, 0,\n",
       "       0, 0, 0, 0, 0, 0, 0, 0, 0, 0, 1, 0], dtype=int64)"
      ]
     },
     "execution_count": 20,
     "metadata": {},
     "output_type": "execute_result"
    }
   ],
   "source": [
    "y_preds_dt = decisionTree.predict(X_test)\n",
    "decisionTree.predict(X_test)[0:100]"
   ]
  },
  {
   "cell_type": "code",
   "execution_count": 21,
   "metadata": {},
   "outputs": [
    {
     "data": {
      "text/plain": [
       "0.8626655852933225"
      ]
     },
     "execution_count": 21,
     "metadata": {},
     "output_type": "execute_result"
    }
   ],
   "source": [
    "# Accuracy on the test data\n",
    "decisionTree.score(X_test, y_test)"
   ]
  },
  {
   "cell_type": "markdown",
   "metadata": {},
   "source": [
    "### Confusion Matrix"
   ]
  },
  {
   "cell_type": "code",
   "execution_count": 22,
   "metadata": {},
   "outputs": [
    {
     "name": "stdout",
     "output_type": "stream",
     "text": [
      "[[2850  277]\n",
      " [ 231  341]]\n"
     ]
    }
   ],
   "source": [
    "conf_mat = confusion_matrix(y_test, y_preds_dt)\n",
    "print(conf_mat)"
   ]
  },
  {
   "cell_type": "code",
   "execution_count": 23,
   "metadata": {},
   "outputs": [
    {
     "data": {
      "image/png": "[encoded data removed]",
      "text/plain": [
       "<Figure size 432x288 with 2 Axes>"
      ]
     },
     "metadata": {
      "needs_background": "light"
     },
     "output_type": "display_data"
    }
   ],
   "source": [
    "ax = plt.subplot()\n",
    "sns.heatmap(conf_mat, annot=True, fmt='g', ax=ax);  #annot=True to annotate cells, ftm='g' to disable scientific notation\n",
    "\n",
    "ax.set_xlabel('Predicted labels');ax.set_ylabel('True labels'); \n",
    "ax.set_title('Confusion Matrix'); \n",
    "ax.xaxis.set_ticklabels(['False', 'True']); ax.yaxis.set_ticklabels(['False', 'True']);"
   ]
  },
  {
   "cell_type": "markdown",
   "metadata": {},
   "source": [
    "### F1-Score"
   ]
  },
  {
   "cell_type": "code",
   "execution_count": 24,
   "metadata": {},
   "outputs": [
    {
     "name": "stdout",
     "output_type": "stream",
     "text": [
      "Overall F1-Score                                    : 0.573109\n",
      "\n",
      "Classification Report                       : \n",
      "              precision    recall  f1-score   support\n",
      "\n",
      "           0       0.93      0.91      0.92      3127\n",
      "           1       0.55      0.60      0.57       572\n",
      "\n",
      "    accuracy                           0.86      3699\n",
      "   macro avg       0.74      0.75      0.75      3699\n",
      "weighted avg       0.87      0.86      0.86      3699\n",
      "\n"
     ]
    }
   ],
   "source": [
    "print('Overall F1-Score                                    : %.6f'%f1_score(y_test, y_preds_dt))\n",
    "print('\\nClassification Report                       : ')\n",
    "print(classification_report(y_test, y_preds_dt))"
   ]
  },
  {
   "cell_type": "markdown",
   "metadata": {},
   "source": [
    "# Random Forest"
   ]
  },
  {
   "cell_type": "code",
   "execution_count": 25,
   "metadata": {},
   "outputs": [
    {
     "data": {
      "text/plain": [
       "RandomForestClassifier(random_state=0)"
      ]
     },
     "execution_count": 25,
     "metadata": {},
     "output_type": "execute_result"
    }
   ],
   "source": [
    "randomForest = RandomForestClassifier(n_estimators=100, random_state=0)\n",
    "randomForest.fit(X_train, y_train)"
   ]
  },
  {
   "cell_type": "code",
   "execution_count": 26,
   "metadata": {},
   "outputs": [
    {
     "data": {
      "text/plain": [
       "array([1, 0, 0, 0, 1, 0, 0, 0, 0, 0, 0, 0, 0, 0, 1, 1, 0, 0, 0, 0, 0, 0,\n",
       "       0, 0, 0, 0, 0, 0, 0, 0, 1, 0, 0, 0, 0, 0, 0, 1, 0, 0, 0, 0, 0, 0,\n",
       "       0, 1, 0, 0, 0, 0, 0, 0, 0, 0, 0, 0, 0, 0, 0, 0, 0, 0, 0, 0, 1, 0,\n",
       "       0, 0, 1, 0, 0, 0, 0, 0, 0, 0, 0, 1, 0, 0, 0, 0, 0, 0, 0, 0, 0, 0,\n",
       "       0, 0, 0, 0, 0, 0, 0, 0, 0, 0, 0, 0], dtype=int64)"
      ]
     },
     "execution_count": 26,
     "metadata": {},
     "output_type": "execute_result"
    }
   ],
   "source": [
    "y_preds_rf = randomForest.predict(X_test)\n",
    "randomForest.predict(X_test)[0:100]"
   ]
  },
  {
   "cell_type": "code",
   "execution_count": 27,
   "metadata": {},
   "outputs": [
    {
     "data": {
      "text/plain": [
       "0.9005136523384698"
      ]
     },
     "execution_count": 27,
     "metadata": {},
     "output_type": "execute_result"
    }
   ],
   "source": [
    "# Accuracy on the test data\n",
    "randomForest.score(X_test, y_test)"
   ]
  },
  {
   "cell_type": "markdown",
   "metadata": {},
   "source": [
    "### Confusion Matrix"
   ]
  },
  {
   "cell_type": "code",
   "execution_count": 28,
   "metadata": {},
   "outputs": [
    {
     "name": "stdout",
     "output_type": "stream",
     "text": [
      "[[2850  277]\n",
      " [ 231  341]]\n"
     ]
    }
   ],
   "source": [
    "cont_mat = confusion_matrix(y_test, y_preds_rf)\n",
    "print(conf_mat)"
   ]
  },
  {
   "cell_type": "code",
   "execution_count": 29,
   "metadata": {},
   "outputs": [
    {
     "data": {
      "image/png": "[encoded data removed]",
      "text/plain": [
       "<Figure size 432x288 with 2 Axes>"
      ]
     },
     "metadata": {
      "needs_background": "light"
     },
     "output_type": "display_data"
    }
   ],
   "source": [
    "ax = plt.subplot()\n",
    "sns.heatmap(cont_mat, annot=True, fmt='g', ax=ax);  #annot=True to annotate cells, ftm='g' to disable scientific notation\n",
    "\n",
    "ax.set_xlabel('Predicted labels');ax.set_ylabel('True labels'); \n",
    "ax.set_title('Confusion Matrix'); \n",
    "ax.xaxis.set_ticklabels(['False', 'True']); ax.yaxis.set_ticklabels(['False', 'True']);"
   ]
  },
  {
   "cell_type": "markdown",
   "metadata": {},
   "source": [
    "### F1-Score"
   ]
  },
  {
   "cell_type": "code",
   "execution_count": 30,
   "metadata": {},
   "outputs": [
    {
     "name": "stdout",
     "output_type": "stream",
     "text": [
      "Overall F1-Score                                    : 0.621399\n",
      "\n",
      "Classification Report                       : \n",
      "              precision    recall  f1-score   support\n",
      "\n",
      "           0       0.92      0.97      0.94      3127\n",
      "           1       0.76      0.53      0.62       572\n",
      "\n",
      "    accuracy                           0.90      3699\n",
      "   macro avg       0.84      0.75      0.78      3699\n",
      "weighted avg       0.89      0.90      0.89      3699\n",
      "\n"
     ]
    }
   ],
   "source": [
    "print('Overall F1-Score                                    : %.6f'%f1_score(y_test, y_preds_rf))\n",
    "print('\\nClassification Report                       : ')\n",
    "print(classification_report(y_test, y_preds_rf))"
   ]
  },
  {
   "cell_type": "markdown",
   "metadata": {},
   "source": [
    "# ROC Curve "
   ]
  },
  {
   "cell_type": "code",
   "execution_count": 37,
   "metadata": {},
   "outputs": [
    {
     "name": "stdout",
     "output_type": "stream",
     "text": [
      "AUC KNN: 0.517813\n",
      "AUC SVM: 0.673461\n",
      "AUC Decision Tree: 0.753785\n",
      "AUC Random Forest: 0.748316\n"
     ]
    }
   ],
   "source": [
    "# ROC area for each class\n",
    "\n",
    "auc_knn = roc_auc_score(y_test, y_preds_knn)\n",
    "print('AUC KNN: %.6f' % auc_knn)\n",
    "\n",
    "auc_svm = roc_auc_score(y_test, y_preds_svm)\n",
    "print('AUC SVM: %.6f' % auc_svm)\n",
    "\n",
    "auc_dt = roc_auc_score(y_test, y_preds_dt)\n",
    "print('AUC Decision Tree: %.6f' % auc_dt)\n",
    "\n",
    "auc_rf = roc_auc_score(y_test, y_preds_rf)\n",
    "print('AUC Random Forest: %.6f' % auc_rf)"
   ]
  },
  {
   "cell_type": "code",
   "execution_count": 40,
   "metadata": {},
   "outputs": [
    {
     "data": {
      "image/png": "[encoded data removed]",
      "text/plain": [
       "<Figure size 432x288 with 1 Axes>"
      ]
     },
     "metadata": {
      "needs_background": "light"
     },
     "output_type": "display_data"
    }
   ],
   "source": [
    "# Generating ROC Curve Plot\n",
    "\n",
    "y_pred_roc_knn = knn.predict_proba(X_test)[:,1] \n",
    "y_pred_roc_svm = svclassifier.predict_proba(X_test)[:,1] \n",
    "y_pred_roc_dt = decisionTree.predict_proba(X_test)[:,1] \n",
    "y_pred_roc_rf = randomForest.predict_proba(X_test)[:,1] \n",
    "\n",
    "\n",
    "# For the straight line\n",
    "straight_probs = [0 for _ in range(len(y_test))]\n",
    "straight_fpr, straight_tpr, _ = roc_curve(y_test, straight_probs)\n",
    "pyplot.plot(straight_fpr, straight_tpr, linestyle='--', label=\"TPR=FPR\")\n",
    "\n",
    "# For KNN Classifier\n",
    "knn_fpr, knn_tpr, _ = roc_curve(y_test, y_pred_roc_knn)\n",
    "pyplot.plot(knn_fpr, knn_tpr, linestyle='--', label='KNN Classifier ({:.2f})'.format(auc_knn))\n",
    "\n",
    "# For SVM Classifier\n",
    "svm_fpr, svm_tpr, _ = roc_curve(y_test, y_pred_roc_svm)\n",
    "pyplot.plot(svm_fpr, svm_tpr, linestyle='--', label='SVM Classifier ({:.2f})'.format(auc_svm))\n",
    "\n",
    "# For Decition Tree Classifier\n",
    "dt_fpr, dt_tpr, _ = roc_curve(y_test, y_pred_roc_dt)\n",
    "pyplot.plot(dt_fpr, dt_tpr, linestyle='--', label='Decision Tree Classifier ({:.2f})'.format(auc_dt))\n",
    "\n",
    "# For Random Forest Classifier\n",
    "rf_fpr, rf_tpr, _ = roc_curve(y_test, y_pred_roc_rf)\n",
    "pyplot.plot(rf_fpr, rf_tpr, linestyle='--', label='Random Forest Classifier ({:.2f})'.format(auc_rf))\n",
    "\n",
    "# To Plot\n",
    "pyplot.xlabel('False Positive Rate')\n",
    "pyplot.ylabel('True Positive Rate')\n",
    "pyplot.legend()\n",
    "pyplot.savefig(\"ROCCurve.png\")\n",
    "pyplot.show()"
   ]
  },
  {
   "cell_type": "code",
   "execution_count": null,
   "metadata": {},
   "outputs": [],
   "source": []
  }
 ],
 "metadata": {
  "kernelspec": {
   "display_name": "Python 3",
   "language": "python",
   "name": "python3"
  },
  "language_info": {
   "codemirror_mode": {
    "name": "ipython",
    "version": 3
   },
   "file_extension": ".py",
   "mimetype": "text/x-python",
   "name": "python",
   "nbconvert_exporter": "python",
   "pygments_lexer": "ipython3",
   "version": "3.8.5"
  }
 },
 "nbformat": 4,
 "nbformat_minor": 4
}

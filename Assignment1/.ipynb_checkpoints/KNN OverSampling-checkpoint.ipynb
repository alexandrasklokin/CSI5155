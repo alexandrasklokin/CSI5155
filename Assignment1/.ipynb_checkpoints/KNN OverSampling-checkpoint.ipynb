{
 "cells": [
  {
   "cell_type": "code",
   "execution_count": 3,
   "metadata": {},
   "outputs": [],
   "source": [
    "import sklearn\n",
    "import pandas as pd\n",
    "from sklearn.model_selection import train_test_split\n",
    "from sklearn.metrics import confusion_matrix\n",
    "from sklearn.neighbors import KNeighborsClassifier\n",
    "from sklearn.metrics import classification_report, precision_score, recall_score, f1_score, accuracy_score\n",
    "from sklearn.metrics import roc_auc_score\n",
    "from sklearn.metrics import roc_curve, auc\n",
    "from matplotlib import pyplot\n",
    "from sklearn.svm import SVC\n",
    "from sklearn.tree import DecisionTreeClassifier\n",
    "from sklearn.ensemble import RandomForestClassifier\n",
    "import matplotlib.pyplot as plt  \n",
    "import seaborn as sns\n",
    "from numpy import set_printoptions\n",
    "from statistics import mean\n",
    "from sklearn.model_selection import GridSearchCV\n",
    "from sklearn.utils import resample\n",
    "import numpy as np"
   ]
  },
  {
   "cell_type": "code",
   "execution_count": 4,
   "metadata": {},
   "outputs": [],
   "source": [
    "preprocessed_df = pd.read_csv(\"preprocessedData.csv\")"
   ]
  },
  {
   "cell_type": "code",
   "execution_count": 5,
   "metadata": {},
   "outputs": [],
   "source": [
    "categorical_features = ['VisitorType_New_Visitor', 'VisitorType_Other', 'VisitorType_Returning_Visitor', 'Month_Aug', 'Month_Dec', 'Month_Feb', 'Month_Jul', 'Month_June', 'Month_Mar', 'Month_May', 'Month_Nov', 'Month_Oct', 'Month_Sep']\n",
    "target = \"Revenue\"\n",
    "\n",
    "preprocessed_df[categorical_features] = preprocessed_df[categorical_features].astype('category') \n",
    "preprocessed_df[target] = preprocessed_df[target].astype('category') "
   ]
  },
  {
   "cell_type": "code",
   "execution_count": 6,
   "metadata": {},
   "outputs": [
    {
     "name": "stdout",
     "output_type": "stream",
     "text": [
      "<class 'pandas.core.frame.DataFrame'>\n",
      "RangeIndex: 12330 entries, 0 to 12329\n",
      "Data columns (total 21 columns):\n",
      " #   Column                         Non-Null Count  Dtype   \n",
      "---  ------                         --------------  -----   \n",
      " 0   Unnamed: 0                     12330 non-null  int64   \n",
      " 1   PageValues                     12330 non-null  float64 \n",
      " 2   ExitRates                      12330 non-null  float64 \n",
      " 3   ProductRelated                 12330 non-null  float64 \n",
      " 4   Administrative                 12330 non-null  float64 \n",
      " 5   Informational                  12330 non-null  float64 \n",
      " 6   SpecialDay                     12330 non-null  float64 \n",
      " 7   Revenue                        12330 non-null  category\n",
      " 8   Month_Aug                      12330 non-null  category\n",
      " 9   Month_Dec                      12330 non-null  category\n",
      " 10  Month_Feb                      12330 non-null  category\n",
      " 11  Month_Jul                      12330 non-null  category\n",
      " 12  Month_June                     12330 non-null  category\n",
      " 13  Month_Mar                      12330 non-null  category\n",
      " 14  Month_May                      12330 non-null  category\n",
      " 15  Month_Nov                      12330 non-null  category\n",
      " 16  Month_Oct                      12330 non-null  category\n",
      " 17  Month_Sep                      12330 non-null  category\n",
      " 18  VisitorType_New_Visitor        12330 non-null  category\n",
      " 19  VisitorType_Other              12330 non-null  category\n",
      " 20  VisitorType_Returning_Visitor  12330 non-null  category\n",
      "dtypes: category(14), float64(6), int64(1)\n",
      "memory usage: 844.3 KB\n"
     ]
    }
   ],
   "source": [
    "preprocessed_df.info(verbose=True)"
   ]
  },
  {
   "cell_type": "code",
   "execution_count": 7,
   "metadata": {},
   "outputs": [],
   "source": [
    "# Split dataframe into x and y\n",
    "\n",
    "X = preprocessed_df.drop(columns=[\"Revenue\"])\n",
    "y = preprocessed_df[\"Revenue\"].values"
   ]
  },
  {
   "cell_type": "markdown",
   "metadata": {},
   "source": [
    "### Hyperparameter Tuning"
   ]
  },
  {
   "cell_type": "code",
   "execution_count": 8,
   "metadata": {},
   "outputs": [
    {
     "name": "stdout",
     "output_type": "stream",
     "text": [
      "Fitting 3 folds for each of 48 candidates, totalling 144 fits\n"
     ]
    },
    {
     "name": "stderr",
     "output_type": "stream",
     "text": [
      "[Parallel(n_jobs=-1)]: Using backend LokyBackend with 4 concurrent workers.\n",
      "[Parallel(n_jobs=-1)]: Done  42 tasks      | elapsed:    5.9s\n",
      "[Parallel(n_jobs=-1)]: Done 144 out of 144 | elapsed:   11.5s finished\n"
     ]
    },
    {
     "data": {
      "text/plain": [
       "{'metric': 'manhattan', 'n_neighbors': 13, 'weights': 'uniform'}"
      ]
     },
     "execution_count": 8,
     "metadata": {},
     "output_type": "execute_result"
    }
   ],
   "source": [
    "X_train, X_test, y_train, y_test = train_test_split(X, y, test_size=0.3, stratify=y)\n",
    "\n",
    "# Parameters for Hyperparameter Tuning\n",
    "grid_params = { 'n_neighbors' : [2,3,4,5,7,9,11,13],\n",
    "               'weights' : ['uniform','distance'],\n",
    "               'metric' : ['minkowski','euclidean','manhattan']}\n",
    "\n",
    "gs = GridSearchCV(KNeighborsClassifier(), grid_params, verbose = 1, cv=3, n_jobs = -1)\n",
    "g_res = gs.fit(X_train, y_train)\n",
    "g_res.best_params_"
   ]
  },
  {
   "cell_type": "markdown",
   "metadata": {},
   "source": [
    "### Building 10 KNN Models"
   ]
  },
  {
   "cell_type": "code",
   "execution_count": null,
   "metadata": {},
   "outputs": [
    {
     "name": "stdout",
     "output_type": "stream",
     "text": [
      "__________________________________________________________________________________Iteration:0\n",
      "Overall F1-Score                                    : 0.003484\n",
      "\n",
      "Classification Report                       : \n",
      "              precision    recall  f1-score   support\n",
      "\n",
      "           0       0.85      1.00      0.92      3127\n",
      "           1       0.50      0.00      0.00       572\n",
      "\n",
      "    accuracy                           0.85      3699\n",
      "   macro avg       0.67      0.50      0.46      3699\n",
      "weighted avg       0.79      0.85      0.78      3699\n",
      "\n",
      "__________________________________________________________________________________Iteration:1\n",
      "Overall F1-Score                                    : 0.006932\n",
      "\n",
      "Classification Report                       : \n",
      "              precision    recall  f1-score   support\n",
      "\n",
      "           0       0.85      1.00      0.92      3127\n",
      "           1       0.40      0.00      0.01       572\n",
      "\n",
      "    accuracy                           0.85      3699\n",
      "   macro avg       0.62      0.50      0.46      3699\n",
      "weighted avg       0.78      0.85      0.78      3699\n",
      "\n",
      "__________________________________________________________________________________Iteration:2\n",
      "Overall F1-Score                                    : 0.000000\n",
      "\n",
      "Classification Report                       : \n",
      "              precision    recall  f1-score   support\n",
      "\n",
      "           0       0.85      1.00      0.92      3127\n",
      "           1       0.00      0.00      0.00       572\n",
      "\n",
      "    accuracy                           0.84      3699\n",
      "   macro avg       0.42      0.50      0.46      3699\n",
      "weighted avg       0.71      0.84      0.77      3699\n",
      "\n",
      "__________________________________________________________________________________Iteration:3\n"
     ]
    }
   ],
   "source": [
    "# Split dataframe into train and test data\n",
    "# Note: Stratify preserves the propotion of Revenue of T/F in the testing and training sets\n",
    "\n",
    "preprocessed_df = pd.read_csv(\"preprocessedData.csv\")\n",
    "preprocessed_df[categorical_features] = preprocessed_df[categorical_features].astype('category') \n",
    "preprocessed_df[target] = preprocessed_df[target].astype('category') \n",
    "\n",
    "\n",
    "X = preprocessed_df.drop(columns=[\"Revenue\"])\n",
    "y = preprocessed_df[\"Revenue\"].values\n",
    "\n",
    "y_predictions = []\n",
    "accuracies = []\n",
    "confusionMatrices = []\n",
    "f1_scores = []\n",
    "precisions = []\n",
    "recalls = []\n",
    "y_pred_roc = []\n",
    "y_tests = []\n",
    "\n",
    "for i in range(10):\n",
    "    print(\"__________________________________________________________________________________Iteration:\"+str(i))\n",
    "    \n",
    "    X_train, X_test, y_train, y_test = train_test_split(X, y, test_size=0.3, stratify=y)\n",
    "    y_tests.append(y_test)\n",
    "\n",
    "    # Create KNN classifier\n",
    "    knn = KNeighborsClassifier(n_neighbors=13, algorithm = 'brute', metric='manhattan', weights='uniform')\n",
    "\n",
    "    # Fit the classifier to the data\n",
    "    knn.fit(X_train, y_train)\n",
    "\n",
    "    # Make predications on the test data\n",
    "    y_preds = knn.predict(X_test)\n",
    "    y_predictions.append(y_preds)\n",
    "    y_pred_roc.append(knn.predict_proba(X_test)[:,1])\n",
    "\n",
    "    # Confusion Matrix\n",
    "    confusionMatrices.append(confusion_matrix(y_test, y_preds))\n",
    "\n",
    "    # Accuracy Scores\n",
    "    accuracies.append(accuracy_score(y_test, y_preds))\n",
    "    f1_scores.append(f1_score(y_test, y_preds))\n",
    "    recalls.append(recall_score(y_test, y_preds))\n",
    "    precisions.append(precision_score(y_test, y_preds))\n",
    "    \n",
    "    # Print some results\n",
    "    print('Overall F1-Score                                    : %.6f'%f1_score(y_test, y_preds))\n",
    "    print('\\nClassification Report                       : ')\n",
    "    print(classification_report(y_test, y_preds))"
   ]
  },
  {
   "cell_type": "code",
   "execution_count": null,
   "metadata": {},
   "outputs": [],
   "source": [
    "print(\"Average Accuracy: \"+str(mean(accuracies)))\n",
    "print(\"Average F1-Score: \"+str(mean(f1_scores)))\n",
    "print(\"Average Recall: \"+str(mean(recalls)))\n",
    "print(\"Average Precision: \"+str(mean(precisions)))"
   ]
  },
  {
   "cell_type": "code",
   "execution_count": null,
   "metadata": {},
   "outputs": [],
   "source": [
    "data = {\"Accuracy\":accuracies, \"F1_Score\":f1_scores, \"Recall\":recalls, \"Precision\":precisions}\n",
    "knn_df = pd.DataFrame(data)  \n",
    "knn_df.to_csv(\"knn_evaluation.csv\")\n",
    "\n",
    "max_f1 = f1_scores.index(max(f1_scores))\n",
    "\n",
    "data_y = {\"Y_true\":y_tests[max_f1], \"Y_Prob_Roc\": y_pred_roc[max_f1]}\n",
    "for i in  range(10):\n",
    "    data_y['Y_pred_'+str(i)] = y_predictions[i]\n",
    "    \n",
    "knn_df_y = pd.DataFrame(data_y) \n",
    "knn_df_y.to_csv(\"knn_predictions.csv\")\n",
    "\n",
    "knn_df_y.shape"
   ]
  },
  {
   "cell_type": "markdown",
   "metadata": {},
   "source": [
    "###  Confusion Matrices"
   ]
  },
  {
   "cell_type": "code",
   "execution_count": null,
   "metadata": {},
   "outputs": [],
   "source": [
    "for i in range(len(confusionMatrices)):\n",
    "    print(\"____________________________\")\n",
    "    print(\"KNN Model: \"+str(i))\n",
    "    print(confusionMatrices[i])\n"
   ]
  },
  {
   "cell_type": "code",
   "execution_count": null,
   "metadata": {},
   "outputs": [],
   "source": [
    "# Draw confusion matrix with the best F1-Score\n",
    "cf_matrix = confusionMatrices[f1_scores.index(max(f1_scores))]\n",
    "\n",
    "ax= plt.subplot()\n",
    "sns.heatmap(cf_matrix, annot=True, fmt='g', ax=ax);  #annot=True to annotate cells, ftm='g' to disable scientific notation\n",
    "\n",
    "# labels, title and ticks\n",
    "ax.set_xlabel('Predicted labels');ax.set_ylabel('True labels'); \n",
    "ax.set_title('KNN Confusion Matrix'); \n",
    "ax.xaxis.set_ticklabels(['False', 'True']); ax.yaxis.set_ticklabels(['False', 'True']);\n",
    "\n",
    "plt.savefig('KNN_confusionMatrix.png')"
   ]
  },
  {
   "cell_type": "markdown",
   "metadata": {},
   "source": [
    "# Oversampling"
   ]
  },
  {
   "cell_type": "code",
   "execution_count": null,
   "metadata": {},
   "outputs": [],
   "source": [
    "# Class count\n",
    "count_class_0, count_class_1 = preprocessed_df['Revenue'].value_counts()\n",
    "\n",
    "# Divide by class\n",
    "df_class_0 = preprocessed_df[preprocessed_df['Revenue'] == 0]\n",
    "df_class_1 = preprocessed_df[preprocessed_df['Revenue'] == 1]\n",
    "\n",
    "df_class_1_over = df_class_1.sample(count_class_0, replace=True)\n",
    "df_test_over = pd.concat([df_class_0, df_class_1_over], axis=0)\n",
    "\n",
    "print('Random over-sampling:')\n",
    "print(df_test_over['Revenue'].value_counts())\n",
    "\n",
    "X = df_test_over.drop(columns=[\"Revenue\"])\n",
    "y = df_test_over[\"Revenue\"].values"
   ]
  },
  {
   "cell_type": "code",
   "execution_count": null,
   "metadata": {},
   "outputs": [],
   "source": [
    "# Split dataframe into train and test data\n",
    "# Note: Stratify preserves the propotion of Revenue of T/F in the testing and training sets\n",
    "\n",
    "y_predictions_over = []\n",
    "accuracies_over = []\n",
    "confusionMatrices_over = []\n",
    "f1_scores_over = []\n",
    "precisions_over = []\n",
    "recalls_over = []\n",
    "y_pred_roc_over = []\n",
    "y_tests_over = []\n",
    "\n",
    "for i in range(10):\n",
    "    print(\"__________________________________________________________________________________Iteration:\"+str(i))\n",
    "    \n",
    "    X_train, X_test, y_train, y_test = train_test_split(X, y, test_size=0.3, stratify=y)\n",
    "    y_tests_over.append(y_test)\n",
    "\n",
    "    # Create KNN classifier\n",
    "    knn = KNeighborsClassifier(n_neighbors=13, algorithm = 'brute', metric='manhattan', weights='uniform')\n",
    "\n",
    "    # Fit the classifier to the data\n",
    "    knn.fit(X_train, y_train)\n",
    "\n",
    "    # Make predications on the test data\n",
    "    y_preds = knn.predict(X_test)\n",
    "    y_predictions_over.append(y_preds)\n",
    "    y_pred_roc_over.append(knn.predict_proba(X_test)[:,1])\n",
    "\n",
    "    # Confusion Matrix\n",
    "    confusionMatrices_over.append(confusion_matrix(y_test, y_preds))\n",
    "\n",
    "    # Accuracy Scores\n",
    "    accuracies_over.append(accuracy_score(y_test, y_preds))\n",
    "    f1_scores_over.append(f1_score(y_test, y_preds))\n",
    "    recalls_over.append(recall_score(y_test, y_preds))\n",
    "    precisions_over.append(precision_score(y_test, y_preds))\n",
    "    \n",
    "    # Print some results\n",
    "    print('Overall F1-Score                                    : %.6f'%f1_score(y_test, y_preds))\n",
    "    print('\\nClassification Report                       : ')\n",
    "    print(classification_report(y_test, y_preds))"
   ]
  },
  {
   "cell_type": "code",
   "execution_count": null,
   "metadata": {},
   "outputs": [],
   "source": [
    "print(\"Average Accuracy: \"+str(mean(accuracies_over)))\n",
    "print(\"Average F1-Score: \"+str(mean(f1_scores_over)))\n",
    "print(\"Average Recall: \"+str(mean(recalls_over)))\n",
    "print(\"Average Precision: \"+str(mean(precisions_over)))"
   ]
  },
  {
   "cell_type": "code",
   "execution_count": null,
   "metadata": {},
   "outputs": [],
   "source": [
    "data = {\"Accuracy\":accuracies_over, \"F1_Score\":f1_scores_over, \"Recall\":recalls_over, \"Precision\":precisions_over}\n",
    "knn_df = pd.DataFrame(data)  \n",
    "knn_df.to_csv(\"knn_evaluation_over.csv\")\n",
    "\n",
    "max_f1_over = f1_scores_over.index(max(f1_scores_over))\n",
    "\n",
    "data_y = {\"Y_true\":y_tests_over[max_f1_over], \"Y_Prob_Roc\": y_pred_roc_over[max_f1_over]}\n",
    "for i in  range(10):\n",
    "    data_y['Y_pred_'+str(i)] = y_predictions_over[i]\n",
    "    \n",
    "knn_df_y = pd.DataFrame(data_y) \n",
    "knn_df_y.to_csv(\"knn_predictions_over.csv\")\n",
    "\n",
    "knn_df_y.shape"
   ]
  },
  {
   "cell_type": "code",
   "execution_count": null,
   "metadata": {},
   "outputs": [],
   "source": [
    "for i in range(len(confusionMatrices_over)):\n",
    "    print(\"____________________________\")\n",
    "    print(\"KNN Model (oversampling): \"+str(i))\n",
    "    print(confusionMatrices_over[i])"
   ]
  },
  {
   "cell_type": "code",
   "execution_count": null,
   "metadata": {},
   "outputs": [],
   "source": [
    "# Draw confusion matrix with the best F1-Score\n",
    "cf_matrix_over = confusionMatrices_over[f1_scores_over.index(max(f1_scores_over))]\n",
    "\n",
    "ax= plt.subplot()\n",
    "sns.heatmap(cf_matrix_over, annot=True, fmt='g', ax=ax);  #annot=True to annotate cells, ftm='g' to disable scientific notation\n",
    "\n",
    "# labels, title and ticks\n",
    "ax.set_xlabel('Predicted labels');ax.set_ylabel('True labels'); \n",
    "ax.set_title('Confusion Matrix (Overfitting)'); \n",
    "ax.xaxis.set_ticklabels(['False', 'True']); ax.yaxis.set_ticklabels(['False', 'True']);\n",
    "\n",
    "plt.savefig('KNN_over_confusionMatrix.png')"
   ]
  },
  {
   "cell_type": "markdown",
   "metadata": {},
   "source": [
    "# Undersampling"
   ]
  },
  {
   "cell_type": "code",
   "execution_count": null,
   "metadata": {},
   "outputs": [],
   "source": [
    "# Class count\n",
    "df_class_0_under = df_class_0.sample(count_class_1)\n",
    "df_test_under = pd.concat([df_class_0_under, df_class_1], axis=0)\n",
    "\n",
    "print('Random under-sampling:')\n",
    "print(df_test_under['Revenue'].value_counts())\n",
    "\n",
    "\n",
    "X = df_test_under.drop(columns=[\"Revenue\"])\n",
    "y = df_test_under[\"Revenue\"].values"
   ]
  },
  {
   "cell_type": "code",
   "execution_count": null,
   "metadata": {},
   "outputs": [],
   "source": [
    "# Split dataframe into train and test data\n",
    "# Note: Stratify preserves the propotion of Revenue of T/F in the testing and training sets\n",
    "\n",
    "y_predictions_under = []\n",
    "y_tests_under = []\n",
    "accuracies_under = []\n",
    "confusionMatrices_under = []\n",
    "f1_scores_under = []\n",
    "precisions_under = []\n",
    "recalls_under = []\n",
    "y_pred_roc_under = []\n",
    "\n",
    "\n",
    "for i in range(10):\n",
    "    print(\"__________________________________________________________________________________Iteration:\"+str(i))\n",
    "    \n",
    "    X_train, X_test, y_train, y_test = train_test_split(X, y, test_size=0.3, stratify=y)\n",
    "    y_tests_under.append(y_test)\n",
    "\n",
    "    # Create KNN classifier\n",
    "    knn = KNeighborsClassifier(n_neighbors=13, algorithm = 'brute', metric='manhattan', weights='uniform')\n",
    "\n",
    "    # Fit the classifier to the data\n",
    "    knn.fit(X_train, y_train)\n",
    "\n",
    "    # Make predications on the test data\n",
    "    y_preds= knn.predict(X_test)\n",
    "    y_predictions_under.append(y_preds)\n",
    "    y_pred_roc_under.append(knn.predict_proba(X_test)[:,1])\n",
    "\n",
    "    # Confusion Matrix\n",
    "    confusionMatrices_under.append(confusion_matrix(y_test, y_preds))\n",
    "\n",
    "    # Accuracy Scores\n",
    "    accuracies_under.append(accuracy_score(y_test, y_preds))\n",
    "    f1_scores_under.append(f1_score(y_test, y_preds))\n",
    "    recalls_under.append(recall_score(y_test, y_preds))\n",
    "    precisions_under.append(precision_score(y_test, y_preds))\n",
    "    \n",
    "    # Print some results\n",
    "    print('Overall F1-Score                                    : %.6f'%f1_score(y_test, y_preds))\n",
    "    print('\\nClassification Report                       : ')\n",
    "    print(classification_report(y_test, y_preds))"
   ]
  },
  {
   "cell_type": "code",
   "execution_count": null,
   "metadata": {},
   "outputs": [],
   "source": [
    "print(\"Average Accuracy: \"+str(mean(accuracies_under)))\n",
    "print(\"Average F1-Score: \"+str(mean(f1_scores_under)))\n",
    "print(\"Average Recall: \"+str(mean(recalls_under)))\n",
    "print(\"Average Precision: \"+str(mean(precisions_under)))"
   ]
  },
  {
   "cell_type": "code",
   "execution_count": null,
   "metadata": {},
   "outputs": [],
   "source": [
    "data = {\"Accuracy\":accuracies_under, \"F1_Score\":f1_scores_under, \"Recall\":recalls_under, \"Precision\":precisions_under}\n",
    "knn_df = pd.DataFrame(data)  \n",
    "knn_df.to_csv(\"knn_evaluation_under.csv\")\n",
    "\n",
    "max_f1_under = f1_scores_under.index(max(f1_scores_under))\n",
    "\n",
    "data_y = {\"Y_true\":y_tests_under[max_f1_under], \"Y_Prob_Roc\": y_pred_roc_under[max_f1_under]}\n",
    "for i in  range(10):\n",
    "    data_y['Y_pred_'+str(i)] = y_predictions_under[i]\n",
    "    \n",
    "knn_df_y = pd.DataFrame(data_y) \n",
    "knn_df_y.to_csv(\"knn_predictions_under.csv\")\n",
    "\n",
    "knn_df_y.shape"
   ]
  },
  {
   "cell_type": "code",
   "execution_count": null,
   "metadata": {},
   "outputs": [],
   "source": [
    "for i in range(len(confusionMatrices_under)):\n",
    "    print(\"____________________________\")\n",
    "    print(\"KNN Model (undersampling): \"+str(i))\n",
    "    print(confusionMatrices_under[i])"
   ]
  },
  {
   "cell_type": "code",
   "execution_count": null,
   "metadata": {},
   "outputs": [],
   "source": [
    "# Draw confusion matrix with the best F1-Score\n",
    "cf_matrix_under = confusionMatrices_under[f1_scores_under.index(max(f1_scores_under))]\n",
    "\n",
    "ax= plt.subplot()\n",
    "sns.heatmap(cf_matrix_under, annot=True, fmt='g', ax=ax);  #annot=True to annotate cells, ftm='g' to disable scientific notation\n",
    "\n",
    "# labels, title and ticks\n",
    "ax.set_xlabel('Predicted labels');ax.set_ylabel('True labels'); \n",
    "ax.set_title('Confusion Matrix (Underfitting)'); \n",
    "ax.xaxis.set_ticklabels(['False', 'True']); ax.yaxis.set_ticklabels(['False', 'True']);\n",
    "\n",
    "plt.savefig('KNN_under_confusionMatrix.png')"
   ]
  },
  {
   "cell_type": "code",
   "execution_count": null,
   "metadata": {},
   "outputs": [],
   "source": []
  }
 ],
 "metadata": {
  "kernelspec": {
   "display_name": "Python 3",
   "language": "python",
   "name": "python3"
  }
 },
 "nbformat": 4,
 "nbformat_minor": 4
}

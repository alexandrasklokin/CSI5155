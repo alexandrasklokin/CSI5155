{
 "cells": [
  {
   "cell_type": "code",
   "execution_count": 1,
   "metadata": {},
   "outputs": [],
   "source": [
    "import sklearn\n",
    "import pandas as pd\n",
    "from sklearn.model_selection import train_test_split\n",
    "from sklearn.metrics import confusion_matrix\n",
    "from sklearn.neighbors import KNeighborsClassifier\n",
    "from sklearn.metrics import classification_report, precision_score, recall_score, f1_score, accuracy_score\n",
    "from sklearn.metrics import roc_auc_score\n",
    "from matplotlib import pyplot\n",
    "from sklearn.svm import SVC\n",
    "from sklearn.tree import DecisionTreeClassifier\n",
    "from sklearn.ensemble import RandomForestClassifier\n",
    "import matplotlib.pyplot as plt  \n",
    "import seaborn as sns\n",
    "from numpy import set_printoptions\n",
    "from statistics import mean\n",
    "from sklearn.model_selection import GridSearchCV\n",
    "from sklearn.utils import resample\n",
    "import numpy as np\n",
    "from sklearn.metrics import precision_recall_curve\n",
    "from sklearn.metrics import roc_curve, auc"
   ]
  },
  {
   "cell_type": "code",
   "execution_count": 2,
   "metadata": {},
   "outputs": [],
   "source": [
    "# Split dataframe into train and test data\n",
    "# Note: Stratify preserves the propotion of Revenue of T/F in the testing and training sets\n",
    "def svm_training (df, resampling):\n",
    "    \n",
    "    f1_scores_macro = []\n",
    "    recalls_macro = []\n",
    "    precisions_macro = []\n",
    "    f1_scores_weighted = []\n",
    "    recalls_weighted = []\n",
    "    precisions_weighted = []\n",
    "    accuracies = []\n",
    "    auroc = []\n",
    "    aucpr = []\n",
    "\n",
    "    y_preds = []\n",
    "    y_pred_probs = []\n",
    "    y_trues = []\n",
    "    \n",
    "    # Split dataframe into X and y\n",
    "    X = df.drop(columns=[\"Revenue\"])\n",
    "    y = df[\"Revenue\"].values\n",
    "\n",
    "    for i in range(10):\n",
    "        print(\"__________________________________________________________________________________Iteration:\"+str(i))\n",
    "\n",
    "        X_train, X_test, y_train, y_test = train_test_split(X, y, test_size=0.3, stratify=y)\n",
    "        y_trues.append(y_test)\n",
    "        \n",
    "        if (resampling==\"under\"):\n",
    "            # Put the training data back together\n",
    "            df_train = X_train.copy()\n",
    "            df_train['Revenue'] = y_train\n",
    "            # Get the counts of majority and minority classes\n",
    "            count_class_0, count_class_1 = df_train['Revenue'].value_counts()\n",
    "            # Slit into both classes\n",
    "            df_class_0 = df_train[df_train['Revenue'] == 0]\n",
    "            df_class_1 = df_train[df_train['Revenue'] == 1]\n",
    "            # Undersample\n",
    "            df_class_0_under = df_class_0.sample(count_class_1)\n",
    "            df_test_under = pd.concat([df_class_0_under, df_class_1], axis=0)\n",
    "            # Split back into X_train and y_train    \n",
    "            print('Random under-sampling:'+ str(df_test_under['Revenue'].value_counts()))\n",
    "            X_train = df_test_under.drop(columns=[\"Revenue\"])\n",
    "            y_train = df_test_under[\"Revenue\"].values\n",
    "            \n",
    "        if (resampling==\"over\"):\n",
    "            # Put the training data back together\n",
    "            df_train = X_train.copy()\n",
    "            df_train['Revenue'] = y_train\n",
    "            # Get the counts of majority and minority classes\n",
    "            count_class_0, count_class_1 = df_train['Revenue'].value_counts()\n",
    "            # Slit into both classes\n",
    "            df_class_0 = df_train[df_train['Revenue'] == 0]\n",
    "            df_class_1 = df_train[df_train['Revenue'] == 1]\n",
    "            # Oversample\n",
    "            df_class_1_over = df_class_1.sample(count_class_0, replace=True)\n",
    "            df_test_over = pd.concat([df_class_0, df_class_1_over], axis=0)\n",
    "            # Split back into X_train and y_train    \n",
    "            print('Random over-sampling:'+ str(df_test_over['Revenue'].value_counts()))\n",
    "            X_train = df_test_over.drop(columns=[\"Revenue\"])\n",
    "            y_train = df_test_over[\"Revenue\"].values\n",
    "            \n",
    "        # Create KNN classifier\n",
    "        model = SVC(kernel= 'linear', probability=True)\n",
    "\n",
    "        # Fit the classifier to the data\n",
    "        model.fit(X_train, y_train)\n",
    "\n",
    "        # Make predications on the test data\n",
    "        y_pred = model.predict(X_test)\n",
    "        y_preds.append(y_pred)\n",
    "        y_pred_prob = model.predict_proba(X_test)[:,1]\n",
    "        y_pred_probs.append(y_pred_prob)\n",
    "\n",
    "        # Scores\n",
    "        f1_scores_macro.append(f1_score(y_test, y_pred, average='macro'))\n",
    "        recalls_macro.append(recall_score(y_test, y_pred, average='macro'))\n",
    "        precisions_macro.append(precision_score(y_test, y_pred, average='macro'))\n",
    "        f1_scores_weighted.append(f1_score(y_test, y_pred, average='weighted'))\n",
    "        recalls_weighted.append(recall_score(y_test, y_pred, average='weighted'))\n",
    "        precisions_weighted.append(precision_score(y_test, y_pred, average='weighted'))\n",
    "        accuracies.append(accuracy_score(y_test, y_pred))\n",
    "    \n",
    "        # AUC-ROC\n",
    "        auroc.append(roc_auc_score(y_test, y_pred_prob))\n",
    "\n",
    "        # AUC-PR\n",
    "        precision_knn, recall_knn, _ = precision_recall_curve(y_test, y_pred_prob)\n",
    "        aucpr.append(auc(recall_knn, precision_knn))\n",
    "\n",
    "        # Print some results\n",
    "        print('\\nClassification Report                       : ')\n",
    "        print(classification_report(y_test, y_pred))\n",
    "        \n",
    "    # Return all of the stats\n",
    "    return [f1_scores_macro, recalls_macro, precisions_macro, f1_scores_weighted, recalls_weighted, precisions_weighted, accuracies, auroc, aucpr, y_trues, y_preds, y_pred_probs]"
   ]
  },
  {
   "cell_type": "code",
   "execution_count": 3,
   "metadata": {},
   "outputs": [],
   "source": [
    "def printStats(stats):\n",
    "    print(\"Average Accuracy: \"+str(mean(stats[6])))\n",
    "    print(\"Average F1-Score (macro): \"+str(mean(stats[0])))\n",
    "    print(\"Average F1-Score (weighted): \"+str(mean(stats[3])))\n",
    "    print(\"Average Recall (macro): \"+str(mean(stats[1])))\n",
    "    print(\"Average Recall (weighted): \"+str(mean(stats[4])))\n",
    "    print(\"Average Precision (macro): \"+str(mean(stats[2])))\n",
    "    print(\"Average Precision (weighted): \"+str(mean(stats[5])))\n",
    "    print(\"Average AUROC: \"+str(mean(stats[7])))\n",
    "    print(\"Average AUC-PR: \"+str(mean(stats[8])))"
   ]
  },
  {
   "cell_type": "code",
   "execution_count": 4,
   "metadata": {},
   "outputs": [],
   "source": [
    "def findBestModel(stats):\n",
    "    \n",
    "    f1_scores_weighted = stats[3]\n",
    "    y_trues = stats[9]\n",
    "    y_preds = stats[10]\n",
    "    y_pred_probs = stats[11]\n",
    "    \n",
    "    best_model_index = f1_scores_weighted.index(max(f1_scores_weighted))\n",
    "    y_true = y_trues[best_model_index]\n",
    "    y_pred = y_preds[best_model_index]\n",
    "    y_pred_prob = y_pred_probs[best_model_index]\n",
    "    \n",
    "    return [y_true, y_pred, y_pred_prob]"
   ]
  },
  {
   "cell_type": "code",
   "execution_count": 5,
   "metadata": {},
   "outputs": [],
   "source": [
    "def saveBestConfusionMatrix(fileName, y_true, y_pred):\n",
    "    # Confusion Matrix\n",
    "    cf_matrix = (confusion_matrix(y_true, y_pred))\n",
    "\n",
    "    ax= plt.subplot()\n",
    "    sns.heatmap(cf_matrix, annot=True, fmt='g', ax=ax);  #annot=True to annotate cells, ftm='g' to disable scientific notation\n",
    "\n",
    "    # labels, title and ticks\n",
    "    ax.set_xlabel('Predicted labels');ax.set_ylabel('True labels'); \n",
    "    ax.set_title('KNN Confusion Matrix'); \n",
    "    ax.xaxis.set_ticklabels(['False', 'True']); ax.yaxis.set_ticklabels(['False', 'True']);\n",
    "\n",
    "    plt.savefig(fileName)"
   ]
  },
  {
   "cell_type": "code",
   "execution_count": 6,
   "metadata": {},
   "outputs": [],
   "source": [
    "def savePredictionsToFile(fileName, y_true, y_pred, y_pred_probs):\n",
    "    data_y = {\"Y_true\":y_true, \"Y_Pred\": y_pred, \"Y_Pred_Prob\": y_pred_prob}\n",
    "\n",
    "    knn_df_y = pd.DataFrame(data_y) \n",
    "    knn_df_y.to_csv(fileName)\n",
    "\n",
    "    knn_df_y.shape"
   ]
  },
  {
   "cell_type": "code",
   "execution_count": 7,
   "metadata": {},
   "outputs": [],
   "source": [
    "preprocessed_df = pd.read_csv(\"../preprocessing/preprocessedData.csv\")\n",
    "\n",
    "categorical_features = ['VisitorType_New_Visitor', 'VisitorType_Other', 'VisitorType_Returning_Visitor', 'Month_Aug', 'Month_Dec', 'Month_Feb', 'Month_Jul', 'Month_June', 'Month_Mar', 'Month_May', 'Month_Nov', 'Month_Oct', 'Month_Sep']\n",
    "target = \"Revenue\"\n",
    "\n",
    "# Convert categorical feature types\n",
    "preprocessed_df[categorical_features] = preprocessed_df[categorical_features].astype('category') \n",
    "preprocessed_df[target] = preprocessed_df[target].astype('category') "
   ]
  },
  {
   "cell_type": "markdown",
   "metadata": {},
   "source": [
    "# Imbalanced Case"
   ]
  },
  {
   "cell_type": "code",
   "execution_count": null,
   "metadata": {},
   "outputs": [
    {
     "name": "stdout",
     "output_type": "stream",
     "text": [
      "__________________________________________________________________________________Iteration:0\n",
      "\n",
      "Classification Report                       : \n",
      "              precision    recall  f1-score   support\n",
      "\n",
      "           0       0.89      0.98      0.93      3127\n",
      "           1       0.72      0.32      0.45       572\n",
      "\n",
      "    accuracy                           0.88      3699\n",
      "   macro avg       0.81      0.65      0.69      3699\n",
      "weighted avg       0.86      0.88      0.86      3699\n",
      "\n",
      "__________________________________________________________________________________Iteration:1\n",
      "\n",
      "Classification Report                       : \n",
      "              precision    recall  f1-score   support\n",
      "\n",
      "           0       0.90      0.97      0.93      3127\n",
      "           1       0.69      0.39      0.50       572\n",
      "\n",
      "    accuracy                           0.88      3699\n",
      "   macro avg       0.79      0.68      0.71      3699\n",
      "weighted avg       0.86      0.88      0.86      3699\n",
      "\n",
      "__________________________________________________________________________________Iteration:2\n"
     ]
    }
   ],
   "source": [
    "imbalancedstats = svm_training(preprocessed_df, \"\")"
   ]
  },
  {
   "cell_type": "code",
   "execution_count": null,
   "metadata": {},
   "outputs": [],
   "source": [
    "printStats(imbalancedstats)"
   ]
  },
  {
   "cell_type": "code",
   "execution_count": null,
   "metadata": {},
   "outputs": [],
   "source": [
    "y_true, y_pred, y_pred_prob = findBestModel(imbalancedstats)\n",
    "savePredictionsToFile(\"../predictions/svm_predictions.csv\", y_true, y_pred, y_pred_prob)\n",
    "saveBestConfusionMatrix('../confusionMatrices/SVM_confusionMatrix.png', y_true, y_pred)"
   ]
  },
  {
   "cell_type": "markdown",
   "metadata": {},
   "source": [
    "# Oversampling"
   ]
  },
  {
   "cell_type": "code",
   "execution_count": null,
   "metadata": {},
   "outputs": [],
   "source": [
    "oversamplingstats = svm_training(preprocessed_df, \"over\")"
   ]
  },
  {
   "cell_type": "code",
   "execution_count": null,
   "metadata": {},
   "outputs": [],
   "source": [
    "printStats(oversamplingstats)"
   ]
  },
  {
   "cell_type": "code",
   "execution_count": null,
   "metadata": {},
   "outputs": [],
   "source": [
    "y_true_over, y_pred_over, y_pred_prob_over = findBestModel(oversamplingstats)\n",
    "savePredictionsToFile(\"../predictions/svm_over_predictions.csv\", y_true_over, y_pred_over, y_pred_prob_over)\n",
    "saveBestConfusionMatrix('../confusionMatrices/SVM_over_confusionMatrix.png', y_true_over, y_pred_over)"
   ]
  },
  {
   "cell_type": "markdown",
   "metadata": {},
   "source": [
    "# Undersampling"
   ]
  },
  {
   "cell_type": "code",
   "execution_count": null,
   "metadata": {},
   "outputs": [],
   "source": [
    "undersamplingstats = svm_training(preprocessed_df, \"under\")"
   ]
  },
  {
   "cell_type": "code",
   "execution_count": null,
   "metadata": {},
   "outputs": [],
   "source": [
    "printStats(undersamplingstats)"
   ]
  },
  {
   "cell_type": "code",
   "execution_count": null,
   "metadata": {},
   "outputs": [],
   "source": [
    "y_true_under, y_pred_under, y_pred_prob_under = findBestModel(undersamplingstats)\n",
    "savePredictionsToFile(\"../predictions/svm_under_predictions.csv\", y_true_under, y_pred_under, y_pred_prob_under)\n",
    "saveBestConfusionMatrix('../confusionMatrices/SVM_under_confusionMatrix.png', y_true_under, y_pred_under)"
   ]
  },
  {
   "cell_type": "code",
   "execution_count": null,
   "metadata": {},
   "outputs": [],
   "source": []
  }
 ],
 "metadata": {
  "kernelspec": {
   "display_name": "Python 3",
   "language": "python",
   "name": "python3"
  },
  "language_info": {
   "codemirror_mode": {
    "name": "ipython",
    "version": 3
   },
   "file_extension": ".py",
   "mimetype": "text/x-python",
   "name": "python",
   "nbconvert_exporter": "python",
   "pygments_lexer": "ipython3",
   "version": "3.8.5"
  }
 },
 "nbformat": 4,
 "nbformat_minor": 4
}

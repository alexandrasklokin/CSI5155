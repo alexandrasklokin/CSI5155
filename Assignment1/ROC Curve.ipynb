{
 "cells": [
  {
   "cell_type": "code",
   "execution_count": 3,
   "metadata": {},
   "outputs": [],
   "source": [
    "import sklearn\n",
    "import pandas as pd\n",
    "from sklearn.metrics import roc_auc_score\n",
    "from sklearn.metrics import roc_curve, auc\n",
    "from matplotlib import pyplot\n",
    "import matplotlib.pyplot as plt \n",
    "from sklearn.metrics import precision_recall_curve"
   ]
  },
  {
   "cell_type": "code",
   "execution_count": 4,
   "metadata": {},
   "outputs": [],
   "source": [
    "# KNN\n",
    "\n",
    "knn_predictions = pd.read_csv(\"knn_predictions.csv\")\n",
    "knn_over_predictions = pd.read_csv(\"knn_over_predictions.csv\")\n",
    "knn_under_predictions = pd.read_csv(\"knn_under_predictions.csv\")\n",
    "\n",
    "# DecisionTree \n",
    "\n",
    "dt_predictions = pd.read_csv(\"decisionTree_predictions.csv\")\n",
    "dt_over_predictions = pd.read_csv(\"decisionTree_over_predictions.csv\")\n",
    "dt_under_predictions = pd.read_csv(\"decisionTree_under_predictions.csv\")"
   ]
  },
  {
   "cell_type": "code",
   "execution_count": 5,
   "metadata": {},
   "outputs": [],
   "source": [
    "# KNN\n",
    "\n",
    "y_test_knn = knn_predictions['Y_true']\n",
    "y_preds_knn = knn_predictions['Y_Pred_Prob']\n",
    "\n",
    "y_test_knn_over = knn_over_predictions['Y_true']\n",
    "y_preds_knn_over = knn_over_predictions['Y_Pred_Prob']\n",
    "\n",
    "y_test_knn_under = knn_under_predictions['Y_true']\n",
    "y_preds_knn_under = knn_under_predictions['Y_Pred_Prob']\n",
    "\n",
    "# DecisionTree\n",
    "\n",
    "y_test_dt = dt_predictions['Y_true']\n",
    "y_preds_dt = dt_predictions['Y_Pred_Prob']\n",
    "\n",
    "y_test__dt_over = dt_over_predictions['Y_true']\n",
    "y_preds_dt_over = dt_over_predictions['Y_Pred_Prob']\n",
    "\n",
    "y_test_dt_under = dt_under_predictions['Y_true']\n",
    "y_preds_dt_under = dt_under_predictions['Y_Pred_Prob']"
   ]
  },
  {
   "cell_type": "markdown",
   "metadata": {},
   "source": [
    "# ROC Curve "
   ]
  },
  {
   "cell_type": "code",
   "execution_count": 6,
   "metadata": {},
   "outputs": [
    {
     "name": "stdout",
     "output_type": "stream",
     "text": [
      "AUC KNN: 0.618570\n",
      "AUC Decision Tree: 0.524673\n"
     ]
    }
   ],
   "source": [
    "# ROC area for each class\n",
    "\n",
    "auc_knn = roc_auc_score(y_test_knn, y_preds_knn)\n",
    "print('AUC KNN: %.6f' % auc_knn)\n",
    "\n",
    "#auc_svm = roc_auc_score(y_test_svm, y_preds_svm)\n",
    "#print('AUC SVM: %.6f' % auc_svm)\n",
    "\n",
    "auc_dt = roc_auc_score(y_test_dt, y_preds_dt)\n",
    "print('AUC Decision Tree: %.6f' % auc_dt)\n",
    "\n",
    "#auc_rf = roc_auc_score(y_test_rf, y_preds_rf)\n",
    "#print('AUC Random Forest: %.6f' % auc_rf)"
   ]
  },
  {
   "cell_type": "code",
   "execution_count": 7,
   "metadata": {},
   "outputs": [
    {
     "data": {
      "image/png": "[encoded data removed]",
      "text/plain": [
       "<Figure size 432x288 with 1 Axes>"
      ]
     },
     "metadata": {
      "needs_background": "light"
     },
     "output_type": "display_data"
    }
   ],
   "source": [
    "# Generating ROC Curve Plot\n",
    "\n",
    "# For the straight line\n",
    "straight_probs = [0 for _ in range(len(y_test_knn))]\n",
    "straight_fpr, straight_tpr, _ = roc_curve(y_test_knn, straight_probs)\n",
    "pyplot.plot(straight_fpr, straight_tpr, linestyle='--', label=\"TPR=FPR\")\n",
    "\n",
    "# For KNN Classifier\n",
    "knn_fpr, knn_tpr, _ = roc_curve(y_test_knn, y_preds_knn)\n",
    "pyplot.plot(knn_fpr, knn_tpr, linestyle='--', label='KNN Classifier ({:.2f})'.format(auc_knn))\n",
    "\n",
    "# For SVM Classifier\n",
    "#svm_fpr, svm_tpr, _ = roc_curve(y_test_svm, y_preds_svm)\n",
    "#pyplot.plot(svm_fpr, svm_tpr, linestyle='--', label='SVM Classifier ({:.2f})'.format(auc_svm))\n",
    "\n",
    "# For Decition Tree Classifier\n",
    "dt_fpr, dt_tpr, _ = roc_curve(y_test_dt, y_preds_dt)\n",
    "pyplot.plot(dt_fpr, dt_tpr, linestyle='--', label='Decision Tree Classifier ({:.2f})'.format(auc_dt))\n",
    "\n",
    "# For Random Forest Classifier\n",
    "#rf_fpr, rf_tpr, _ = roc_curve(y_test_rf, y_preds_rf)\n",
    "#pyplot.plot(rf_fpr, rf_tpr, linestyle='--', label='Random Forest Classifier ({:.2f})'.format(auc_rf))\n",
    "\n",
    "# To Plot\n",
    "pyplot.xlabel('False Positive Rate')\n",
    "pyplot.ylabel('True Positive Rate')\n",
    "pyplot.legend()\n",
    "pyplot.savefig(\"ROCCurve.png\")\n",
    "pyplot.show()"
   ]
  },
  {
   "cell_type": "markdown",
   "metadata": {},
   "source": [
    "# Oversampling"
   ]
  },
  {
   "cell_type": "code",
   "execution_count": 8,
   "metadata": {},
   "outputs": [
    {
     "name": "stdout",
     "output_type": "stream",
     "text": [
      "AUC KNN: 0.500807\n"
     ]
    },
    {
     "ename": "NameError",
     "evalue": "name 'y_test_dt_over' is not defined",
     "output_type": "error",
     "traceback": [
      "\u001b[1;31m---------------------------------------------------------------------------\u001b[0m",
      "\u001b[1;31mNameError\u001b[0m                                 Traceback (most recent call last)",
      "\u001b[1;32m<ipython-input-8-1e829eb1c485>\u001b[0m in \u001b[0;36m<module>\u001b[1;34m\u001b[0m\n\u001b[0;32m      7\u001b[0m \u001b[1;31m#print('AUC SVM: %.6f' % auc_svm)\u001b[0m\u001b[1;33m\u001b[0m\u001b[1;33m\u001b[0m\u001b[1;33m\u001b[0m\u001b[0m\n\u001b[0;32m      8\u001b[0m \u001b[1;33m\u001b[0m\u001b[0m\n\u001b[1;32m----> 9\u001b[1;33m \u001b[0mauc_dt\u001b[0m \u001b[1;33m=\u001b[0m \u001b[0mroc_auc_score\u001b[0m\u001b[1;33m(\u001b[0m\u001b[0my_test_dt_over\u001b[0m\u001b[1;33m,\u001b[0m \u001b[0my_preds_dt_over\u001b[0m\u001b[1;33m)\u001b[0m\u001b[1;33m\u001b[0m\u001b[1;33m\u001b[0m\u001b[0m\n\u001b[0m\u001b[0;32m     10\u001b[0m \u001b[0mprint\u001b[0m\u001b[1;33m(\u001b[0m\u001b[1;34m'AUC Decision Tree: %.6f'\u001b[0m \u001b[1;33m%\u001b[0m \u001b[0mauc_dt\u001b[0m\u001b[1;33m)\u001b[0m\u001b[1;33m\u001b[0m\u001b[1;33m\u001b[0m\u001b[0m\n\u001b[0;32m     11\u001b[0m \u001b[1;33m\u001b[0m\u001b[0m\n",
      "\u001b[1;31mNameError\u001b[0m: name 'y_test_dt_over' is not defined"
     ]
    }
   ],
   "source": [
    "# ROC area for each class\n",
    "\n",
    "auc_knn = roc_auc_score(y_test_knn_over, y_preds_knn_over)\n",
    "print('AUC KNN: %.6f' % auc_knn)\n",
    "\n",
    "#auc_svm = roc_auc_score(y_test_svm_over, y_preds_svm_over)\n",
    "#print('AUC SVM: %.6f' % auc_svm)\n",
    "\n",
    "auc_dt = roc_auc_score(y_test_dt_over, y_preds_dt_over)\n",
    "print('AUC Decision Tree: %.6f' % auc_dt)\n",
    "\n",
    "#auc_rf = roc_auc_score(y_test_rf_over, y_preds_rf_over)\n",
    "#print('AUC Random Forest: %.6f' % auc_rf)"
   ]
  },
  {
   "cell_type": "code",
   "execution_count": null,
   "metadata": {},
   "outputs": [],
   "source": [
    "# Generating ROC Curve Plot\n",
    "\n",
    "# For the straight line\n",
    "straight_probs = [0 for _ in range(len(y_test_knn))]\n",
    "straight_fpr, straight_tpr, _ = roc_curve(y_test_knn, straight_probs)\n",
    "pyplot.plot(straight_fpr, straight_tpr, linestyle='--', label=\"TPR=FPR\")\n",
    "\n",
    "# For KNN Classifier\n",
    "knn_fpr, knn_tpr, _ = roc_curve(y_test_knn_over, y_preds_knn_over)\n",
    "pyplot.plot(knn_fpr, knn_tpr, linestyle='--', label='KNN Classifier ({:.2f})'.format(auc_knn))\n",
    "\n",
    "# For SVM Classifier\n",
    "#svm_fpr, svm_tpr, _ = roc_curve(y_test_svm_over, y_preds_svm_over)\n",
    "#pyplot.plot(svm_fpr, svm_tpr, linestyle='--', label='SVM Classifier ({:.2f})'.format(auc_svm))\n",
    "\n",
    "# For Decition Tree Classifier\n",
    "dt_fpr, dt_tpr, _ = roc_curve(y_test_dt_over, y_preds_dt_over)\n",
    "pyplot.plot(dt_fpr, dt_tpr, linestyle='--', label='Decision Tree Classifier ({:.2f})'.format(auc_dt))\n",
    "\n",
    "# For Random Forest Classifier\n",
    "#rf_fpr, rf_tpr, _ = roc_curve(y_test_rf_over, y_preds_rf_over)\n",
    "#pyplot.plot(rf_fpr, rf_tpr, linestyle='--', label='Random Forest Classifier ({:.2f})'.format(auc_rf))\n",
    "\n",
    "# To Plot\n",
    "pyplot.xlabel('False Positive Rate')\n",
    "pyplot.ylabel('True Positive Rate')\n",
    "pyplot.legend()\n",
    "pyplot.savefig(\"ROCCurve_over.png\")\n",
    "pyplot.show()"
   ]
  },
  {
   "cell_type": "markdown",
   "metadata": {},
   "source": [
    "# Undersampling"
   ]
  },
  {
   "cell_type": "code",
   "execution_count": null,
   "metadata": {},
   "outputs": [],
   "source": [
    "# ROC area for each class\n",
    "\n",
    "auc_knn = roc_auc_score(y_test_knn_under, y_preds_knn_under)\n",
    "print('AUC KNN: %.6f' % auc_knn)\n",
    "\n",
    "#auc_svm = roc_auc_score(y_test_svm_under, y_preds_svm_under)\n",
    "#print('AUC SVM: %.6f' % auc_svm)\n",
    "\n",
    "auc_dt = roc_auc_score(y_test_dt_under, y_preds_dt_under)\n",
    "print('AUC Decision Tree: %.6f' % auc_dt)\n",
    "\n",
    "#auc_rf = roc_auc_score(y_test_rf_under, y_preds_rf_under)\n",
    "#print('AUC Random Forest: %.6f' % auc_rf)"
   ]
  },
  {
   "cell_type": "code",
   "execution_count": null,
   "metadata": {},
   "outputs": [],
   "source": [
    "# Generating ROC Curve Plot\n",
    "\n",
    "# For the straight line\n",
    "straight_probs = [0 for _ in range(len(y_test_knn))]\n",
    "straight_fpr, straight_tpr, _ = roc_curve(y_test_knn, straight_probs)\n",
    "pyplot.plot(straight_fpr, straight_tpr, linestyle='--', label=\"TPR=FPR\")\n",
    "\n",
    "# For KNN Classifier\n",
    "knn_fpr, knn_tpr, _ = roc_curve(y_test_knn_under, y_preds_knn_under)\n",
    "pyplot.plot(knn_fpr, knn_tpr, linestyle='--', label='KNN Classifier ({:.2f})'.format(auc_knn))\n",
    "\n",
    "# For SVM Classifier\n",
    "#svm_fpr, svm_tpr, _ = roc_curve(y_test_svm_under, y_preds_svm_under)\n",
    "#pyplot.plot(svm_fpr, svm_tpr, linestyle='--', label='SVM Classifier ({:.2f})'.format(auc_svm))\n",
    "\n",
    "# For Decition Tree Classifier\n",
    "dt_fpr, dt_tpr, _ = roc_curve(y_test_dt_under, y_preds_dt_under)\n",
    "pyplot.plot(dt_fpr, dt_tpr, linestyle='--', label='Decision Tree Classifier ({:.2f})'.format(auc_dt))\n",
    "\n",
    "# For Random Forest Classifier\n",
    "#rf_fpr, rf_tpr, _ = roc_curve(y_test_rf_under, y_preds_rf_under)\n",
    "#pyplot.plot(rf_fpr, rf_tpr, linestyle='--', label='Random Forest Classifier ({:.2f})'.format(auc_rf))\n",
    "\n",
    "# To Plot\n",
    "pyplot.xlabel('False Positive Rate')\n",
    "pyplot.ylabel('True Positive Rate')\n",
    "pyplot.legend()\n",
    "pyplot.savefig(\"ROCCurve_under.png\")\n",
    "pyplot.show()"
   ]
  },
  {
   "cell_type": "markdown",
   "metadata": {},
   "source": [
    "# Precision-Recall Curve"
   ]
  },
  {
   "cell_type": "code",
   "execution_count": 15,
   "metadata": {},
   "outputs": [],
   "source": [
    "precision_knn, recall_knn, _ = precision_recall_curve(y_test_knn, y_preds_knn)\n",
    "precision_dt, recall_dt, _ = precision_recall_curve(y_test_dt, y_preds_dt)\n",
    "\n",
    "no_skill = len(y_test_knn[y_test_knn==1]) / len(y_test_knn)\n",
    "\n",
    "auc_score_knn = auc(recall_knn, precision_knn)\n",
    "auc_score_dt = auc(recall_dt, precision_dt)"
   ]
  },
  {
   "cell_type": "code",
   "execution_count": 16,
   "metadata": {},
   "outputs": [
    {
     "data": {
      "image/png": "[encoded data removed]",
      "text/plain": [
       "<Figure size 432x288 with 1 Axes>"
      ]
     },
     "metadata": {
      "needs_background": "light"
     },
     "output_type": "display_data"
    }
   ],
   "source": [
    "pyplot.plot([0, 1], [no_skill, no_skill], linestyle='--', label='No Skill')\n",
    "\n",
    "pyplot.plot(recall_knn, precision_knn, marker='.', label='KNN ({:.2f})'.format(auc_score_knn))\n",
    "pyplot.plot(recall_dt, precision_dt, marker='.', label='Decision Tree ({:.2f})'.format(auc_score_dt))\n",
    "\n",
    "# axis labels\n",
    "pyplot.xlabel('Recall')\n",
    "pyplot.ylabel('Precision')\n",
    "# show the legend\n",
    "pyplot.legend()\n",
    "# show the plot\n",
    "pyplot.savefig(\"PRCurve.png\")\n",
    "pyplot.show()"
   ]
  },
  {
   "cell_type": "code",
   "execution_count": null,
   "metadata": {},
   "outputs": [],
   "source": []
  }
 ],
 "metadata": {
  "kernelspec": {
   "display_name": "Python 3",
   "language": "python",
   "name": "python3"
  },
  "language_info": {
   "codemirror_mode": {
    "name": "ipython",
    "version": 3
   },
   "file_extension": ".py",
   "mimetype": "text/x-python",
   "name": "python",
   "nbconvert_exporter": "python",
   "pygments_lexer": "ipython3",
   "version": "3.8.5"
  }
 },
 "nbformat": 4,
 "nbformat_minor": 4
}

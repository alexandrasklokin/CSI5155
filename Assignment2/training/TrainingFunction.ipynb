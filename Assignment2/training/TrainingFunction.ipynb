{
 "cells": [
  {
   "cell_type": "code",
   "execution_count": 1,
   "metadata": {},
   "outputs": [],
   "source": [
    "import sklearn\n",
    "import numpy as np\n",
    "import pandas as pd\n",
    "\n",
    "\n",
    "from sklearn.metrics import classification_report, accuracy_score\n",
    "from numpy import set_printoptions\n",
    "from sklearn.model_selection import cross_val_score\n",
    "from sklearn.model_selection import KFold, StratifiedKFold\n",
    "from statistics import mean, stdev\n",
    "\n",
    "from sklearn.neighbors import KNeighborsClassifier"
   ]
  },
  {
   "cell_type": "code",
   "execution_count": 2,
   "metadata": {},
   "outputs": [],
   "source": [
    "# Split dataframe into train and test data\n",
    "# Note: Stratify preserves the propotion of Revenue of T/F in the testing and training sets\n",
    "def Training_basic (df, targetFeature, model):\n",
    "        \n",
    "    # Split dataframe into X and y\n",
    "    X = df.drop(columns=[targetFeature])\n",
    "    y = df[targetFeature].values\n",
    "        \n",
    "    # prepare the cross-validation procedure\n",
    "    cv = StratifiedKFold(n_splits=10, shuffle=True)\n",
    "\n",
    "    # evaluate model\n",
    "    scores = cross_val_score(model, X, y, scoring='accuracy', cv=cv, n_jobs=-1)\n",
    "        \n",
    "    # report performance\n",
    "    print('Accuracy: %.3f (%.3f)' % (mean(scores), stdev(scores)))\n",
    "        \n",
    "    # Return all of the stats\n",
    "    return scores"
   ]
  },
  {
   "cell_type": "code",
   "execution_count": 3,
   "metadata": {},
   "outputs": [],
   "source": [
    "def SavePredictionsToFile(fileName, stats):\n",
    "    data_y = {\"accuracies\": stats}\n",
    "\n",
    "    df_y = pd.DataFrame(data_y) \n",
    "    df_y.to_csv(fileName)\n",
    "\n",
    "    df_y.shape"
   ]
  },
  {
   "cell_type": "code",
   "execution_count": 4,
   "metadata": {},
   "outputs": [],
   "source": [
    "#Split dataframe into train and test data\n",
    "#Note: Stratify preserves the propotion of Revenue of T/F in the testing and training sets\n",
    "def Training_Repeat (df, targetFeature, model):\n",
    "    \n",
    "    accuracies = []\n",
    "\n",
    "    for i in range(10):\n",
    "        print(\"__________________________________________________________________________________Iteration:\"+str(i))\n",
    "        \n",
    "        # Split dataframe into X and y\n",
    "        X = df.drop(columns=[targetFeature])\n",
    "        y = df[targetFeature].values\n",
    "        \n",
    "        # prepare the cross-validation procedure\n",
    "        cv = StratifiedKFold(n_splits=10, shuffle=True)\n",
    "\n",
    "        # evaluate model\n",
    "        scores = cross_val_score(model, X, y, scoring='accuracy', cv=cv, n_jobs=-1)\n",
    "        \n",
    "        # report performance\n",
    "        print('Accuracy: %.3f (%.3f)' % (mean(scores), stdev(scores)))\n",
    "        \n",
    "        accuracies.append(mean(scores))\n",
    "        \n",
    "    # Return all of the stats\n",
    "    return accuracies"
   ]
  }
 ],
 "metadata": {
  "kernelspec": {
   "display_name": "Python 3",
   "language": "python",
   "name": "python3"
  },
  "language_info": {
   "codemirror_mode": {
    "name": "ipython",
    "version": 3
   },
   "file_extension": ".py",
   "mimetype": "text/x-python",
   "name": "python",
   "nbconvert_exporter": "python",
   "pygments_lexer": "ipython3",
   "version": "3.8.5"
  }
 },
 "nbformat": 4,
 "nbformat_minor": 4
}

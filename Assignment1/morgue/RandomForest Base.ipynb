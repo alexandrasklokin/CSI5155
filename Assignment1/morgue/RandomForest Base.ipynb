{
 "cells": [
  {
   "cell_type": "code",
   "execution_count": 2,
   "metadata": {},
   "outputs": [],
   "source": [
    "import sklearn\n",
    "import pandas as pd\n",
    "from sklearn.model_selection import train_test_split\n",
    "from sklearn.metrics import confusion_matrix\n",
    "from sklearn.neighbors import KNeighborsClassifier\n",
    "from sklearn.metrics import classification_report, precision_score, recall_score, f1_score, accuracy_score\n",
    "from sklearn.metrics import roc_auc_score\n",
    "from sklearn.metrics import roc_curve, auc\n",
    "from matplotlib import pyplot\n",
    "from sklearn.svm import SVC\n",
    "from sklearn.tree import DecisionTreeClassifier\n",
    "from sklearn.ensemble import RandomForestClassifier\n",
    "import matplotlib.pyplot as plt  \n",
    "import seaborn as sns\n",
    "from numpy import set_printoptions\n",
    "from statistics import mean\n",
    "from sklearn.model_selection import GridSearchCV\n",
    "from sklearn.utils import resample\n",
    "import numpy as np\n",
    "from sklearn.metrics import precision_recall_curve"
   ]
  },
  {
   "cell_type": "code",
   "execution_count": 3,
   "metadata": {},
   "outputs": [],
   "source": [
    "preprocessed_df = pd.read_csv(\"../preprocessing/preprocessedData.csv\")"
   ]
  },
  {
   "cell_type": "code",
   "execution_count": 4,
   "metadata": {},
   "outputs": [],
   "source": [
    "categorical_features = ['VisitorType_New_Visitor', 'VisitorType_Other', 'VisitorType_Returning_Visitor', 'Month_Aug', 'Month_Dec', 'Month_Feb', 'Month_Jul', 'Month_June', 'Month_Mar', 'Month_May', 'Month_Nov', 'Month_Oct', 'Month_Sep']\n",
    "target = \"Revenue\"\n",
    "\n",
    "preprocessed_df[categorical_features] = preprocessed_df[categorical_features].astype('category') \n",
    "preprocessed_df[target] = preprocessed_df[target].astype('category') "
   ]
  },
  {
   "cell_type": "code",
   "execution_count": 5,
   "metadata": {},
   "outputs": [
    {
     "name": "stdout",
     "output_type": "stream",
     "text": [
      "<class 'pandas.core.frame.DataFrame'>\n",
      "RangeIndex: 12330 entries, 0 to 12329\n",
      "Data columns (total 21 columns):\n",
      " #   Column                         Non-Null Count  Dtype   \n",
      "---  ------                         --------------  -----   \n",
      " 0   Unnamed: 0                     12330 non-null  int64   \n",
      " 1   PageValues                     12330 non-null  float64 \n",
      " 2   ExitRates                      12330 non-null  float64 \n",
      " 3   ProductRelated                 12330 non-null  float64 \n",
      " 4   Administrative                 12330 non-null  float64 \n",
      " 5   Informational                  12330 non-null  float64 \n",
      " 6   SpecialDay                     12330 non-null  float64 \n",
      " 7   Revenue                        12330 non-null  category\n",
      " 8   Month_Aug                      12330 non-null  category\n",
      " 9   Month_Dec                      12330 non-null  category\n",
      " 10  Month_Feb                      12330 non-null  category\n",
      " 11  Month_Jul                      12330 non-null  category\n",
      " 12  Month_June                     12330 non-null  category\n",
      " 13  Month_Mar                      12330 non-null  category\n",
      " 14  Month_May                      12330 non-null  category\n",
      " 15  Month_Nov                      12330 non-null  category\n",
      " 16  Month_Oct                      12330 non-null  category\n",
      " 17  Month_Sep                      12330 non-null  category\n",
      " 18  VisitorType_New_Visitor        12330 non-null  category\n",
      " 19  VisitorType_Other              12330 non-null  category\n",
      " 20  VisitorType_Returning_Visitor  12330 non-null  category\n",
      "dtypes: category(14), float64(6), int64(1)\n",
      "memory usage: 844.3 KB\n"
     ]
    }
   ],
   "source": [
    "preprocessed_df.info(verbose=True)"
   ]
  },
  {
   "cell_type": "code",
   "execution_count": 6,
   "metadata": {},
   "outputs": [],
   "source": [
    "# Split dataframe into x and y\n",
    "\n",
    "X = preprocessed_df.drop(columns=[\"Revenue\"])\n",
    "y = preprocessed_df[\"Revenue\"].values"
   ]
  },
  {
   "cell_type": "markdown",
   "metadata": {},
   "source": [
    "### Building 10 Models"
   ]
  },
  {
   "cell_type": "code",
   "execution_count": 7,
   "metadata": {},
   "outputs": [
    {
     "name": "stdout",
     "output_type": "stream",
     "text": [
      "__________________________________________________________________________________Iteration:0\n",
      "\n",
      "Classification Report                       : \n",
      "              precision    recall  f1-score   support\n",
      "\n",
      "           0       0.93      0.96      0.94      3127\n",
      "           1       0.72      0.59      0.65       572\n",
      "\n",
      "    accuracy                           0.90      3699\n",
      "   macro avg       0.82      0.77      0.80      3699\n",
      "weighted avg       0.90      0.90      0.90      3699\n",
      "\n",
      "__________________________________________________________________________________Iteration:1\n",
      "\n",
      "Classification Report                       : \n",
      "              precision    recall  f1-score   support\n",
      "\n",
      "           0       0.93      0.95      0.94      3127\n",
      "           1       0.70      0.61      0.65       572\n",
      "\n",
      "    accuracy                           0.90      3699\n",
      "   macro avg       0.82      0.78      0.80      3699\n",
      "weighted avg       0.90      0.90      0.90      3699\n",
      "\n",
      "__________________________________________________________________________________Iteration:2\n",
      "\n",
      "Classification Report                       : \n",
      "              precision    recall  f1-score   support\n",
      "\n",
      "           0       0.93      0.95      0.94      3127\n",
      "           1       0.68      0.60      0.64       572\n",
      "\n",
      "    accuracy                           0.90      3699\n",
      "   macro avg       0.81      0.77      0.79      3699\n",
      "weighted avg       0.89      0.90      0.89      3699\n",
      "\n",
      "__________________________________________________________________________________Iteration:3\n",
      "\n",
      "Classification Report                       : \n",
      "              precision    recall  f1-score   support\n",
      "\n",
      "           0       0.92      0.96      0.94      3127\n",
      "           1       0.72      0.57      0.64       572\n",
      "\n",
      "    accuracy                           0.90      3699\n",
      "   macro avg       0.82      0.77      0.79      3699\n",
      "weighted avg       0.89      0.90      0.89      3699\n",
      "\n",
      "__________________________________________________________________________________Iteration:4\n",
      "\n",
      "Classification Report                       : \n",
      "              precision    recall  f1-score   support\n",
      "\n",
      "           0       0.93      0.96      0.94      3127\n",
      "           1       0.71      0.59      0.65       572\n",
      "\n",
      "    accuracy                           0.90      3699\n",
      "   macro avg       0.82      0.77      0.79      3699\n",
      "weighted avg       0.89      0.90      0.90      3699\n",
      "\n",
      "__________________________________________________________________________________Iteration:5\n",
      "\n",
      "Classification Report                       : \n",
      "              precision    recall  f1-score   support\n",
      "\n",
      "           0       0.93      0.96      0.94      3127\n",
      "           1       0.72      0.62      0.66       572\n",
      "\n",
      "    accuracy                           0.90      3699\n",
      "   macro avg       0.83      0.79      0.80      3699\n",
      "weighted avg       0.90      0.90      0.90      3699\n",
      "\n",
      "__________________________________________________________________________________Iteration:6\n",
      "\n",
      "Classification Report                       : \n",
      "              precision    recall  f1-score   support\n",
      "\n",
      "           0       0.94      0.96      0.95      3127\n",
      "           1       0.73      0.65      0.69       572\n",
      "\n",
      "    accuracy                           0.91      3699\n",
      "   macro avg       0.83      0.80      0.82      3699\n",
      "weighted avg       0.91      0.91      0.91      3699\n",
      "\n",
      "__________________________________________________________________________________Iteration:7\n",
      "\n",
      "Classification Report                       : \n",
      "              precision    recall  f1-score   support\n",
      "\n",
      "           0       0.93      0.95      0.94      3127\n",
      "           1       0.71      0.60      0.65       572\n",
      "\n",
      "    accuracy                           0.90      3699\n",
      "   macro avg       0.82      0.78      0.80      3699\n",
      "weighted avg       0.89      0.90      0.90      3699\n",
      "\n",
      "__________________________________________________________________________________Iteration:8\n",
      "\n",
      "Classification Report                       : \n",
      "              precision    recall  f1-score   support\n",
      "\n",
      "           0       0.94      0.95      0.94      3127\n",
      "           1       0.72      0.65      0.68       572\n",
      "\n",
      "    accuracy                           0.91      3699\n",
      "   macro avg       0.83      0.80      0.81      3699\n",
      "weighted avg       0.90      0.91      0.90      3699\n",
      "\n",
      "__________________________________________________________________________________Iteration:9\n",
      "\n",
      "Classification Report                       : \n",
      "              precision    recall  f1-score   support\n",
      "\n",
      "           0       0.93      0.96      0.94      3127\n",
      "           1       0.72      0.62      0.66       572\n",
      "\n",
      "    accuracy                           0.90      3699\n",
      "   macro avg       0.82      0.79      0.80      3699\n",
      "weighted avg       0.90      0.90      0.90      3699\n",
      "\n"
     ]
    }
   ],
   "source": [
    "# Split dataframe into train and test data\n",
    "# Note: Stratify preserves the propotion of Revenue of T/F in the testing and training sets\n",
    "\n",
    "f1_scores_macro = []\n",
    "recalls_macro = []\n",
    "precisions_macro = []\n",
    "f1_scores_weighted = []\n",
    "recalls_weighted = []\n",
    "precisions_weighted = []\n",
    "accuracies = []\n",
    "auroc = []\n",
    "aucpr = []\n",
    "\n",
    "y_preds = []\n",
    "y_pred_probs = []\n",
    "y_trues = []\n",
    "\n",
    "X_tests = []\n",
    "\n",
    "for i in range(10):\n",
    "    print(\"__________________________________________________________________________________Iteration:\"+str(i))\n",
    "    \n",
    "    X_train, X_test, y_train, y_test = train_test_split(X, y, test_size=0.3, stratify=y)\n",
    "    y_trues.append(y_test)\n",
    "\n",
    "    # Create KNN classifier\n",
    "    knn = RandomForestClassifier(bootstrap= True, max_depth=10, max_features= 8, min_samples_leaf= 5, min_samples_split = 8, n_estimators = 100)\n",
    "\n",
    "    # Fit the classifier to the data\n",
    "    knn.fit(X_train, y_train)\n",
    "\n",
    "    # Make predications on the test data\n",
    "    y_pred = knn.predict(X_test)\n",
    "    y_preds.append(y_pred)\n",
    "    y_pred_prob = knn.predict_proba(X_test)[:,1]\n",
    "    y_pred_probs.append(y_pred_prob)\n",
    "    \n",
    "    # Scores\n",
    "    f1_scores_macro.append(f1_score(y_test, y_pred, average='macro'))\n",
    "    recalls_macro.append(recall_score(y_test, y_pred, average='macro'))\n",
    "    precisions_macro.append(precision_score(y_test, y_pred, average='macro'))\n",
    "    f1_scores_weighted.append(f1_score(y_test, y_pred, average='weighted'))\n",
    "    recalls_weighted.append(recall_score(y_test, y_pred, average='weighted'))\n",
    "    precisions_weighted.append(precision_score(y_test, y_pred, average='weighted'))\n",
    "    accuracies.append(accuracy_score(y_test, y_pred))\n",
    "    \n",
    "    # AUC-ROC\n",
    "    auroc.append(roc_auc_score(y_test, y_pred_prob))\n",
    "    \n",
    "    # AUC-PR\n",
    "    precision_knn, recall_knn, _ = precision_recall_curve(y_test, y_pred_prob)\n",
    "    aucpr.append(auc(recall_knn, precision_knn))\n",
    "    \n",
    "    # Print some results\n",
    "    print('\\nClassification Report                       : ')\n",
    "    print(classification_report(y_test, y_pred))"
   ]
  },
  {
   "cell_type": "code",
   "execution_count": 8,
   "metadata": {},
   "outputs": [
    {
     "name": "stdout",
     "output_type": "stream",
     "text": [
      "Average Accuracy: 0.901676128683428\n",
      "Average F1-Score (macro): 0.799713161543658\n",
      "Average F1-Score (weighted): 0.8984194822355901\n",
      "Average Recall (macro): 0.7820723687888702\n",
      "Average Recall (weighted): 0.901676128683428\n",
      "Average Precision (macro): 0.8218504943330946\n",
      "Average Precision (weighted): 0.8967894906329626\n",
      "Average AUROC: 0.9341941716741845\n",
      "Average AUC-PR: 0.7518816483442512\n"
     ]
    }
   ],
   "source": [
    "print(\"Average Accuracy: \"+str(mean(accuracies)))\n",
    "print(\"Average F1-Score (macro): \"+str(mean(f1_scores_macro)))\n",
    "print(\"Average F1-Score (weighted): \"+str(mean(f1_scores_weighted)))\n",
    "print(\"Average Recall (macro): \"+str(mean(recalls_macro)))\n",
    "print(\"Average Recall (weighted): \"+str(mean(recalls_weighted)))\n",
    "print(\"Average Precision (macro): \"+str(mean(precisions_macro)))\n",
    "print(\"Average Precision (weighted): \"+str(mean(precisions_weighted)))\n",
    "print(\"Average AUROC: \"+str(mean(auroc)))\n",
    "print(\"Average AUC-PR: \"+str(mean(aucpr)))"
   ]
  },
  {
   "cell_type": "code",
   "execution_count": 9,
   "metadata": {},
   "outputs": [
    {
     "name": "stdout",
     "output_type": "stream",
     "text": [
      "6\n"
     ]
    }
   ],
   "source": [
    "# Find the best model\n",
    "\n",
    "# Draw confusion matrix with the best F1-Score\n",
    "best_model_index = f1_scores_weighted.index(max(f1_scores_weighted))\n",
    "print(best_model_index)\n",
    "y_true = y_trues[best_model_index]\n",
    "y_pred = y_preds[best_model_index]\n",
    "y_pred_prob = y_pred_probs[best_model_index]"
   ]
  },
  {
   "cell_type": "code",
   "execution_count": 10,
   "metadata": {},
   "outputs": [
    {
     "data": {
      "image/png": "[encoded data removed]",
      "text/plain": [
       "<Figure size 432x288 with 2 Axes>"
      ]
     },
     "metadata": {
      "needs_background": "light"
     },
     "output_type": "display_data"
    }
   ],
   "source": [
    "# Draw confusion matrix with the best F1-Score\n",
    "\n",
    "# Confusion Matrix\n",
    "cf_matrix = (confusion_matrix(y_true, y_pred))\n",
    "\n",
    "ax= plt.subplot()\n",
    "sns.heatmap(cf_matrix, annot=True, fmt='g', ax=ax);  #annot=True to annotate cells, ftm='g' to disable scientific notation\n",
    "\n",
    "# labels, title and ticks\n",
    "ax.set_xlabel('Predicted labels');ax.set_ylabel('True labels'); \n",
    "ax.set_title('RandomForest Confusion Matrix'); \n",
    "ax.xaxis.set_ticklabels(['False', 'True']); ax.yaxis.set_ticklabels(['False', 'True']);\n",
    "\n",
    "plt.savefig('../confusionMatrices/RandomForest_confusionMatrix.png')"
   ]
  },
  {
   "cell_type": "code",
   "execution_count": 11,
   "metadata": {},
   "outputs": [
    {
     "data": {
      "text/plain": [
       "(3699, 3)"
      ]
     },
     "execution_count": 11,
     "metadata": {},
     "output_type": "execute_result"
    }
   ],
   "source": [
    "data_y = {\"Y_true\":y_true, \"Y_Pred\": y_pred, \"Y_Pred_Prob\": y_pred_prob}\n",
    "\n",
    "knn_df_y = pd.DataFrame(data_y) \n",
    "knn_df_y.to_csv(\"../predictions/randomForest_predictions.csv\")\n",
    "\n",
    "knn_df_y.shape"
   ]
  },
  {
   "cell_type": "code",
   "execution_count": null,
   "metadata": {},
   "outputs": [],
   "source": []
  }
 ],
 "metadata": {
  "kernelspec": {
   "display_name": "Python 3",
   "language": "python",
   "name": "python3"
  },
  "language_info": {
   "codemirror_mode": {
    "name": "ipython",
    "version": 3
   },
   "file_extension": ".py",
   "mimetype": "text/x-python",
   "name": "python",
   "nbconvert_exporter": "python",
   "pygments_lexer": "ipython3",
   "version": "3.8.5"
  }
 },
 "nbformat": 4,
 "nbformat_minor": 4
}

{
 "cells": [
  {
   "cell_type": "code",
   "execution_count": 65,
   "metadata": {},
   "outputs": [],
   "source": [
    "import sklearn\n",
    "import pandas as pd\n",
    "from sklearn.model_selection import train_test_split\n",
    "from sklearn.metrics import confusion_matrix\n",
    "from sklearn.neighbors import KNeighborsClassifier\n",
    "from sklearn.metrics import classification_report, precision_score, recall_score, f1_score, precision_recall_fscore_support\n",
    "from sklearn.metrics import roc_auc_score\n",
    "from sklearn.metrics import roc_curve, auc\n",
    "from matplotlib import pyplot"
   ]
  },
  {
   "cell_type": "code",
   "execution_count": 4,
   "metadata": {},
   "outputs": [],
   "source": [
    "df = pd.read_csv(\"online_shoppers_intention.csv\")\n",
    "preprocessed_df = pd.read_csv(\"preprocessedData.csv\")"
   ]
  },
  {
   "cell_type": "code",
   "execution_count": 10,
   "metadata": {},
   "outputs": [],
   "source": [
    "categorical_features = ['OperatingSystems_1', 'OperatingSystems_2', 'OperatingSystems_3', 'OperatingSystems_4', 'OperatingSystems_5', 'OperatingSystems_6', 'OperatingSystems_7', 'OperatingSystems_8', 'Browser_1', 'Browser_2', 'Browser_3', 'Browser_4', 'Browser_5', 'Browser_6', 'Browser_7', 'Browser_8', 'Browser_9', 'Browser_10', 'Browser_11', 'Browser_12', 'Browser_13', 'Region_1', 'Region_2', 'Region_3', 'Region_4', 'Region_5', 'Region_6', 'Region_7', 'Region_8', 'Region_9', 'TrafficType_1', 'TrafficType_2', 'TrafficType_3', 'TrafficType_4', 'TrafficType_5', 'TrafficType_6', 'TrafficType_7', 'TrafficType_8', 'TrafficType_9', 'TrafficType_10', 'TrafficType_11', 'TrafficType_12', 'TrafficType_13', 'TrafficType_14', 'TrafficType_15', 'TrafficType_16', 'TrafficType_17', 'TrafficType_18', 'TrafficType_19', 'TrafficType_20', 'VisitorType_New_Visitor', 'VisitorType_Other', 'VisitorType_Returning_Visitor', 'Weekend_False', 'Weekend_True', 'Month_Aug', 'Month_Dec', 'Month_Feb', 'Month_Jul', 'Month_June', 'Month_Mar', 'Month_May', 'Month_Nov', 'Month_Oct', 'Month_Sep']\n",
    "target = \"Revenue\"\n",
    "\n",
    "preprocessed_df[categorical_features] = preprocessed_df[categorical_features].astype('category') \n",
    "preprocessed_df[target] = preprocessed_df[target].astype('category') "
   ]
  },
  {
   "cell_type": "code",
   "execution_count": 11,
   "metadata": {},
   "outputs": [
    {
     "name": "stdout",
     "output_type": "stream",
     "text": [
      "<class 'pandas.core.frame.DataFrame'>\n",
      "RangeIndex: 12330 entries, 0 to 12329\n",
      "Data columns (total 77 columns):\n",
      " #   Column                         Non-Null Count  Dtype   \n",
      "---  ------                         --------------  -----   \n",
      " 0   Unnamed: 0                     12330 non-null  int64   \n",
      " 1   Administrative                 12330 non-null  float64 \n",
      " 2   Administrative_Duration        12330 non-null  float64 \n",
      " 3   Informational                  12330 non-null  float64 \n",
      " 4   Informational_Duration         12330 non-null  float64 \n",
      " 5   ProductRelated                 12330 non-null  float64 \n",
      " 6   ProductRelated_Duration        12330 non-null  float64 \n",
      " 7   BounceRates                    12330 non-null  float64 \n",
      " 8   ExitRates                      12330 non-null  float64 \n",
      " 9   PageValues                     12330 non-null  float64 \n",
      " 10  SpecialDay                     12330 non-null  float64 \n",
      " 11  Revenue                        12330 non-null  category\n",
      " 12  OperatingSystems_1             12330 non-null  category\n",
      " 13  OperatingSystems_2             12330 non-null  category\n",
      " 14  OperatingSystems_3             12330 non-null  category\n",
      " 15  OperatingSystems_4             12330 non-null  category\n",
      " 16  OperatingSystems_5             12330 non-null  category\n",
      " 17  OperatingSystems_6             12330 non-null  category\n",
      " 18  OperatingSystems_7             12330 non-null  category\n",
      " 19  OperatingSystems_8             12330 non-null  category\n",
      " 20  Browser_1                      12330 non-null  category\n",
      " 21  Browser_2                      12330 non-null  category\n",
      " 22  Browser_3                      12330 non-null  category\n",
      " 23  Browser_4                      12330 non-null  category\n",
      " 24  Browser_5                      12330 non-null  category\n",
      " 25  Browser_6                      12330 non-null  category\n",
      " 26  Browser_7                      12330 non-null  category\n",
      " 27  Browser_8                      12330 non-null  category\n",
      " 28  Browser_9                      12330 non-null  category\n",
      " 29  Browser_10                     12330 non-null  category\n",
      " 30  Browser_11                     12330 non-null  category\n",
      " 31  Browser_12                     12330 non-null  category\n",
      " 32  Browser_13                     12330 non-null  category\n",
      " 33  Region_1                       12330 non-null  category\n",
      " 34  Region_2                       12330 non-null  category\n",
      " 35  Region_3                       12330 non-null  category\n",
      " 36  Region_4                       12330 non-null  category\n",
      " 37  Region_5                       12330 non-null  category\n",
      " 38  Region_6                       12330 non-null  category\n",
      " 39  Region_7                       12330 non-null  category\n",
      " 40  Region_8                       12330 non-null  category\n",
      " 41  Region_9                       12330 non-null  category\n",
      " 42  TrafficType_1                  12330 non-null  category\n",
      " 43  TrafficType_2                  12330 non-null  category\n",
      " 44  TrafficType_3                  12330 non-null  category\n",
      " 45  TrafficType_4                  12330 non-null  category\n",
      " 46  TrafficType_5                  12330 non-null  category\n",
      " 47  TrafficType_6                  12330 non-null  category\n",
      " 48  TrafficType_7                  12330 non-null  category\n",
      " 49  TrafficType_8                  12330 non-null  category\n",
      " 50  TrafficType_9                  12330 non-null  category\n",
      " 51  TrafficType_10                 12330 non-null  category\n",
      " 52  TrafficType_11                 12330 non-null  category\n",
      " 53  TrafficType_12                 12330 non-null  category\n",
      " 54  TrafficType_13                 12330 non-null  category\n",
      " 55  TrafficType_14                 12330 non-null  category\n",
      " 56  TrafficType_15                 12330 non-null  category\n",
      " 57  TrafficType_16                 12330 non-null  category\n",
      " 58  TrafficType_17                 12330 non-null  category\n",
      " 59  TrafficType_18                 12330 non-null  category\n",
      " 60  TrafficType_19                 12330 non-null  category\n",
      " 61  TrafficType_20                 12330 non-null  category\n",
      " 62  VisitorType_New_Visitor        12330 non-null  category\n",
      " 63  VisitorType_Other              12330 non-null  category\n",
      " 64  VisitorType_Returning_Visitor  12330 non-null  category\n",
      " 65  Weekend_False                  12330 non-null  category\n",
      " 66  Weekend_True                   12330 non-null  category\n",
      " 67  Month_Aug                      12330 non-null  category\n",
      " 68  Month_Dec                      12330 non-null  category\n",
      " 69  Month_Feb                      12330 non-null  category\n",
      " 70  Month_Jul                      12330 non-null  category\n",
      " 71  Month_June                     12330 non-null  category\n",
      " 72  Month_Mar                      12330 non-null  category\n",
      " 73  Month_May                      12330 non-null  category\n",
      " 74  Month_Nov                      12330 non-null  category\n",
      " 75  Month_Oct                      12330 non-null  category\n",
      " 76  Month_Sep                      12330 non-null  category\n",
      "dtypes: category(66), float64(10), int64(1)\n",
      "memory usage: 1.8 MB\n"
     ]
    }
   ],
   "source": [
    "preprocessed_df.info(verbose=True)"
   ]
  },
  {
   "cell_type": "code",
   "execution_count": 24,
   "metadata": {},
   "outputs": [],
   "source": [
    "# Split dataframe into x and y\n",
    "\n",
    "X = preprocessed_df.drop(columns=[\"Revenue\"])\n",
    "y = preprocessed_df[\"Revenue\"].values"
   ]
  },
  {
   "cell_type": "code",
   "execution_count": 25,
   "metadata": {},
   "outputs": [],
   "source": [
    "# Split dataframe into train and test data\n",
    "# Note: Stratify preserves the propotion of Revenue of T/F in the testing and training sets\n",
    "\n",
    "X_train, X_test, y_train, y_test = train_test_split(X, y, test_size=0.3, stratify=y)"
   ]
  },
  {
   "cell_type": "markdown",
   "metadata": {},
   "source": [
    "# Building KNN Classifier"
   ]
  },
  {
   "cell_type": "code",
   "execution_count": 26,
   "metadata": {},
   "outputs": [
    {
     "data": {
      "text/plain": [
       "KNeighborsClassifier(n_neighbors=3)"
      ]
     },
     "execution_count": 26,
     "metadata": {},
     "output_type": "execute_result"
    }
   ],
   "source": [
    "# Create KNN classifier\n",
    "\n",
    "knn = KNeighborsClassifier(n_neighbors = 3)\n",
    "\n",
    "# Fit the classifier to the data\n",
    "knn.fit(X_train, y_train)"
   ]
  },
  {
   "cell_type": "code",
   "execution_count": 62,
   "metadata": {},
   "outputs": [],
   "source": [
    "# Show first 100 model predictions on the test data\n",
    "knn.predict(X_test)[0:100]\n",
    "y_preds_knn = knn.predict(X_test)"
   ]
  },
  {
   "cell_type": "code",
   "execution_count": 33,
   "metadata": {},
   "outputs": [
    {
     "data": {
      "text/plain": [
       "0.8142741281427412"
      ]
     },
     "execution_count": 33,
     "metadata": {},
     "output_type": "execute_result"
    }
   ],
   "source": [
    "# Accuracy on the test data\n",
    "knn.score(X_test, y_test)"
   ]
  },
  {
   "cell_type": "markdown",
   "metadata": {},
   "source": [
    "###  Confusion Matrix"
   ]
  },
  {
   "cell_type": "code",
   "execution_count": 34,
   "metadata": {},
   "outputs": [
    {
     "name": "stdout",
     "output_type": "stream",
     "text": [
      "[[2958  169]\n",
      " [ 518   54]]\n"
     ]
    }
   ],
   "source": [
    "conf_mat = confusion_matrix(y_test, y_preds_knn)\n",
    "print(conf_mat)"
   ]
  },
  {
   "cell_type": "markdown",
   "metadata": {},
   "source": [
    "### F1-Score "
   ]
  },
  {
   "cell_type": "code",
   "execution_count": 45,
   "metadata": {},
   "outputs": [
    {
     "name": "stdout",
     "output_type": "stream",
     "text": [
      "Overall F1-Score                                    : 0.135849\n",
      "\n",
      "Classification Report                       : \n",
      "              precision    recall  f1-score   support\n",
      "\n",
      "           0       0.85      0.95      0.90      3127\n",
      "           1       0.24      0.09      0.14       572\n",
      "\n",
      "    accuracy                           0.81      3699\n",
      "   macro avg       0.55      0.52      0.52      3699\n",
      "weighted avg       0.76      0.81      0.78      3699\n",
      "\n"
     ]
    }
   ],
   "source": [
    "print('Overall F1-Score                                    : %.6f'%f1_score(y_test, y_preds_knn))\n",
    "print('\\nClassification Report                       : ')\n",
    "print(classification_report(y_test, y_preds_knn))"
   ]
  },
  {
   "cell_type": "markdown",
   "metadata": {},
   "source": [
    "### Cross-validation KNN Classifier"
   ]
  },
  {
   "cell_type": "code",
   "execution_count": 31,
   "metadata": {},
   "outputs": [
    {
     "name": "stdout",
     "output_type": "stream",
     "text": [
      "[0.8459043  0.11273317 0.00973236 0.02108678 0.00648824 0.00486618\n",
      " 0.00892133 0.10786699 0.27331711 0.15490673]\n",
      "cv_scores mean:0.1545823195458232\n"
     ]
    }
   ],
   "source": [
    "from sklearn.model_selection import cross_val_score\n",
    "import numpy as np\n",
    "#create a new KNN model\n",
    "knn_cv = KNeighborsClassifier(n_neighbors=3)\n",
    "#train model with cv of 5 \n",
    "cv_scores = cross_val_score(knn_cv, X, y, cv=10)\n",
    "#print each cv score (accuracy) and average them\n",
    "print(cv_scores)\n",
    "print(\"cv_scores mean:{}\".format(np.mean(cv_scores)))"
   ]
  },
  {
   "cell_type": "markdown",
   "metadata": {},
   "source": [
    "# ROC Curve "
   ]
  },
  {
   "cell_type": "code",
   "execution_count": 72,
   "metadata": {},
   "outputs": [
    {
     "name": "stdout",
     "output_type": "stream",
     "text": [
      "AUC KNN: 0.520180\n"
     ]
    }
   ],
   "source": [
    "# ROC area for each class\n",
    "\n",
    "fpr, tpr, thresholds = roc_curve(y_test, y_preds_knn)\n",
    "auc = roc_auc_score(y_test, y_preds_knn)\n",
    "print('AUC KNN: %.6f' % auc)"
   ]
  },
  {
   "cell_type": "code",
   "execution_count": 75,
   "metadata": {},
   "outputs": [
    {
     "data": {
      "image/png": "[encoded data removed]",
      "text/plain": [
       "<Figure size 432x288 with 1 Axes>"
      ]
     },
     "metadata": {
      "needs_background": "light"
     },
     "output_type": "display_data"
    }
   ],
   "source": [
    "# Generating ROC Curve Plot\n",
    "\n",
    "# For KNN Classifier\n",
    "ns_fpr, ns_tpr, _ = roc_curve(y_test, y_preds_knn)\n",
    "pyplot.plot(ns_fpr, ns_tpr, linestyle='--', label='KNN Classifier')\n",
    "\n",
    "# For the straight line:\n",
    "straight_probs = [0 for _ in range(len(y_test))]\n",
    "straight_fpr, straight_tpr, _ = roc_curve(y_test, straight_probs)\n",
    "\n",
    "# To Plot\n",
    "pyplot.plot(straight_fpr, straight_tpr, linestyle='--', label=\"TPR=FPR\")\n",
    "pyplot.xlabel('False Positive Rate')\n",
    "pyplot.ylabel('True Positive Rate')\n",
    "# show the legend\n",
    "pyplot.legend()\n",
    "# show the plot\n",
    "pyplot.savefig(\"ROCCurve.png\")\n",
    "pyplot.show()"
   ]
  },
  {
   "cell_type": "code",
   "execution_count": null,
   "metadata": {},
   "outputs": [],
   "source": []
  }
 ],
 "metadata": {
  "kernelspec": {
   "display_name": "Python 3",
   "language": "python",
   "name": "python3"
  },
  "language_info": {
   "codemirror_mode": {
    "name": "ipython",
    "version": 3
   },
   "file_extension": ".py",
   "mimetype": "text/x-python",
   "name": "python",
   "nbconvert_exporter": "python",
   "pygments_lexer": "ipython3",
   "version": "3.8.5"
  }
 },
 "nbformat": 4,
 "nbformat_minor": 4
}

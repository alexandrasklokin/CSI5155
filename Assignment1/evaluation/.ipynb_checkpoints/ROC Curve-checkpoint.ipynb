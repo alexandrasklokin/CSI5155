{
 "cells": [
  {
   "cell_type": "code",
   "execution_count": 211,
   "metadata": {},
   "outputs": [],
   "source": [
    "import sklearn\n",
    "import pandas as pd\n",
    "from sklearn.metrics import roc_auc_score\n",
    "from sklearn.metrics import roc_curve, auc\n",
    "from matplotlib import pyplot\n",
    "import matplotlib.pyplot as plt \n",
    "from sklearn.metrics import precision_recall_curve"
   ]
  },
  {
   "cell_type": "code",
   "execution_count": 212,
   "metadata": {},
   "outputs": [
    {
     "ename": "FileNotFoundError",
     "evalue": "[Errno 2] No such file or directory: '../predictions/svm_predictions.csv'",
     "output_type": "error",
     "traceback": [
      "\u001b[1;31m---------------------------------------------------------------------------\u001b[0m",
      "\u001b[1;31mFileNotFoundError\u001b[0m                         Traceback (most recent call last)",
      "\u001b[1;32m<ipython-input-212-9671c7c44d78>\u001b[0m in \u001b[0;36m<module>\u001b[1;34m\u001b[0m\n\u001b[0;32m     13\u001b[0m \u001b[1;31m# SVM\u001b[0m\u001b[1;33m\u001b[0m\u001b[1;33m\u001b[0m\u001b[1;33m\u001b[0m\u001b[0m\n\u001b[0;32m     14\u001b[0m \u001b[1;33m\u001b[0m\u001b[0m\n\u001b[1;32m---> 15\u001b[1;33m \u001b[0msvm_predictions\u001b[0m \u001b[1;33m=\u001b[0m \u001b[0mpd\u001b[0m\u001b[1;33m.\u001b[0m\u001b[0mread_csv\u001b[0m\u001b[1;33m(\u001b[0m\u001b[1;34m\"../predictions/svm_predictions.csv\"\u001b[0m\u001b[1;33m)\u001b[0m\u001b[1;33m\u001b[0m\u001b[1;33m\u001b[0m\u001b[0m\n\u001b[0m\u001b[0;32m     16\u001b[0m \u001b[0msvm_over_predictions\u001b[0m \u001b[1;33m=\u001b[0m \u001b[0mpd\u001b[0m\u001b[1;33m.\u001b[0m\u001b[0mread_csv\u001b[0m\u001b[1;33m(\u001b[0m\u001b[1;34m\"../predictions/svm_over_predictions.csv\"\u001b[0m\u001b[1;33m)\u001b[0m\u001b[1;33m\u001b[0m\u001b[1;33m\u001b[0m\u001b[0m\n\u001b[0;32m     17\u001b[0m \u001b[0msvm_under_predictions\u001b[0m \u001b[1;33m=\u001b[0m \u001b[0mpd\u001b[0m\u001b[1;33m.\u001b[0m\u001b[0mread_csv\u001b[0m\u001b[1;33m(\u001b[0m\u001b[1;34m\"../predictions/svm_under_predictions.csv\"\u001b[0m\u001b[1;33m)\u001b[0m\u001b[1;33m\u001b[0m\u001b[1;33m\u001b[0m\u001b[0m\n",
      "\u001b[1;32mc:\\users\\alexa\\appdata\\local\\programs\\python\\python38\\lib\\site-packages\\pandas\\io\\parsers.py\u001b[0m in \u001b[0;36mread_csv\u001b[1;34m(filepath_or_buffer, sep, delimiter, header, names, index_col, usecols, squeeze, prefix, mangle_dupe_cols, dtype, engine, converters, true_values, false_values, skipinitialspace, skiprows, skipfooter, nrows, na_values, keep_default_na, na_filter, verbose, skip_blank_lines, parse_dates, infer_datetime_format, keep_date_col, date_parser, dayfirst, cache_dates, iterator, chunksize, compression, thousands, decimal, lineterminator, quotechar, quoting, doublequote, escapechar, comment, encoding, dialect, error_bad_lines, warn_bad_lines, delim_whitespace, low_memory, memory_map, float_precision)\u001b[0m\n\u001b[0;32m    684\u001b[0m     )\n\u001b[0;32m    685\u001b[0m \u001b[1;33m\u001b[0m\u001b[0m\n\u001b[1;32m--> 686\u001b[1;33m     \u001b[1;32mreturn\u001b[0m \u001b[0m_read\u001b[0m\u001b[1;33m(\u001b[0m\u001b[0mfilepath_or_buffer\u001b[0m\u001b[1;33m,\u001b[0m \u001b[0mkwds\u001b[0m\u001b[1;33m)\u001b[0m\u001b[1;33m\u001b[0m\u001b[1;33m\u001b[0m\u001b[0m\n\u001b[0m\u001b[0;32m    687\u001b[0m \u001b[1;33m\u001b[0m\u001b[0m\n\u001b[0;32m    688\u001b[0m \u001b[1;33m\u001b[0m\u001b[0m\n",
      "\u001b[1;32mc:\\users\\alexa\\appdata\\local\\programs\\python\\python38\\lib\\site-packages\\pandas\\io\\parsers.py\u001b[0m in \u001b[0;36m_read\u001b[1;34m(filepath_or_buffer, kwds)\u001b[0m\n\u001b[0;32m    450\u001b[0m \u001b[1;33m\u001b[0m\u001b[0m\n\u001b[0;32m    451\u001b[0m     \u001b[1;31m# Create the parser.\u001b[0m\u001b[1;33m\u001b[0m\u001b[1;33m\u001b[0m\u001b[1;33m\u001b[0m\u001b[0m\n\u001b[1;32m--> 452\u001b[1;33m     \u001b[0mparser\u001b[0m \u001b[1;33m=\u001b[0m \u001b[0mTextFileReader\u001b[0m\u001b[1;33m(\u001b[0m\u001b[0mfp_or_buf\u001b[0m\u001b[1;33m,\u001b[0m \u001b[1;33m**\u001b[0m\u001b[0mkwds\u001b[0m\u001b[1;33m)\u001b[0m\u001b[1;33m\u001b[0m\u001b[1;33m\u001b[0m\u001b[0m\n\u001b[0m\u001b[0;32m    453\u001b[0m \u001b[1;33m\u001b[0m\u001b[0m\n\u001b[0;32m    454\u001b[0m     \u001b[1;32mif\u001b[0m \u001b[0mchunksize\u001b[0m \u001b[1;32mor\u001b[0m \u001b[0miterator\u001b[0m\u001b[1;33m:\u001b[0m\u001b[1;33m\u001b[0m\u001b[1;33m\u001b[0m\u001b[0m\n",
      "\u001b[1;32mc:\\users\\alexa\\appdata\\local\\programs\\python\\python38\\lib\\site-packages\\pandas\\io\\parsers.py\u001b[0m in \u001b[0;36m__init__\u001b[1;34m(self, f, engine, **kwds)\u001b[0m\n\u001b[0;32m    944\u001b[0m             \u001b[0mself\u001b[0m\u001b[1;33m.\u001b[0m\u001b[0moptions\u001b[0m\u001b[1;33m[\u001b[0m\u001b[1;34m\"has_index_names\"\u001b[0m\u001b[1;33m]\u001b[0m \u001b[1;33m=\u001b[0m \u001b[0mkwds\u001b[0m\u001b[1;33m[\u001b[0m\u001b[1;34m\"has_index_names\"\u001b[0m\u001b[1;33m]\u001b[0m\u001b[1;33m\u001b[0m\u001b[1;33m\u001b[0m\u001b[0m\n\u001b[0;32m    945\u001b[0m \u001b[1;33m\u001b[0m\u001b[0m\n\u001b[1;32m--> 946\u001b[1;33m         \u001b[0mself\u001b[0m\u001b[1;33m.\u001b[0m\u001b[0m_make_engine\u001b[0m\u001b[1;33m(\u001b[0m\u001b[0mself\u001b[0m\u001b[1;33m.\u001b[0m\u001b[0mengine\u001b[0m\u001b[1;33m)\u001b[0m\u001b[1;33m\u001b[0m\u001b[1;33m\u001b[0m\u001b[0m\n\u001b[0m\u001b[0;32m    947\u001b[0m \u001b[1;33m\u001b[0m\u001b[0m\n\u001b[0;32m    948\u001b[0m     \u001b[1;32mdef\u001b[0m \u001b[0mclose\u001b[0m\u001b[1;33m(\u001b[0m\u001b[0mself\u001b[0m\u001b[1;33m)\u001b[0m\u001b[1;33m:\u001b[0m\u001b[1;33m\u001b[0m\u001b[1;33m\u001b[0m\u001b[0m\n",
      "\u001b[1;32mc:\\users\\alexa\\appdata\\local\\programs\\python\\python38\\lib\\site-packages\\pandas\\io\\parsers.py\u001b[0m in \u001b[0;36m_make_engine\u001b[1;34m(self, engine)\u001b[0m\n\u001b[0;32m   1176\u001b[0m     \u001b[1;32mdef\u001b[0m \u001b[0m_make_engine\u001b[0m\u001b[1;33m(\u001b[0m\u001b[0mself\u001b[0m\u001b[1;33m,\u001b[0m \u001b[0mengine\u001b[0m\u001b[1;33m=\u001b[0m\u001b[1;34m\"c\"\u001b[0m\u001b[1;33m)\u001b[0m\u001b[1;33m:\u001b[0m\u001b[1;33m\u001b[0m\u001b[1;33m\u001b[0m\u001b[0m\n\u001b[0;32m   1177\u001b[0m         \u001b[1;32mif\u001b[0m \u001b[0mengine\u001b[0m \u001b[1;33m==\u001b[0m \u001b[1;34m\"c\"\u001b[0m\u001b[1;33m:\u001b[0m\u001b[1;33m\u001b[0m\u001b[1;33m\u001b[0m\u001b[0m\n\u001b[1;32m-> 1178\u001b[1;33m             \u001b[0mself\u001b[0m\u001b[1;33m.\u001b[0m\u001b[0m_engine\u001b[0m \u001b[1;33m=\u001b[0m \u001b[0mCParserWrapper\u001b[0m\u001b[1;33m(\u001b[0m\u001b[0mself\u001b[0m\u001b[1;33m.\u001b[0m\u001b[0mf\u001b[0m\u001b[1;33m,\u001b[0m \u001b[1;33m**\u001b[0m\u001b[0mself\u001b[0m\u001b[1;33m.\u001b[0m\u001b[0moptions\u001b[0m\u001b[1;33m)\u001b[0m\u001b[1;33m\u001b[0m\u001b[1;33m\u001b[0m\u001b[0m\n\u001b[0m\u001b[0;32m   1179\u001b[0m         \u001b[1;32melse\u001b[0m\u001b[1;33m:\u001b[0m\u001b[1;33m\u001b[0m\u001b[1;33m\u001b[0m\u001b[0m\n\u001b[0;32m   1180\u001b[0m             \u001b[1;32mif\u001b[0m \u001b[0mengine\u001b[0m \u001b[1;33m==\u001b[0m \u001b[1;34m\"python\"\u001b[0m\u001b[1;33m:\u001b[0m\u001b[1;33m\u001b[0m\u001b[1;33m\u001b[0m\u001b[0m\n",
      "\u001b[1;32mc:\\users\\alexa\\appdata\\local\\programs\\python\\python38\\lib\\site-packages\\pandas\\io\\parsers.py\u001b[0m in \u001b[0;36m__init__\u001b[1;34m(self, src, **kwds)\u001b[0m\n\u001b[0;32m   2006\u001b[0m         \u001b[0mkwds\u001b[0m\u001b[1;33m[\u001b[0m\u001b[1;34m\"usecols\"\u001b[0m\u001b[1;33m]\u001b[0m \u001b[1;33m=\u001b[0m \u001b[0mself\u001b[0m\u001b[1;33m.\u001b[0m\u001b[0musecols\u001b[0m\u001b[1;33m\u001b[0m\u001b[1;33m\u001b[0m\u001b[0m\n\u001b[0;32m   2007\u001b[0m \u001b[1;33m\u001b[0m\u001b[0m\n\u001b[1;32m-> 2008\u001b[1;33m         \u001b[0mself\u001b[0m\u001b[1;33m.\u001b[0m\u001b[0m_reader\u001b[0m \u001b[1;33m=\u001b[0m \u001b[0mparsers\u001b[0m\u001b[1;33m.\u001b[0m\u001b[0mTextReader\u001b[0m\u001b[1;33m(\u001b[0m\u001b[0msrc\u001b[0m\u001b[1;33m,\u001b[0m \u001b[1;33m**\u001b[0m\u001b[0mkwds\u001b[0m\u001b[1;33m)\u001b[0m\u001b[1;33m\u001b[0m\u001b[1;33m\u001b[0m\u001b[0m\n\u001b[0m\u001b[0;32m   2009\u001b[0m         \u001b[0mself\u001b[0m\u001b[1;33m.\u001b[0m\u001b[0munnamed_cols\u001b[0m \u001b[1;33m=\u001b[0m \u001b[0mself\u001b[0m\u001b[1;33m.\u001b[0m\u001b[0m_reader\u001b[0m\u001b[1;33m.\u001b[0m\u001b[0munnamed_cols\u001b[0m\u001b[1;33m\u001b[0m\u001b[1;33m\u001b[0m\u001b[0m\n\u001b[0;32m   2010\u001b[0m \u001b[1;33m\u001b[0m\u001b[0m\n",
      "\u001b[1;32mpandas\\_libs\\parsers.pyx\u001b[0m in \u001b[0;36mpandas._libs.parsers.TextReader.__cinit__\u001b[1;34m()\u001b[0m\n",
      "\u001b[1;32mpandas\\_libs\\parsers.pyx\u001b[0m in \u001b[0;36mpandas._libs.parsers.TextReader._setup_parser_source\u001b[1;34m()\u001b[0m\n",
      "\u001b[1;31mFileNotFoundError\u001b[0m: [Errno 2] No such file or directory: '../predictions/svm_predictions.csv'"
     ]
    }
   ],
   "source": [
    "# KNN\n",
    "\n",
    "knn_predictions = pd.read_csv(\"../predictions/knn_predictions.csv\")\n",
    "knn_over_predictions = pd.read_csv(\"../predictions/knn_over_predictions.csv\")\n",
    "knn_under_predictions = pd.read_csv(\"../predictions/knn_under_predictions.csv\")\n",
    "\n",
    "# DecisionTree \n",
    "\n",
    "dt_predictions = pd.read_csv(\"../predictions/decisionTree_predictions.csv\")\n",
    "dt_over_predictions = pd.read_csv(\"../predictions/decisionTree_over_predictions.csv\")\n",
    "dt_under_predictions = pd.read_csv(\"../predictions/decisionTree_under_predictions.csv\")\n",
    "\n",
    "# SVM \n",
    "\n",
    "#svm_predictions = pd.read_csv(\"../predictions/svm_predictions.csv\")\n",
    "#svm_over_predictions = pd.read_csv(\"../predictions/svm_over_predictions.csv\")\n",
    "#svm_under_predictions = pd.read_csv(\"../predictions/svm_under_predictions.csv\")\n",
    "\n",
    "# RandomForest\n",
    "\n",
    "rf_predictions = pd.read_csv(\"../predictions/randomForest_predictions.csv\")\n",
    "rf_over_predictions = pd.read_csv(\"../predictions/randomForest_over_predictions.csv\")\n",
    "rf_under_predictions = pd.read_csv(\"../predictions/randomForest_under_predictions.csv\")"
   ]
  },
  {
   "cell_type": "code",
   "execution_count": null,
   "metadata": {},
   "outputs": [],
   "source": [
    "# KNN\n",
    "\n",
    "y_test_knn = knn_predictions['Y_true']\n",
    "y_preds_knn = knn_predictions['Y_Pred_Prob']\n",
    "\n",
    "y_test_knn_over = knn_over_predictions['Y_true']\n",
    "y_preds_knn_over = knn_over_predictions['Y_Pred_Prob']\n",
    "\n",
    "y_test_knn_under = knn_under_predictions['Y_true']\n",
    "y_preds_knn_under = knn_under_predictions['Y_Pred_Prob']\n",
    "\n",
    "# DecisionTree\n",
    "\n",
    "y_test_dt = dt_predictions['Y_true']\n",
    "y_preds_dt = dt_predictions['Y_Pred_Prob']\n",
    "\n",
    "y_test_dt_over = dt_over_predictions['Y_true']\n",
    "y_preds_dt_over = dt_over_predictions['Y_Pred_Prob']\n",
    "\n",
    "y_test_dt_under = dt_under_predictions['Y_true']\n",
    "y_preds_dt_under = dt_under_predictions['Y_Pred_Prob']\n",
    "\n",
    "# SVM\n",
    "\n",
    "#y_test_svm = svm_predictions['Y_true']\n",
    "#y_preds_svm = svm_predictions['Y_Pred_Prob']\n",
    "\n",
    "#y_test_svm_over = svm_over_predictions['Y_true']\n",
    "#y_preds_svm_over = svm_over_predictions['Y_Pred_Prob']\n",
    "\n",
    "#y_test_svm_under = svm_under_predictions['Y_true']\n",
    "#y_preds_svm_under = svm_under_predictions['Y_Pred_Prob']\n",
    "\n",
    "# Random Forest\n",
    "\n",
    "y_test_rf = rf_predictions['Y_true']\n",
    "y_preds_rf = rf_predictions['Y_Pred_Prob']\n",
    "\n",
    "y_test_rf_over = rf_over_predictions['Y_true']\n",
    "y_preds_rf_over = rf_over_predictions['Y_Pred_Prob']\n",
    "\n",
    "y_test_rf_under = rf_under_predictions['Y_true']\n",
    "y_preds_rf_under = rf_under_predictions['Y_Pred_Prob']"
   ]
  },
  {
   "cell_type": "markdown",
   "metadata": {},
   "source": [
    "# ROC Curve "
   ]
  },
  {
   "cell_type": "code",
   "execution_count": null,
   "metadata": {},
   "outputs": [],
   "source": [
    "# ROC area for each class\n",
    "\n",
    "auc_knn = roc_auc_score(y_test_knn, y_preds_knn)\n",
    "print('AUC KNN: %.6f' % auc_knn)\n",
    "\n",
    "#auc_svm = roc_auc_score(y_test_svm, y_preds_svm)\n",
    "#print('AUC SVM: %.6f' % auc_svm)\n",
    "\n",
    "auc_dt = roc_auc_score(y_test_dt, y_preds_dt)\n",
    "print('AUC Decision Tree: %.6f' % auc_dt)\n",
    "\n",
    "auc_rf = roc_auc_score(y_test_rf, y_preds_rf)\n",
    "print('AUC Random Forest: %.6f' % auc_rf)"
   ]
  },
  {
   "cell_type": "code",
   "execution_count": null,
   "metadata": {},
   "outputs": [],
   "source": [
    "# Generating ROC Curve Plot\n",
    "\n",
    "# For the straight line\n",
    "straight_probs = [0 for _ in range(len(y_test_knn))]\n",
    "straight_fpr, straight_tpr, _ = roc_curve(y_test_knn, straight_probs)\n",
    "pyplot.plot(straight_fpr, straight_tpr, linestyle='--', label=\"TPR=FPR\")\n",
    "\n",
    "# For KNN Classifier\n",
    "knn_fpr, knn_tpr, _ = roc_curve(y_test_knn, y_preds_knn)\n",
    "pyplot.plot(knn_fpr, knn_tpr, linestyle='--', label='KNN Classifier ({:.2f})'.format(auc_knn))\n",
    "\n",
    "# For SVM Classifier\n",
    "#svm_fpr, svm_tpr, _ = roc_curve(y_test_svm, y_preds_svm)\n",
    "#pyplot.plot(svm_fpr, svm_tpr, linestyle='--', label='SVM Classifier ({:.2f})'.format(auc_svm))\n",
    "\n",
    "# For Decition Tree Classifier\n",
    "dt_fpr, dt_tpr, _ = roc_curve(y_test_dt, y_preds_dt)\n",
    "pyplot.plot(dt_fpr, dt_tpr, linestyle='--', label='Decision Tree Classifier ({:.2f})'.format(auc_dt))\n",
    "\n",
    "# For Random Forest Classifier\n",
    "rf_fpr, rf_tpr, _ = roc_curve(y_test_rf, y_preds_rf)\n",
    "pyplot.plot(rf_fpr, rf_tpr, linestyle='--', label='Random Forest Classifier ({:.2f})'.format(auc_rf))\n",
    "\n",
    "# To Plot\n",
    "pyplot.xlabel('False Positive Rate')\n",
    "pyplot.ylabel('True Positive Rate')\n",
    "pyplot.legend()\n",
    "pyplot.savefig(\"ROCCurve.png\")\n",
    "pyplot.show()"
   ]
  },
  {
   "cell_type": "markdown",
   "metadata": {},
   "source": [
    "# Oversampling"
   ]
  },
  {
   "cell_type": "code",
   "execution_count": null,
   "metadata": {},
   "outputs": [],
   "source": [
    "# ROC area for each class\n",
    "\n",
    "auc_knn = roc_auc_score(y_test_knn_over, y_preds_knn_over)\n",
    "print('AUC KNN: %.6f' % auc_knn)\n",
    "\n",
    "#auc_svm = roc_auc_score(y_test_svm_over, y_preds_svm_over)\n",
    "#print('AUC SVM: %.6f' % auc_svm)\n",
    "\n",
    "auc_dt = roc_auc_score(y_test_dt_over, y_preds_dt_over)\n",
    "print('AUC Decision Tree: %.6f' % auc_dt)\n",
    "\n",
    "auc_rf = roc_auc_score(y_test_rf_over, y_preds_rf_over)\n",
    "print('AUC Random Forest: %.6f' % auc_rf)"
   ]
  },
  {
   "cell_type": "code",
   "execution_count": null,
   "metadata": {},
   "outputs": [],
   "source": [
    "# Generating ROC Curve Plot\n",
    "\n",
    "# For the straight line\n",
    "straight_probs = [0 for _ in range(len(y_test_knn))]\n",
    "straight_fpr, straight_tpr, _ = roc_curve(y_test_knn, straight_probs)\n",
    "pyplot.plot(straight_fpr, straight_tpr, linestyle='--', label=\"TPR=FPR\")\n",
    "\n",
    "# For KNN Classifier\n",
    "knn_fpr, knn_tpr, _ = roc_curve(y_test_knn_over, y_preds_knn_over)\n",
    "pyplot.plot(knn_fpr, knn_tpr, linestyle='--', label='KNN Classifier ({:.2f})'.format(auc_knn))\n",
    "\n",
    "# For SVM Classifier\n",
    "#svm_fpr, svm_tpr, _ = roc_curve(y_test_svm_over, y_preds_svm_over)\n",
    "#pyplot.plot(svm_fpr, svm_tpr, linestyle='--', label='SVM Classifier ({:.2f})'.format(auc_svm))\n",
    "\n",
    "# For Decition Tree Classifier\n",
    "dt_fpr, dt_tpr, _ = roc_curve(y_test_dt_over, y_preds_dt_over)\n",
    "pyplot.plot(dt_fpr, dt_tpr, linestyle='--', label='Decision Tree Classifier ({:.2f})'.format(auc_dt))\n",
    "\n",
    "# For Random Forest Classifier\n",
    "rf_fpr, rf_tpr, _ = roc_curve(y_test_rf_over, y_preds_rf_over)\n",
    "pyplot.plot(rf_fpr, rf_tpr, linestyle='--', label='Random Forest Classifier ({:.2f})'.format(auc_rf))\n",
    "\n",
    "# To Plot\n",
    "pyplot.xlabel('False Positive Rate')\n",
    "pyplot.ylabel('True Positive Rate')\n",
    "pyplot.legend()\n",
    "pyplot.savefig(\"ROCCurve_over.png\")\n",
    "pyplot.show()"
   ]
  },
  {
   "cell_type": "markdown",
   "metadata": {},
   "source": [
    "# Undersampling"
   ]
  },
  {
   "cell_type": "code",
   "execution_count": null,
   "metadata": {},
   "outputs": [],
   "source": [
    "# ROC area for each class\n",
    "\n",
    "auc_knn = roc_auc_score(y_test_knn_under, y_preds_knn_under)\n",
    "print('AUC KNN: %.6f' % auc_knn)\n",
    "\n",
    "#auc_svm = roc_auc_score(y_test_svm_under, y_preds_svm_under)\n",
    "#print('AUC SVM: %.6f' % auc_svm)\n",
    "\n",
    "auc_dt = roc_auc_score(y_test_dt_under, y_preds_dt_under)\n",
    "print('AUC Decision Tree: %.6f' % auc_dt)\n",
    "\n",
    "auc_rf = roc_auc_score(y_test_rf_under, y_preds_rf_under)\n",
    "print('AUC Random Forest: %.6f' % auc_rf)"
   ]
  },
  {
   "cell_type": "code",
   "execution_count": null,
   "metadata": {},
   "outputs": [],
   "source": [
    "# Generating ROC Curve Plot\n",
    "\n",
    "# For the straight line\n",
    "straight_probs = [0 for _ in range(len(y_test_knn))]\n",
    "straight_fpr, straight_tpr, _ = roc_curve(y_test_knn, straight_probs)\n",
    "pyplot.plot(straight_fpr, straight_tpr, linestyle='--', label=\"TPR=FPR\")\n",
    "\n",
    "# For KNN Classifier\n",
    "knn_fpr, knn_tpr, _ = roc_curve(y_test_knn_under, y_preds_knn_under)\n",
    "pyplot.plot(knn_fpr, knn_tpr, linestyle='--', label='KNN Classifier ({:.2f})'.format(auc_knn))\n",
    "\n",
    "# For SVM Classifier\n",
    "#svm_fpr, svm_tpr, _ = roc_curve(y_test_svm_under, y_preds_svm_under)\n",
    "#pyplot.plot(svm_fpr, svm_tpr, linestyle='--', label='SVM Classifier ({:.2f})'.format(auc_svm))\n",
    "\n",
    "# For Decition Tree Classifier\n",
    "dt_fpr, dt_tpr, _ = roc_curve(y_test_dt_under, y_preds_dt_under)\n",
    "pyplot.plot(dt_fpr, dt_tpr, linestyle='--', label='Decision Tree Classifier ({:.2f})'.format(auc_dt))\n",
    "\n",
    "# For Random Forest Classifier\n",
    "rf_fpr, rf_tpr, _ = roc_curve(y_test_rf_under, y_preds_rf_under)\n",
    "pyplot.plot(rf_fpr, rf_tpr, linestyle='--', label='Random Forest Classifier ({:.2f})'.format(auc_rf))\n",
    "\n",
    "# To Plot\n",
    "pyplot.xlabel('False Positive Rate')\n",
    "pyplot.ylabel('True Positive Rate')\n",
    "pyplot.legend()\n",
    "pyplot.savefig(\"ROCCurve_under.png\")\n",
    "pyplot.show()"
   ]
  },
  {
   "cell_type": "markdown",
   "metadata": {},
   "source": [
    "# Precision-Recall Curve"
   ]
  },
  {
   "cell_type": "code",
   "execution_count": null,
   "metadata": {},
   "outputs": [],
   "source": [
    "precision_knn, recall_knn, _ = precision_recall_curve(y_test_knn, y_preds_knn)\n",
    "#precision_svm, recall_svm, _ = precision_recall_curve(y_test_svm, y_preds_svm)\n",
    "precision_dt, recall_dt, _ = precision_recall_curve(y_test_dt, y_preds_dt)\n",
    "precision_rf, recall_rf, _ = precision_recall_curve(y_test_rf, y_preds_rf)\n",
    "\n",
    "no_skill = len(y_test_knn[y_test_knn==1]) / len(y_test_knn)\n",
    "\n",
    "auc_score_knn = auc(recall_knn, precision_knn)\n",
    "auc_score_dt = auc(recall_dt, precision_dt)\n",
    "#auc_score_svm = auc(recall_svm, precision_svm)\n",
    "auc_score_rf = auc(recall_rf, precision_rf)"
   ]
  },
  {
   "cell_type": "code",
   "execution_count": null,
   "metadata": {},
   "outputs": [],
   "source": [
    "pyplot.plot([0, 1], [no_skill, no_skill], linestyle='--', label='No Skill')\n",
    "\n",
    "pyplot.plot(recall_knn, precision_knn, marker='.', label='KNN ({:.2f})'.format(auc_score_knn))\n",
    "#pyplot.plot(recall_svm, precision_svm, marker='.', label='SVM ({:.2f})'.format(auc_score_svm))\n",
    "pyplot.plot(recall_dt, precision_dt, marker='.', label='Decision Tree ({:.2f})'.format(auc_score_dt))\n",
    "pyplot.plot(recall_rf, precision_rf, marker='.', label='Random Forest ({:.2f})'.format(auc_score_rf))\n",
    "\n",
    "# axis labels\n",
    "pyplot.xlabel('Recall')\n",
    "pyplot.ylabel('Precision')\n",
    "# show the legend\n",
    "pyplot.legend()\n",
    "# show the plot\n",
    "pyplot.savefig(\"PRCurve.png\")\n",
    "pyplot.show()"
   ]
  },
  {
   "cell_type": "code",
   "execution_count": null,
   "metadata": {},
   "outputs": [],
   "source": []
  }
 ],
 "metadata": {
  "kernelspec": {
   "display_name": "Python 3",
   "language": "python",
   "name": "python3"
  },
  "language_info": {
   "codemirror_mode": {
    "name": "ipython",
    "version": 3
   },
   "file_extension": ".py",
   "mimetype": "text/x-python",
   "name": "python",
   "nbconvert_exporter": "python",
   "pygments_lexer": "ipython3",
   "version": "3.8.5"
  }
 },
 "nbformat": 4,
 "nbformat_minor": 4
}

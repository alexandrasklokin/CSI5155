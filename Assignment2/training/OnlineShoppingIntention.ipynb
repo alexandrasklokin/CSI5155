{
 "cells": [
  {
   "cell_type": "code",
   "execution_count": 3,
   "metadata": {},
   "outputs": [],
   "source": [
    "import ipynb\n",
    "import pandas as pd\n",
    "import numpy as np\n",
    "\n",
    "from sklearn.neighbors import KNeighborsClassifier\n",
    "from sklearn.svm import SVC\n",
    "from sklearn.tree import DecisionTreeClassifier\n",
    "from sklearn.ensemble import RandomForestClassifier\n",
    "from sklearn.neural_network import MLPClassifier\n",
    "from sklearn.ensemble import GradientBoostingClassifier"
   ]
  },
  {
   "cell_type": "code",
   "execution_count": 4,
   "metadata": {},
   "outputs": [],
   "source": [
    "from ipynb.fs.full.TrainingFunction import Training_Repeat\n",
    "from ipynb.fs.full.TrainingFunction import SavePredictionsToFile\n",
    "\n",
    "from ipynb.fs.full.ParameterTuning import ParameterTuning"
   ]
  },
  {
   "cell_type": "code",
   "execution_count": 5,
   "metadata": {},
   "outputs": [
    {
     "name": "stdout",
     "output_type": "stream",
     "text": [
      "Revenue distribution:\n",
      "0    10422\n",
      "1     1908\n",
      "Name: Revenue, dtype: int64\n"
     ]
    }
   ],
   "source": [
    "preprocessed_df = pd.read_csv(\"../data/preprocessedOnlineShoppingData.csv\", index_col=0)\n",
    "\n",
    "categorical_features = ['VisitorType_New_Visitor', 'VisitorType_Other', 'VisitorType_Returning_Visitor', 'Month_Aug', 'Month_Dec', 'Month_Feb', 'Month_Jul', 'Month_June', 'Month_Mar', 'Month_May', 'Month_Nov', 'Month_Oct', 'Month_Sep']\n",
    "target = \"Revenue\"\n",
    "\n",
    "# Convert categorical feature types\n",
    "preprocessed_df[categorical_features] = preprocessed_df[categorical_features].astype('category') \n",
    "preprocessed_df[target] = preprocessed_df[target].astype('category') \n",
    "\n",
    "print('Revenue distribution:\\n'+ str(preprocessed_df['Revenue'].value_counts()))"
   ]
  },
  {
   "cell_type": "code",
   "execution_count": 6,
   "metadata": {},
   "outputs": [
    {
     "name": "stdout",
     "output_type": "stream",
     "text": [
      "Random over-sampling:\n",
      "1    10422\n",
      "0    10422\n",
      "Name: Revenue, dtype: int64\n"
     ]
    }
   ],
   "source": [
    "# Balancing (oversampling)\n",
    "count_class_0, count_class_1 = preprocessed_df['Revenue'].value_counts()\n",
    "df_class_0 = preprocessed_df[preprocessed_df['Revenue'] == 0]\n",
    "df_class_1 = preprocessed_df[preprocessed_df['Revenue'] == 1]\n",
    "# Oversample\n",
    "df_class_1_over = df_class_1.sample(count_class_0, replace=True)\n",
    "oversampled_df = pd.concat([df_class_0, df_class_1_over], axis=0)\n",
    "# Split back into X_train and y_train    \n",
    "print('Random over-sampling:\\n'+ str(oversampled_df['Revenue'].value_counts()))"
   ]
  },
  {
   "cell_type": "markdown",
   "metadata": {},
   "source": [
    "# KNN"
   ]
  },
  {
   "cell_type": "code",
   "execution_count": 7,
   "metadata": {},
   "outputs": [
    {
     "name": "stdout",
     "output_type": "stream",
     "text": [
      "__________________________________________________________________________________Iteration:0\n",
      "Accuracy: 0.853 (0.008)\n",
      "__________________________________________________________________________________Iteration:1\n",
      "Accuracy: 0.850 (0.009)\n",
      "__________________________________________________________________________________Iteration:2\n",
      "Accuracy: 0.850 (0.006)\n",
      "__________________________________________________________________________________Iteration:3\n",
      "Accuracy: 0.848 (0.009)\n",
      "__________________________________________________________________________________Iteration:4\n",
      "Accuracy: 0.851 (0.008)\n",
      "__________________________________________________________________________________Iteration:5\n",
      "Accuracy: 0.850 (0.008)\n",
      "__________________________________________________________________________________Iteration:6\n",
      "Accuracy: 0.852 (0.010)\n",
      "__________________________________________________________________________________Iteration:7\n",
      "Accuracy: 0.853 (0.007)\n",
      "__________________________________________________________________________________Iteration:8\n",
      "Accuracy: 0.851 (0.008)\n",
      "__________________________________________________________________________________Iteration:9\n",
      "Accuracy: 0.851 (0.006)\n"
     ]
    }
   ],
   "source": [
    "knn_model = KNeighborsClassifier(n_neighbors=13, algorithm = 'brute', metric='manhattan', weights='uniform')\n",
    "\n",
    "knn_stats = Training_Repeat(oversampled_df.copy(), target, knn_model)\n",
    "SavePredictionsToFile(\"../accuracy/OnlineShoppingKNN.csv\", knn_stats)"
   ]
  },
  {
   "cell_type": "markdown",
   "metadata": {},
   "source": [
    "# Random Forest"
   ]
  },
  {
   "cell_type": "code",
   "execution_count": 8,
   "metadata": {},
   "outputs": [
    {
     "name": "stdout",
     "output_type": "stream",
     "text": [
      "__________________________________________________________________________________Iteration:0\n",
      "Accuracy: 0.884 (0.006)\n",
      "__________________________________________________________________________________Iteration:1\n",
      "Accuracy: 0.884 (0.009)\n",
      "__________________________________________________________________________________Iteration:2\n",
      "Accuracy: 0.883 (0.004)\n",
      "__________________________________________________________________________________Iteration:3\n",
      "Accuracy: 0.883 (0.006)\n",
      "__________________________________________________________________________________Iteration:4\n",
      "Accuracy: 0.884 (0.007)\n",
      "__________________________________________________________________________________Iteration:5\n",
      "Accuracy: 0.883 (0.010)\n",
      "__________________________________________________________________________________Iteration:6\n",
      "Accuracy: 0.884 (0.008)\n",
      "__________________________________________________________________________________Iteration:7\n",
      "Accuracy: 0.884 (0.008)\n",
      "__________________________________________________________________________________Iteration:8\n",
      "Accuracy: 0.882 (0.005)\n",
      "__________________________________________________________________________________Iteration:9\n",
      "Accuracy: 0.884 (0.006)\n"
     ]
    }
   ],
   "source": [
    "rf_model = RandomForestClassifier(bootstrap= True, max_depth=10, max_features= 8, min_samples_leaf= 5, min_samples_split = 8, n_estimators = 100)\n",
    "\n",
    "rf_stats = Training_Repeat(oversampled_df.copy(), target, rf_model)\n",
    "SavePredictionsToFile(\"../accuracy/OnlineShoppingRF.csv\", rf_stats)"
   ]
  },
  {
   "cell_type": "markdown",
   "metadata": {},
   "source": [
    "# Decision Tree"
   ]
  },
  {
   "cell_type": "code",
   "execution_count": 9,
   "metadata": {},
   "outputs": [
    {
     "name": "stdout",
     "output_type": "stream",
     "text": [
      "__________________________________________________________________________________Iteration:0\n",
      "Accuracy: 0.852 (0.010)\n",
      "__________________________________________________________________________________Iteration:1\n",
      "Accuracy: 0.852 (0.009)\n",
      "__________________________________________________________________________________Iteration:2\n",
      "Accuracy: 0.854 (0.011)\n",
      "__________________________________________________________________________________Iteration:3\n",
      "Accuracy: 0.853 (0.007)\n",
      "__________________________________________________________________________________Iteration:4\n",
      "Accuracy: 0.853 (0.007)\n",
      "__________________________________________________________________________________Iteration:5\n",
      "Accuracy: 0.853 (0.008)\n",
      "__________________________________________________________________________________Iteration:6\n",
      "Accuracy: 0.853 (0.006)\n",
      "__________________________________________________________________________________Iteration:7\n",
      "Accuracy: 0.854 (0.009)\n",
      "__________________________________________________________________________________Iteration:8\n",
      "Accuracy: 0.852 (0.006)\n",
      "__________________________________________________________________________________Iteration:9\n",
      "Accuracy: 0.853 (0.005)\n"
     ]
    }
   ],
   "source": [
    "dt_model = DecisionTreeClassifier(criterion='gini', max_depth= 4, min_samples_leaf= 3, min_samples_split = 2)\n",
    "\n",
    "dt_stats = Training_Repeat(oversampled_df.copy(), target, dt_model)\n",
    "SavePredictionsToFile(\"../accuracy/OnlineShoppingDT.csv\", dt_stats)"
   ]
  },
  {
   "cell_type": "markdown",
   "metadata": {},
   "source": [
    "# Support Vector Machine"
   ]
  },
  {
   "cell_type": "code",
   "execution_count": 10,
   "metadata": {
    "scrolled": true
   },
   "outputs": [
    {
     "name": "stdout",
     "output_type": "stream",
     "text": [
      "__________________________________________________________________________________Iteration:0\n",
      "Accuracy: 0.822 (0.006)\n",
      "__________________________________________________________________________________Iteration:1\n",
      "Accuracy: 0.822 (0.008)\n",
      "__________________________________________________________________________________Iteration:2\n",
      "Accuracy: 0.822 (0.010)\n",
      "__________________________________________________________________________________Iteration:3\n",
      "Accuracy: 0.821 (0.006)\n",
      "__________________________________________________________________________________Iteration:4\n",
      "Accuracy: 0.821 (0.005)\n",
      "__________________________________________________________________________________Iteration:5\n",
      "Accuracy: 0.822 (0.012)\n",
      "__________________________________________________________________________________Iteration:6\n",
      "Accuracy: 0.821 (0.007)\n",
      "__________________________________________________________________________________Iteration:7\n",
      "Accuracy: 0.822 (0.008)\n",
      "__________________________________________________________________________________Iteration:8\n",
      "Accuracy: 0.822 (0.009)\n",
      "__________________________________________________________________________________Iteration:9\n",
      "Accuracy: 0.821 (0.005)\n"
     ]
    }
   ],
   "source": [
    "svm_model = SVC(kernel= 'linear')\n",
    "\n",
    "svm_stats = Training_Repeat(oversampled_df.copy(), target, svm_model)\n",
    "SavePredictionsToFile(\"../accuracy/OnlineShoppingSVM.csv\", svm_stats)"
   ]
  },
  {
   "cell_type": "markdown",
   "metadata": {},
   "source": [
    "# Multi Layer Perceptron"
   ]
  },
  {
   "cell_type": "code",
   "execution_count": 11,
   "metadata": {},
   "outputs": [
    {
     "name": "stdout",
     "output_type": "stream",
     "text": [
      "Fitting 3 folds for each of 32 candidates, totalling 96 fits\n"
     ]
    },
    {
     "name": "stderr",
     "output_type": "stream",
     "text": [
      "[Parallel(n_jobs=-1)]: Using backend LokyBackend with 4 concurrent workers.\n",
      "[Parallel(n_jobs=-1)]: Done  42 tasks      | elapsed:  2.2min\n",
      "[Parallel(n_jobs=-1)]: Done  96 out of  96 | elapsed:  5.1min finished\n"
     ]
    },
    {
     "name": "stdout",
     "output_type": "stream",
     "text": [
      "{'activation': 'relu', 'alpha': 0.0001, 'hidden_layer_sizes': (10, 30, 10), 'learning_rate': 'adaptive', 'solver': 'adam'}\n"
     ]
    }
   ],
   "source": [
    "# Hyperparameter Tuning\n",
    "\n",
    "grid_params = {\n",
    "    'hidden_layer_sizes': [(10,30,10),(20,)],\n",
    "    'activation': ['tanh', 'relu'],\n",
    "    'solver': ['sgd', 'adam'],\n",
    "    'alpha': [0.0001, 0.05],\n",
    "    'learning_rate': ['constant','adaptive'],\n",
    "}\n",
    "\n",
    "ParameterTuning (oversampled_df.copy(), target, MLPClassifier(), grid_params)"
   ]
  },
  {
   "cell_type": "code",
   "execution_count": 13,
   "metadata": {},
   "outputs": [
    {
     "name": "stdout",
     "output_type": "stream",
     "text": [
      "__________________________________________________________________________________Iteration:0\n",
      "Accuracy: 0.869 (0.006)\n",
      "__________________________________________________________________________________Iteration:1\n",
      "Accuracy: 0.871 (0.009)\n",
      "__________________________________________________________________________________Iteration:2\n",
      "Accuracy: 0.871 (0.007)\n",
      "__________________________________________________________________________________Iteration:3\n",
      "Accuracy: 0.867 (0.006)\n",
      "__________________________________________________________________________________Iteration:4\n",
      "Accuracy: 0.867 (0.009)\n",
      "__________________________________________________________________________________Iteration:5\n",
      "Accuracy: 0.867 (0.008)\n",
      "__________________________________________________________________________________Iteration:6\n",
      "Accuracy: 0.867 (0.010)\n",
      "__________________________________________________________________________________Iteration:7\n",
      "Accuracy: 0.865 (0.010)\n",
      "__________________________________________________________________________________Iteration:8\n",
      "Accuracy: 0.866 (0.007)\n",
      "__________________________________________________________________________________Iteration:9\n",
      "Accuracy: 0.867 (0.009)\n"
     ]
    }
   ],
   "source": [
    "mlp_model = MLPClassifier(activation='relu', alpha=0.0001, hidden_layer_sizes=(10, 30, 10), learning_rate='adaptive', solver='adam')\n",
    "\n",
    "mlp_stats = Training_Repeat(oversampled_df.copy(), target, mlp_model)\n",
    "SavePredictionsToFile(\"../accuracy/OnlineShoppingMLP.csv\", mlp_stats)"
   ]
  },
  {
   "cell_type": "markdown",
   "metadata": {},
   "source": [
    "# Gradient Boosting Ensemble"
   ]
  },
  {
   "cell_type": "code",
   "execution_count": 14,
   "metadata": {},
   "outputs": [
    {
     "name": "stdout",
     "output_type": "stream",
     "text": [
      "Fitting 3 folds for each of 100 candidates, totalling 300 fits\n"
     ]
    },
    {
     "name": "stderr",
     "output_type": "stream",
     "text": [
      "[Parallel(n_jobs=-1)]: Using backend LokyBackend with 4 concurrent workers.\n",
      "[Parallel(n_jobs=-1)]: Done  42 tasks      | elapsed:   38.6s\n",
      "[Parallel(n_jobs=-1)]: Done 192 tasks      | elapsed:  4.9min\n",
      "[Parallel(n_jobs=-1)]: Done 300 out of 300 | elapsed:  8.4min finished\n"
     ]
    },
    {
     "name": "stdout",
     "output_type": "stream",
     "text": [
      "{'learning_rate': 1, 'max_depth': 9, 'n_estimators': 500}\n"
     ]
    }
   ],
   "source": [
    "# Hyperparameter Tuning\n",
    "\n",
    "grid_params = {\n",
    "    \"n_estimators\":[5,50,250,500],\n",
    "    \"max_depth\":[1,3,5,7,9],\n",
    "    \"learning_rate\":[0.01,0.1,1,10,100]\n",
    "}\n",
    "\n",
    "ParameterTuning (oversampled_df.copy(), target, GradientBoostingClassifier(), grid_params)"
   ]
  },
  {
   "cell_type": "code",
   "execution_count": 15,
   "metadata": {},
   "outputs": [
    {
     "name": "stdout",
     "output_type": "stream",
     "text": [
      "__________________________________________________________________________________Iteration:0\n",
      "Accuracy: 0.962 (0.004)\n",
      "__________________________________________________________________________________Iteration:1\n",
      "Accuracy: 0.966 (0.006)\n",
      "__________________________________________________________________________________Iteration:2\n",
      "Accuracy: 0.965 (0.003)\n",
      "__________________________________________________________________________________Iteration:3\n",
      "Accuracy: 0.963 (0.004)\n",
      "__________________________________________________________________________________Iteration:4\n",
      "Accuracy: 0.965 (0.005)\n",
      "__________________________________________________________________________________Iteration:5\n",
      "Accuracy: 0.963 (0.005)\n",
      "__________________________________________________________________________________Iteration:6\n",
      "Accuracy: 0.963 (0.004)\n",
      "__________________________________________________________________________________Iteration:7\n",
      "Accuracy: 0.964 (0.004)\n",
      "__________________________________________________________________________________Iteration:8\n",
      "Accuracy: 0.963 (0.003)\n",
      "__________________________________________________________________________________Iteration:9\n",
      "Accuracy: 0.965 (0.005)\n"
     ]
    }
   ],
   "source": [
    "gde_model = GradientBoostingClassifier(learning_rate=1, max_depth=9, n_estimators=500)\n",
    "\n",
    "gde_stats = Training_Repeat(oversampled_df.copy(), target, gde_model)\n",
    "SavePredictionsToFile(\"../accuracy/OnlineShoppingGDE.csv\", gde_stats)"
   ]
  },
  {
   "cell_type": "markdown",
   "metadata": {},
   "source": [
    "# Overall Results"
   ]
  },
  {
   "cell_type": "code",
   "execution_count": 19,
   "metadata": {},
   "outputs": [
    {
     "name": "stdout",
     "output_type": "stream",
     "text": [
      "1 & 0.85276 & 0.82172 & 0.85195 & 0.88395 & 0.86884 & 0.96167 \\\\ \\hline \n",
      "2 & 0.85037 & 0.82163 & 0.85219 & 0.88390 & 0.87109 & 0.96594 \\\\ \\hline \n",
      "3 & 0.85032 & 0.82153 & 0.85372 & 0.88347 & 0.87071 & 0.96507 \\\\ \\hline \n",
      "4 & 0.84845 & 0.82144 & 0.85329 & 0.88265 & 0.86716 & 0.96287 \\\\ \\hline \n",
      "5 & 0.85113 & 0.82124 & 0.85319 & 0.88352 & 0.86716 & 0.96455 \\\\ \\hline \n",
      "6 & 0.84974 & 0.82158 & 0.85257 & 0.88308 & 0.86720 & 0.96296 \\\\ \\hline \n",
      "7 & 0.85204 & 0.82148 & 0.85252 & 0.88352 & 0.86720 & 0.96335 \\\\ \\hline \n",
      "8 & 0.85291 & 0.82163 & 0.85353 & 0.88395 & 0.86548 & 0.96445 \\\\ \\hline \n",
      "9 & 0.85060 & 0.82206 & 0.85214 & 0.88241 & 0.86600 & 0.96291 \\\\ \\hline \n",
      "10 & 0.85056 & 0.82115 & 0.85334 & 0.88351 & 0.86720 & 0.96493 \\\\ \\hline \n",
      "\n"
     ]
    }
   ],
   "source": [
    "# To copy-paste into the report\n",
    "\n",
    "outputString = \"\"\n",
    "\n",
    "for i in range (10):\n",
    "    outputString = outputString+str(i+1)+' & %.5f & %.5f & %.5f & %.5f & %.5f & %.5f \\\\\\ \\\\hline \\n' % (knn_stats[i],svm_stats[i],dt_stats[i],rf_stats[i],mlp_stats[i],gde_stats[i])\n",
    "    \n",
    "print(outputString)"
   ]
  },
  {
   "cell_type": "code",
   "execution_count": null,
   "metadata": {},
   "outputs": [],
   "source": []
  }
 ],
 "metadata": {
  "kernelspec": {
   "display_name": "Python 3",
   "language": "python",
   "name": "python3"
  },
  "language_info": {
   "codemirror_mode": {
    "name": "ipython",
    "version": 3
   },
   "file_extension": ".py",
   "mimetype": "text/x-python",
   "name": "python",
   "nbconvert_exporter": "python",
   "pygments_lexer": "ipython3",
   "version": "3.8.5"
  }
 },
 "nbformat": 4,
 "nbformat_minor": 4
}

{
 "cells": [
  {
   "cell_type": "code",
   "execution_count": 1,
   "metadata": {},
   "outputs": [],
   "source": [
    "import ipynb\n",
    "import pandas as pd\n",
    "import numpy as np\n",
    "\n",
    "from sklearn.neighbors import KNeighborsClassifier\n",
    "from sklearn.svm import SVC\n",
    "from sklearn.tree import DecisionTreeClassifier\n",
    "from sklearn.ensemble import RandomForestClassifier\n",
    "from sklearn.neural_network import MLPClassifier\n",
    "from sklearn.ensemble import GradientBoostingClassifier\n",
    "\n",
    "from sklearn.preprocessing import OrdinalEncoder\n",
    "from numpy import asarray\n",
    "from statistics import mean"
   ]
  },
  {
   "cell_type": "code",
   "execution_count": 2,
   "metadata": {},
   "outputs": [],
   "source": [
    "import warnings\n",
    "warnings.filterwarnings('ignore')"
   ]
  },
  {
   "cell_type": "code",
   "execution_count": 3,
   "metadata": {},
   "outputs": [],
   "source": [
    "from ipynb.fs.full.TrainingFunction import Train_Models_CV10\n",
    "from ipynb.fs.full.TrainingFunction import SavePredictionsToFile\n",
    "\n",
    "from ipynb.fs.full.ParameterTuning import ParameterTuning"
   ]
  },
  {
   "cell_type": "code",
   "execution_count": 4,
   "metadata": {},
   "outputs": [
    {
     "name": "stdout",
     "output_type": "stream",
     "text": [
      "Revenue distribution:\n",
      "0    10422\n",
      "1     1908\n",
      "Name: Revenue, dtype: int64\n"
     ]
    }
   ],
   "source": [
    "preprocessed_df = pd.read_csv(\"../data/preprocessedOnlineShoppingData.csv\", index_col=0)\n",
    "\n",
    "categorical_features = ['VisitorType_New_Visitor', 'VisitorType_Other', 'VisitorType_Returning_Visitor', 'Month_Aug', 'Month_Dec', 'Month_Feb', 'Month_Jul', 'Month_June', 'Month_Mar', 'Month_May', 'Month_Nov', 'Month_Oct', 'Month_Sep']\n",
    "target = \"Revenue\"\n",
    "\n",
    "# Convert categorical feature types\n",
    "preprocessed_df[categorical_features] = preprocessed_df[categorical_features].astype('category') \n",
    "preprocessed_df[target] = preprocessed_df[target].astype('category') \n",
    "\n",
    "print('Revenue distribution:\\n'+ str(preprocessed_df['Revenue'].value_counts()))"
   ]
  },
  {
   "cell_type": "code",
   "execution_count": 5,
   "metadata": {},
   "outputs": [
    {
     "name": "stdout",
     "output_type": "stream",
     "text": [
      "Random over-sampling:\n",
      "1    10422\n",
      "0    10422\n",
      "Name: Revenue, dtype: int64\n"
     ]
    }
   ],
   "source": [
    "# Balancing (oversampling)\n",
    "count_class_0, count_class_1 = preprocessed_df['Revenue'].value_counts()\n",
    "df_class_0 = preprocessed_df[preprocessed_df['Revenue'] == 0]\n",
    "df_class_1 = preprocessed_df[preprocessed_df['Revenue'] == 1]\n",
    "# Oversample\n",
    "df_class_1_over = df_class_1.sample(count_class_0, replace=True)\n",
    "oversampled_df = pd.concat([df_class_0, df_class_1_over], axis=0)\n",
    "# Split back into X_train and y_train    \n",
    "print('Random over-sampling:\\n'+ str(oversampled_df['Revenue'].value_counts()))"
   ]
  },
  {
   "cell_type": "markdown",
   "metadata": {},
   "source": [
    "# Models"
   ]
  },
  {
   "cell_type": "markdown",
   "metadata": {},
   "source": [
    "Get Parameters from \"OnlineShoppingIntention_ParameterTuning\""
   ]
  },
  {
   "cell_type": "code",
   "execution_count": 6,
   "metadata": {},
   "outputs": [],
   "source": [
    "knn_model = KNeighborsClassifier(n_neighbors=13, algorithm = 'brute', metric='manhattan', weights='uniform')\n",
    "rf_model = RandomForestClassifier(bootstrap= True, max_depth=10, max_features= 8, min_samples_leaf= 5, min_samples_split = 8, n_estimators = 100)\n",
    "dt_model = DecisionTreeClassifier(criterion='gini', max_depth= 4, min_samples_leaf= 3, min_samples_split = 2)\n",
    "svm_model = SVC(kernel= 'linear')\n",
    "mlp_model = MLPClassifier(activation='relu', alpha=0.0001, hidden_layer_sizes=(10, 30, 10), learning_rate='adaptive', solver='adam')\n",
    "gde_model = GradientBoostingClassifier(learning_rate=1, max_depth=9, n_estimators=500)\n",
    "\n",
    "models = [knn_model, svm_model, dt_model, rf_model, mlp_model, gde_model]\n",
    "\n",
    "model_names = []\n",
    "\n",
    "for mod in models:\n",
    "    model_names.append(type(mod).__name__)"
   ]
  },
  {
   "cell_type": "code",
   "execution_count": 7,
   "metadata": {},
   "outputs": [
    {
     "name": "stdout",
     "output_type": "stream",
     "text": [
      "Fold 1\n",
      "Fold 2\n",
      "Fold 3\n",
      "Fold 4\n",
      "Fold 5\n",
      "Fold 6\n",
      "Fold 7\n",
      "Fold 8\n",
      "Fold 9\n",
      "Fold 10\n"
     ]
    }
   ],
   "source": [
    "stats = Train_Models_CV10 (preprocessed_df, target, models)"
   ]
  },
  {
   "cell_type": "code",
   "execution_count": 8,
   "metadata": {},
   "outputs": [
    {
     "name": "stdout",
     "output_type": "stream",
     "text": [
      "{'KNeighborsClassifier': [0.8856447688564477, 0.8880778588807786, 0.8856447688564477, 0.8880778588807786, 0.9010543390105434, 0.8824006488240065, 0.8880778588807786, 0.8856447688564477, 0.884022708840227, 0.8905109489051095], 'SVC': [0.8815896188158961, 0.8905109489051095, 0.884022708840227, 0.878345498783455, 0.8921330089213301, 0.8807785888077859, 0.8791565287915653, 0.8807785888077859, 0.8880778588807786, 0.8953771289537713], 'DecisionTreeClassifier': [0.894566098945661, 0.9002433090024331, 0.894566098945661, 0.8929440389294404, 0.9156528791565288, 0.8937550689375506, 0.8929440389294404, 0.8994322789943228, 0.8913219789132197, 0.8978102189781022], 'RandomForestClassifier': [0.9075425790754258, 0.9075425790754258, 0.8953771289537713, 0.8978102189781022, 0.916463909164639, 0.8994322789943228, 0.8986212489862125, 0.9051094890510949, 0.8969991889699919, 0.9099756690997567], 'MLPClassifier': [0.9034874290348743, 0.9067315490673155, 0.8978102189781022, 0.8913219789132197, 0.9221411192214112, 0.8961881589618816, 0.8872668288726683, 0.9018653690186537, 0.894566098945661, 0.9042984590429846], 'GradientBoostingClassifier': [0.878345498783455, 0.894566098945661, 0.6690997566909975, 0.8718572587185726, 0.8969991889699919, 0.8572587185725872, 0.8799675587996756, 0.8815896188158961, 0.8799675587996756, 0.8434712084347121]}\n"
     ]
    }
   ],
   "source": [
    "print(stats)"
   ]
  },
  {
   "cell_type": "code",
   "execution_count": 13,
   "metadata": {},
   "outputs": [
    {
     "name": "stdout",
     "output_type": "stream",
     "text": [
      "      KNN       SVM       DT         RF        MLP       GDE\n",
      "1 & 0.88564 & 0.88159 & 0.89457 & 0.90754 & 0.90349 & 0.87835 \\\\ \\hline \n",
      "2 & 0.88808 & 0.89051 & 0.90024 & 0.90754 & 0.90673 & 0.89457 \\\\ \\hline \n",
      "3 & 0.88564 & 0.88402 & 0.89457 & 0.89538 & 0.89781 & 0.66910 \\\\ \\hline \n",
      "4 & 0.88808 & 0.87835 & 0.89294 & 0.89781 & 0.89132 & 0.87186 \\\\ \\hline \n",
      "5 & 0.90105 & 0.89213 & 0.91565 & 0.91646 & 0.92214 & 0.89700 \\\\ \\hline \n",
      "6 & 0.88240 & 0.88078 & 0.89376 & 0.89943 & 0.89619 & 0.85726 \\\\ \\hline \n",
      "7 & 0.88808 & 0.87916 & 0.89294 & 0.89862 & 0.88727 & 0.87997 \\\\ \\hline \n",
      "8 & 0.88564 & 0.88078 & 0.89943 & 0.90511 & 0.90187 & 0.88159 \\\\ \\hline \n",
      "9 & 0.88402 & 0.88808 & 0.89132 & 0.89700 & 0.89457 & 0.87997 \\\\ \\hline \n",
      "10 & 0.89051 & 0.89538 & 0.89781 & 0.90998 & 0.90430 & 0.84347 \\\\ \\hline \n",
      "avg & 0.88792 & 0.88508 & 0.89732 & 0.90349 & 0.90057 & 0.85531 \\\\ \\hline \n",
      "std & 0.00490 & 0.00570 & 0.00672 & 0.00653 & 0.00923 & 0.06388 \\\\ \\hline \n",
      "\n"
     ]
    }
   ],
   "source": [
    "# To copy-paste into the report\n",
    "\n",
    "outputString = \"\"\n",
    "print(\"      KNN       SVM       DT         RF        MLP       GDE\")\n",
    "for i in range (10):\n",
    "    outputString = outputString+str(i+1)+' & %.5f & %.5f & %.5f & %.5f & %.5f & %.5f \\\\\\ \\\\hline \\n' % (stats[model_names[0]][i],stats[model_names[1]][i],stats[model_names[2]][i],stats[model_names[3]][i],stats[model_names[4]][i],stats[model_names[5]][i])\n",
    "\n",
    "outputString = outputString+'\\\\hline avg'+' & %.5f & %.5f & %.5f & %.5f & %.5f & %.5f \\\\\\ \\\\hline \\n' % (mean(stats[model_names[0]]),mean(stats[model_names[1]]),mean(stats[model_names[2]]),mean(stats[model_names[3]]),mean(stats[model_names[4]]),mean(stats[model_names[5]]))\n",
    "outputString = outputString+'std'+' & %.5f & %.5f & %.5f & %.5f & %.5f & %.5f \\\\\\ \\\\hline \\n' % (np.std(stats[model_names[0]]),np.std(stats[model_names[1]]),np.std(stats[model_names[2]]),np.std(stats[model_names[3]]),np.std(stats[model_names[4]]),np.std(stats[model_names[5]]))\n",
    "    \n",
    "print(outputString)"
   ]
  },
  {
   "cell_type": "code",
   "execution_count": 10,
   "metadata": {},
   "outputs": [],
   "source": [
    "SavePredictionsToFile(\"../accuracy/accuracyOnlineShopping.csv\", stats)"
   ]
  },
  {
   "cell_type": "code",
   "execution_count": null,
   "metadata": {},
   "outputs": [],
   "source": []
  }
 ],
 "metadata": {
  "kernelspec": {
   "display_name": "Python 3",
   "language": "python",
   "name": "python3"
  },
  "language_info": {
   "codemirror_mode": {
    "name": "ipython",
    "version": 3
   },
   "file_extension": ".py",
   "mimetype": "text/x-python",
   "name": "python",
   "nbconvert_exporter": "python",
   "pygments_lexer": "ipython3",
   "version": "3.8.5"
  }
 },
 "nbformat": 4,
 "nbformat_minor": 4
}
